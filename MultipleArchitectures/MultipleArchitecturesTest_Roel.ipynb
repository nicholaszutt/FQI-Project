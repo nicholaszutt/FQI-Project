{
 "cells": [
  {
   "cell_type": "code",
   "execution_count": null,
   "metadata": {},
   "outputs": [],
   "source": [
    "# imports from Qiskit\n",
    "from numpy import pi\n",
    "from qiskit import *\n",
    "from qiskit.visualization import plot_histogram\n",
    "from qiskit.tools.monitor import job_monitor\n",
    "import random\n",
    "import numpy as np"
   ]
  },
  {
   "cell_type": "code",
   "execution_count": null,
   "metadata": {},
   "outputs": [],
   "source": [
    "import qiskit as qk\n",
    "from qiskit import ClassicalRegister, QuantumRegister, QuantumCircuit\n",
    "from qiskit import execute, Aer\n",
    "from qiskit import IBMQ\n",
    "from qiskit.visualization import plot_histogram\n",
    "%config InlineBackend.figure_format = 'svg' # Makes the images look nice\n",
    "\n",
    "# imports from backend providers (IBM for superconductor, AQT for trapped ion)\n",
    "from qiskit.providers.ibmq import IBMQ\n",
    "from qiskit.providers.aqt import AQT\n",
    "\n",
    "ibmq_provider = IBMQ.load_account()        # credentials stored on disk\n",
    "aqt_provider_simulators = AQT.enable_account('2633b2d14dae4d9da7c9df2503857334')  # simulator credentials\n",
    "# aqt_provider_device = AQT.enable_account('INPUT DEVICE CREDENTIALS HERE') # hardware credentials\n",
    "\n",
    "ibmq_simulator = ibmq_provider.get_backend('ibmq_qasm_simulator')\n",
    "ibmq_device = ibmq_provider.get_backend('ibmq_burlington')\n",
    "aqt_simulator = aqt_provider_simulators.get_backend('aqt_qasm_simulator')\n",
    "# calling noisy simulator the 'device' for now\n",
    "aqt_device = aqt_provider_simulators.get_backend('aqt_qasm_simulator_noise_1')\n",
    "\n",
    "# simple function that applies a series of unitary gates from a given string\n",
    "def apply_secret_unitary(secret_unitary, qubit, quantum_circuit, dagger):\n",
    "    functionmap = {\n",
    "                    'x':quantum_circuit.x,\n",
    "                    'y':quantum_circuit.y,\n",
    "                    'z':quantum_circuit.z,\n",
    "                    'h':quantum_circuit.h,                    \n",
    "                    't':quantum_circuit.t,                    \n",
    "    }\n",
    "    if dagger: functionmap['t'] = quantum_circuit.tdg\n",
    "    \n",
    "    if dagger:\n",
    "        [functionmap[unitary](qubit) for unitary in secret_unitary]\n",
    "    else:\n",
    "        [functionmap[unitary](qubit) for unitary in secret_unitary[::-1]]"
   ]
  },
  {
   "cell_type": "code",
   "execution_count": null,
   "metadata": {},
   "outputs": [],
   "source": [
    "secret_unitary = 'x'\n",
    "n = 3\n",
    "qc = QuantumCircuit(n, n)\n",
    "apply_secret_unitary(secret_unitary, qc.qubits[0], qc, dagger = 0)\n",
    "qc.barrier()\n",
    "qc.h(1)\n",
    "qc.cx(1,2)\n",
    "qc.barrier()\n",
    "qc.cx(0,1)\n",
    "qc.h(0)\n",
    "qc.cx(1, 2)\n",
    "qc.cz(0, 2)\n",
    "qc.barrier()\n",
    "qc.measure([0,1,2],[0,1,2])\n",
    "qc.draw(output='mpl')"
   ]
  },
  {
   "cell_type": "code",
   "execution_count": null,
   "metadata": {},
   "outputs": [],
   "source": [
    "# display all outputs\n",
    "from IPython.core.interactiveshell import InteractiveShell\n",
    "InteractiveShell.ast_node_interactivity = \"all\""
   ]
  },
  {
   "cell_type": "code",
   "execution_count": null,
   "metadata": {
    "scrolled": false
   },
   "outputs": [],
   "source": [
    "# transpile, plot circuit, run, plot result\n",
    "backends = [aqt_simulator, ibmq_simulator, aqt_device, ibmq_device]\n",
    "for be in backends:\n",
    "    print(\"Backend in use: \", be)\n",
    "    new_qc = transpile(qc, be)\n",
    "    new_qc.draw(output='mpl', scale=0.5)\n",
    "\n",
    "    job = execute(new_qc, be, shots=200)\n",
    "    if be == ibmq_device:\n",
    "        job_monitor(job)\n",
    "    counts = job.result().get_counts()\n",
    "    plot_histogram(counts)\n",
    "    print('Done')\n",
    "    \n",
    "    if be == aqt_simulator:\n",
    "        aqt_sim_results = job.result()\n",
    "        aqt_sim_counts = job.result().get_counts()\n",
    "    if be == ibmq_simulator:\n",
    "        ibmq_sim_results = job.result()\n",
    "        ibmq_sim_counts = job.result().get_counts()\n",
    "    if be == aqt_device:\n",
    "        aqt_dev_results = job.result()\n",
    "        aqt_dev_counts = job.result().get_counts()\n",
    "    if be == ibmq_device:\n",
    "        ibmq_dev_results = job.result()\n",
    "        ibmq_dev_counts = job.result().get_counts()"
   ]
  },
  {
   "cell_type": "code",
   "execution_count": null,
   "metadata": {},
   "outputs": [],
   "source": [
    "# plotting the results together\n",
    "plot_histogram([aqt_sim_counts, ibmq_sim_counts, aqt_dev_counts, ibmq_dev_counts], \n",
    "               legend = ['AQT Simulator', 'IBMQ Simulator', 'AQT Device', 'IBMQ Device'],\n",
    "               figsize = (15,10))"
   ]
  },
  {
   "cell_type": "code",
   "execution_count": null,
   "metadata": {},
   "outputs": [],
   "source": [
    "# can run noise mitigation at least for IBMQ right now, using Qiskit Ignis\n",
    "from qiskit.ignis.mitigation.measurement import (complete_meas_cal, CompleteMeasFitter)\n",
    "\n",
    "# devices = [ibmq_device, aqt_device]\n",
    "# for dev in devices:\n",
    "# print('Device in use:', dev)\n",
    "cal_circuits, state_labels = complete_meas_cal(qr = qc.qregs[0], circlabel = 'measerrormitcal')\n",
    "cal_job = execute(cal_circuits,\n",
    "                  backend = ibmq_device,\n",
    "                  shots = 200,\n",
    "                  optimization_level = 0)\n",
    "job_monitor(cal_job)\n",
    "calres = cal_job.result()\n",
    "\n",
    "plot_histogram(calres.get_counts(cal_circuits[3]))\n",
    "\n",
    "meas_fitter = CompleteMeasFitter(calres, state_labels)\n",
    "meas_fitter.plot_calibration()\n",
    "\n",
    "meas_filter = meas_fitter.filter\n",
    "    \n",
    "#     if dev == aqt_device:\n",
    "#         mitres = meas_filter.apply(aqt_dev_counts)\n",
    "#         mitcounts = mitres.get_counts(qc)\n",
    "#         aqt_mit_counts = mitcounts\n",
    "\n",
    "# if dev == ibmq_device:\n",
    "mitres = meas_filter.apply(ibmq_dev_results)\n",
    "mitcounts = mitres.get_counts(qc)\n",
    "ibmq_mit_counts = mitcounts\n",
    "\n",
    "plot_histogram([ibmq_dev_counts, ibmq_mit_counts], \n",
    "               legend = ['noisy IBMQ results', 'mitigated IBMQ results'],\n",
    "               figsize = (15,10))\n",
    "# plot_histogram([aqt_dev_counts, aqt_mit_counts], legend = ['noisy AQT results', 'mitigated AQT results'])"
   ]
  },
  {
   "cell_type": "code",
   "execution_count": null,
   "metadata": {},
   "outputs": [],
   "source": [
    "# restore display settings\n",
    "InteractiveShell.ast_node_interactivity = \"last_expr\""
   ]
  },
  {
   "cell_type": "code",
   "execution_count": null,
   "metadata": {
    "scrolled": true
   },
   "outputs": [],
   "source": [
    "plot_histogram([aqt_dev_counts, ibmq_mit_counts], \n",
    "               legend = ['noisy AQT results', 'mitigated IBMQ results'], \n",
    "               figsize = (14,10))"
   ]
  },
  {
   "cell_type": "code",
   "execution_count": null,
   "metadata": {},
   "outputs": [],
   "source": [
    "import qiskit.tools.jupyter\n",
    "%qiskit_version_table"
   ]
  },
  {
   "cell_type": "code",
   "execution_count": null,
   "metadata": {},
   "outputs": [],
   "source": []
  }
 ],
 "metadata": {
  "kernelspec": {
   "display_name": "dev_qiskit",
   "language": "python",
   "name": "dev_qiskit"
  },
  "language_info": {
   "codemirror_mode": {
    "name": "ipython",
    "version": 3
   },
   "file_extension": ".py",
   "mimetype": "text/x-python",
   "name": "python",
   "nbconvert_exporter": "python",
   "pygments_lexer": "ipython3",
   "version": "3.7.4"
  }
 },
 "nbformat": 4,
 "nbformat_minor": 2
}
