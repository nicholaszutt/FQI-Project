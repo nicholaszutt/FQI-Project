{
 "cells": [
  {
   "cell_type": "code",
   "execution_count": 1,
   "metadata": {},
   "outputs": [
    {
     "name": "stdout",
     "output_type": "stream",
     "text": [
      "Circuit:\n",
      "0: ───X^0.169───Y^0.387───@───H───M───────@───\n",
      "                          │       │       │\n",
      "1: ───H─────────@─────────X───────M───@───┼───\n",
      "                │                     │   │\n",
      "2: ─────────────X─────────────────────X───@───\n",
      "\n",
      "Bloch Sphere of Message After Random X and Y Gates:\n",
      "x:  0.8096 y:  -0.505 z:  0.2992\n",
      "\n",
      "Bloch Sphere of Qubit 2 at Final State:\n",
      "x:  0.8096 y:  -0.505 z:  0.2992\n"
     ]
    }
   ],
   "source": [
    "\"\"\"Quantum Teleportation.\n",
    "Quantum Teleportation is a process by which a quantum state can be transmitted\n",
    "by sending only two classical bits of information. This is accomplished by\n",
    "pre-sharing an entangled state between the sender (Alice) and the receiver\n",
    "(Bob). This entangled state allows the receiver (Bob) of the two classical\n",
    "bits of information to possess a qubit with the same state as the one held by\n",
    "the sender (Alice).\n",
    "In the following example output, qubit 0 (the Message) is set to a random state\n",
    "by applying X and Y gates. By sending two classical bits of information after\n",
    "qubit 0 (the Message) and qubit 1 (Alice's entangled qubit) are measured, the\n",
    "final state of qubit 2 (Bob's entangled qubit) will be identical to the\n",
    "original random state of qubit 0 (the Message). This is only possible given\n",
    "that an entangled state is pre-shared between Alice and Bob.\n",
    "=== REFERENCE ===\n",
    "https://en.wikipedia.org/wiki/Quantum_teleportation\n",
    "https://journals.aps.org/prl/abstract/10.1103/PhysRevLett.70.1895\n",
    "=== EXAMPLE OUTPUT ===\n",
    "Circuit:\n",
    "0: -----------X^0.25---Y^0.125---@---H---M-------@---\n",
    "                                 |       |       |\n",
    "1: ---H---@----------------------X-------M---@---|---\n",
    "          |                                  |   |\n",
    "2: -------X----------------------------------X---@---\n",
    "Bloch Sphere of Message After Random X and Y Gates:\n",
    "x:  0.2706 y:  -0.7071 z:  0.6533\n",
    "Bloch Sphere of Qubit 2 at Final State:\n",
    "x:  0.2706 y:  -0.7071 z:  0.6533\n",
    "\"\"\"\n",
    "\n",
    "import random\n",
    "import numpy as np\n",
    "import cirq\n",
    "\n",
    "\n",
    "def make_quantum_teleportation_circuit(ranX, ranY):\n",
    "    circuit = cirq.Circuit()\n",
    "    msg, alice, bob = cirq.LineQubit.range(3)\n",
    "\n",
    "    # Creates Bell state to be shared between Alice and Bob\n",
    "    circuit.append([cirq.H(alice), cirq.CNOT(alice, bob)])\n",
    "    # Creates a random state for the Message\n",
    "    circuit.append([cirq.X(msg)**ranX, cirq.Y(msg)**ranY])\n",
    "    # Bell measurement of the Message and Alice's entangled qubit\n",
    "    circuit.append([cirq.CNOT(msg, alice), cirq.H(msg)])\n",
    "    circuit.append(cirq.measure(msg, alice))\n",
    "    # Uses the two classical bits from the Bell measurement to recover the\n",
    "    # original quantum Message on Bob's entangled qubit\n",
    "    circuit.append([cirq.CNOT(alice, bob), cirq.CZ(msg, bob)])\n",
    "\n",
    "    return circuit\n",
    "\n",
    "\n",
    "def main():\n",
    "    ranX = random.random()\n",
    "    ranY = random.random()\n",
    "    circuit = make_quantum_teleportation_circuit(ranX, ranY)\n",
    "\n",
    "    print(\"Circuit:\")\n",
    "    print(circuit)\n",
    "\n",
    "    sim = cirq.Simulator()\n",
    "\n",
    "    # Create qubits.\n",
    "    q0 = cirq.LineQubit(0)\n",
    "\n",
    "    # Produces the message using random X and Y gates\n",
    "    message = sim.simulate(cirq.Circuit([cirq.X(q0)**ranX, cirq.Y(q0)**ranY]))\n",
    "\n",
    "    print(\"\\nBloch Sphere of Message After Random X and Y Gates:\")\n",
    "    # Prints the Bloch Sphere of the Message after the X and Y gates\n",
    "    expected = cirq.bloch_vector_from_state_vector(message.final_state, 0)\n",
    "    print(\"x: \", np.around(expected[0], 4), \"y: \", np.around(expected[1], 4),\n",
    "          \"z: \", np.around(expected[2], 4))\n",
    "\n",
    "    # Records the final state of the simulation\n",
    "    final_results = sim.simulate(circuit)\n",
    "\n",
    "    print(\"\\nBloch Sphere of Qubit 2 at Final State:\")\n",
    "    # Prints the Bloch Sphere of Bob's entangled qubit at the final state\n",
    "    teleported = cirq.bloch_vector_from_state_vector(final_results.final_state,\n",
    "                                                     2)\n",
    "    print(\"x: \", np.around(teleported[0], 4), \"y: \",\n",
    "          np.around(teleported[1], 4), \"z: \", np.around(teleported[2], 4))\n",
    "\n",
    "    return expected, teleported\n",
    "\n",
    "\n",
    "if __name__ == '__main__':\n",
    "    main()"
   ]
  },
  {
   "cell_type": "code",
   "execution_count": 2,
   "metadata": {},
   "outputs": [
    {
     "name": "stdout",
     "output_type": "stream",
     "text": [
      "message is 0 of type <class 'cirq.devices.line_qubit.LineQubit'>\n"
     ]
    }
   ],
   "source": [
    "import cirq\n",
    "msg = cirq.LineQubit(0)\n",
    "print('message is {0} of type {1}'.format(msg, type(msg)))"
   ]
  },
  {
   "cell_type": "code",
   "execution_count": 3,
   "metadata": {},
   "outputs": [],
   "source": [
    "import random\n",
    "ranX = random.random()\n",
    "ranY = random.random()\n",
    "ranq = cirq.X(msg)**ranX, cirq.Y(msg)**ranY"
   ]
  },
  {
   "cell_type": "code",
   "execution_count": 4,
   "metadata": {},
   "outputs": [
    {
     "name": "stdout",
     "output_type": "stream",
     "text": [
      "0: ───X^0.356───Y^0.589───\n"
     ]
    }
   ],
   "source": [
    "circuit = cirq.Circuit()\n",
    "circuit.append(ranq)\n",
    "print(circuit)"
   ]
  },
  {
   "cell_type": "code",
   "execution_count": 5,
   "metadata": {},
   "outputs": [
    {
     "name": "stdout",
     "output_type": "stream",
     "text": [
      "x:  0.4211 y:  -0.899 z:  -0.1208\n"
     ]
    }
   ],
   "source": [
    "import numpy as np\n",
    "sim = cirq.Simulator()\n",
    "original_message = sim.simulate(circuit)\n",
    "expected = cirq.bloch_vector_from_state_vector(original_message.final_state, 0)\n",
    "print(\"x: \", np.around(expected[0], 4), \"y: \", np.around(expected[1], 4),\n",
    "          \"z: \", np.around(expected[2], 4))"
   ]
  },
  {
   "cell_type": "code",
   "execution_count": 6,
   "metadata": {},
   "outputs": [
    {
     "name": "stdout",
     "output_type": "stream",
     "text": [
      "0: ───X^0.356───Y^0.589───\n",
      "\n",
      "1: ───H─────────@─────────\n",
      "                │\n",
      "2: ─────────────X─────────\n"
     ]
    }
   ],
   "source": [
    "alice, bob = cirq.LineQubit.range(1, 3)\n",
    "circuit.append([cirq.H(alice), cirq.CNOT(alice, bob)])\n",
    "print(circuit)"
   ]
  },
  {
   "cell_type": "code",
   "execution_count": 7,
   "metadata": {},
   "outputs": [
    {
     "name": "stdout",
     "output_type": "stream",
     "text": [
      "0: ───X^0.356───Y^0.589───@───H───\n",
      "                          │\n",
      "1: ───H─────────@─────────X───────\n",
      "                │\n",
      "2: ─────────────X─────────────────\n"
     ]
    }
   ],
   "source": [
    "circuit.append([cirq.CNOT(msg, alice), cirq.H(msg)])\n",
    "print(circuit)"
   ]
  },
  {
   "cell_type": "code",
   "execution_count": 8,
   "metadata": {},
   "outputs": [
    {
     "name": "stdout",
     "output_type": "stream",
     "text": [
      "0: ───X^0.356───Y^0.589───@───H───M───\n",
      "                          │       │\n",
      "1: ───H─────────@─────────X───────M───\n",
      "                │\n",
      "2: ─────────────X─────────────────────\n"
     ]
    }
   ],
   "source": [
    "circuit.append(cirq.measure(msg, alice))\n",
    "print(circuit)"
   ]
  },
  {
   "cell_type": "code",
   "execution_count": 9,
   "metadata": {},
   "outputs": [
    {
     "name": "stdout",
     "output_type": "stream",
     "text": [
      "0: ───X^0.356───Y^0.589───@───H───M───────@───\n",
      "                          │       │       │\n",
      "1: ───H─────────@─────────X───────M───@───┼───\n",
      "                │                     │   │\n",
      "2: ─────────────X─────────────────────X───@───\n"
     ]
    }
   ],
   "source": [
    "circuit.append([cirq.CNOT(alice, bob), cirq.CZ(msg, bob)])\n",
    "print(circuit)"
   ]
  },
  {
   "cell_type": "code",
   "execution_count": 10,
   "metadata": {},
   "outputs": [
    {
     "name": "stdout",
     "output_type": "stream",
     "text": [
      "x:  0.4211 y:  -0.899 z:  -0.1208\n"
     ]
    }
   ],
   "source": [
    "final_results = sim.simulate(circuit)\n",
    "teleported = cirq.bloch_vector_from_state_vector(final_results.final_state, 2)\n",
    "print(\"x: \", np.around(teleported[0], 4), \"y: \", np.around(teleported[1], 4), \"z: \", np.around(teleported[2], 4))"
   ]
  },
  {
   "cell_type": "code",
   "execution_count": null,
   "metadata": {},
   "outputs": [],
   "source": []
  }
 ],
 "metadata": {
  "kernelspec": {
   "display_name": "Python 3",
   "language": "python",
   "name": "python3"
  },
  "language_info": {
   "codemirror_mode": {
    "name": "ipython",
    "version": 3
   },
   "file_extension": ".py",
   "mimetype": "text/x-python",
   "name": "python",
   "nbconvert_exporter": "python",
   "pygments_lexer": "ipython3",
   "version": "3.7.5"
  }
 },
 "nbformat": 4,
 "nbformat_minor": 2
}
