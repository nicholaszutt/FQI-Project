{
 "cells": [
  {
   "cell_type": "markdown",
   "metadata": {},
   "source": [
    "# Simple Testing Circuit using Cirq"
   ]
  },
  {
   "cell_type": "code",
<<<<<<< HEAD
   "execution_count": 18,
=======
   "execution_count": 1,
>>>>>>> 46ce6ddb3dd10073aec121ca62371f1cdeca586a
   "metadata": {},
   "outputs": [],
   "source": [
    "import cirq\n",
    "import numpy as np"
   ]
  },
  {
   "cell_type": "code",
<<<<<<< HEAD
   "execution_count": 19,
=======
   "execution_count": 2,
>>>>>>> 46ce6ddb3dd10073aec121ca62371f1cdeca586a
   "metadata": {},
   "outputs": [],
   "source": [
    "from cirq.aqt.aqt_device import get_aqt_device\n",
    "from cirq.aqt.aqt_sampler import AQTSampler\n",
    "from cirq.aqt.aqt_sampler import AQTSamplerLocalSimulator\n",
    "from qiskit import *\n",
    "from qiskit.tools.visualization import plot_histogram"
   ]
  },
  {
   "cell_type": "code",
<<<<<<< HEAD
   "execution_count": 20,
=======
   "execution_count": 3,
>>>>>>> 46ce6ddb3dd10073aec121ca62371f1cdeca586a
   "metadata": {},
   "outputs": [],
   "source": [
    "access_token = '2633b2d14dae4d9da7c9df2503857334'"
   ]
  },
  {
   "cell_type": "code",
<<<<<<< HEAD
   "execution_count": 29,
=======
   "execution_count": 4,
>>>>>>> 46ce6ddb3dd10073aec121ca62371f1cdeca586a
   "metadata": {},
   "outputs": [
    {
     "name": "stdout",
     "output_type": "stream",
     "text": [
      "0───1\n",
      "<function Device.qubit_set at 0x7f8ed0960440>\n"
     ]
    }
   ],
   "source": [
    "device, qubits = get_aqt_device(2)\n",
    "print(device)\n",
    "print(cirq.Device.qubit_set)"
   ]
  },
  {
   "cell_type": "code",
<<<<<<< HEAD
   "execution_count": 34,
   "metadata": {},
   "outputs": [
    {
     "ename": "TypeError",
     "evalue": "'tuple' object is not callable",
     "output_type": "error",
     "traceback": [
      "\u001b[1;31m---------------------------------------------------------------------------\u001b[0m",
      "\u001b[1;31mTypeError\u001b[0m                                 Traceback (most recent call last)",
      "\u001b[1;32m<ipython-input-34-8b5e57969a3c>\u001b[0m in \u001b[0;36m<module>\u001b[1;34m\u001b[0m\n\u001b[0;32m      6\u001b[0m \u001b[1;32mfrom\u001b[0m \u001b[0mcirq\u001b[0m\u001b[1;33m.\u001b[0m\u001b[0mops\u001b[0m \u001b[1;32mimport\u001b[0m \u001b[0mCZ\u001b[0m\u001b[1;33m,\u001b[0m \u001b[0mH\u001b[0m\u001b[1;33m,\u001b[0m \u001b[0mX\u001b[0m\u001b[1;33m,\u001b[0m \u001b[0mCX\u001b[0m\u001b[1;33m\u001b[0m\u001b[1;33m\u001b[0m\u001b[0m\n\u001b[0;32m      7\u001b[0m \u001b[0mqubits\u001b[0m \u001b[1;33m=\u001b[0m \u001b[0mget_aqt_device\u001b[0m\u001b[1;33m(\u001b[0m\u001b[1;36m2\u001b[0m\u001b[1;33m)\u001b[0m\u001b[1;33m\u001b[0m\u001b[1;33m\u001b[0m\u001b[0m\n\u001b[1;32m----> 8\u001b[1;33m \u001b[0mcirq\u001b[0m\u001b[1;33m.\u001b[0m\u001b[0mCircuit\u001b[0m\u001b[1;33m(\u001b[0m\u001b[0mH\u001b[0m\u001b[1;33m(\u001b[0m\u001b[0mqubits\u001b[0m\u001b[1;33m(\u001b[0m\u001b[1;36m0\u001b[0m\u001b[1;33m)\u001b[0m\u001b[1;33m)\u001b[0m\u001b[1;33m,\u001b[0m \u001b[0mH\u001b[0m\u001b[1;33m(\u001b[0m\u001b[0mqubits\u001b[0m\u001b[1;33m(\u001b[0m\u001b[1;36m1\u001b[0m\u001b[1;33m)\u001b[0m\u001b[1;33m)\u001b[0m\u001b[1;33m)\u001b[0m\u001b[1;33m\u001b[0m\u001b[1;33m\u001b[0m\u001b[0m\n\u001b[0m\u001b[0;32m      9\u001b[0m \u001b[0mcircuit\u001b[0m \u001b[1;33m=\u001b[0m \u001b[0mcirq\u001b[0m\u001b[1;33m.\u001b[0m\u001b[0mCircuit\u001b[0m\u001b[1;33m(\u001b[0m\u001b[0mdevice\u001b[0m\u001b[1;33m=\u001b[0m\u001b[0mdevice\u001b[0m\u001b[1;33m)\u001b[0m\u001b[1;33m\u001b[0m\u001b[1;33m\u001b[0m\u001b[0m\n\u001b[0;32m     10\u001b[0m \u001b[0mcircuit\u001b[0m\u001b[1;33m.\u001b[0m\u001b[0mappend\u001b[0m\u001b[1;33m(\u001b[0m\u001b[1;33m)\u001b[0m\u001b[1;33m\u001b[0m\u001b[1;33m\u001b[0m\u001b[0m\n",
      "\u001b[1;31mTypeError\u001b[0m: 'tuple' object is not callable"
=======
   "execution_count": 12,
   "metadata": {},
   "outputs": [
    {
     "name": "stdout",
     "output_type": "stream",
     "text": [
      "1: ───X───X─── [cirq.LineQubit(0), cirq.LineQubit(1)]\n"
>>>>>>> 46ce6ddb3dd10073aec121ca62371f1cdeca586a
     ]
    }
   ],
   "source": [
<<<<<<< HEAD
    "#circuit = cirq.Circuit(device=device)\n",
    "#circuit.append([cirq.H(qubits[1])])\n",
    "#circuit.append([cirq.CNOT(qubits[1], qubits[0])])\n",
    "#device.validate_circuit(circuit)\n",
    "#print(circuit, qubits)\n",
    "from cirq.ops import CZ, H, X, CX\n",
    "qubits = get_aqt_device(2)\n",
    "cirq.Circuit(H(qubits(0)), H(qubits(1)))\n",
    "circuit = cirq.Circuit(device=device)\n",
    "circuit.append()\n",
    "print(circuit)"
=======
    "circuit = cirq.Circuit(device=device)\n",
    "#circuit.append(cirq.X(qubits[0]))\n",
    "circuit.append(cirq.X(qubits[1]))\n",
    "circuit.append(cirq.X(qubits[1]))\n",
    "# circuit.append(cirq.measure(*qubits, key='x'))\n",
    "#circuit.append([cirq.CNOT(qubits[1], qubits[0])])\n",
    "print(circuit, qubits)"
>>>>>>> 46ce6ddb3dd10073aec121ca62371f1cdeca586a
   ]
  },
  {
   "cell_type": "code",
<<<<<<< HEAD
   "execution_count": 25,
=======
   "execution_count": 13,
>>>>>>> 46ce6ddb3dd10073aec121ca62371f1cdeca586a
   "metadata": {},
   "outputs": [
    {
     "ename": "AssertionError",
     "evalue": "",
     "output_type": "error",
     "traceback": [
      "\u001b[1;31m---------------------------------------------------------------------------\u001b[0m",
      "\u001b[1;31mAssertionError\u001b[0m                            Traceback (most recent call last)",
      "\u001b[1;32m<ipython-input-25-a797907eeeb4>\u001b[0m in \u001b[0;36m<module>\u001b[1;34m\u001b[0m\n\u001b[0;32m      1\u001b[0m \u001b[0murl\u001b[0m \u001b[1;33m=\u001b[0m \u001b[1;34m'https://gateway.aqt.eu/marmot/sim/'\u001b[0m\u001b[1;33m\u001b[0m\u001b[1;33m\u001b[0m\u001b[0m\n\u001b[0;32m      2\u001b[0m \u001b[0maqt_sampler\u001b[0m \u001b[1;33m=\u001b[0m \u001b[0mAQTSampler\u001b[0m\u001b[1;33m(\u001b[0m\u001b[0murl\u001b[0m\u001b[1;33m,\u001b[0m \u001b[0maccess_token\u001b[0m\u001b[1;33m=\u001b[0m\u001b[0maccess_token\u001b[0m\u001b[1;33m)\u001b[0m\u001b[1;33m\u001b[0m\u001b[1;33m\u001b[0m\u001b[0m\n\u001b[1;32m----> 3\u001b[1;33m \u001b[0maqt_sweep\u001b[0m \u001b[1;33m=\u001b[0m \u001b[0maqt_sampler\u001b[0m\u001b[1;33m.\u001b[0m\u001b[0mrun\u001b[0m\u001b[1;33m(\u001b[0m\u001b[0mcircuit\u001b[0m\u001b[1;33m,\u001b[0m \u001b[0mrepetitions\u001b[0m\u001b[1;33m=\u001b[0m\u001b[1;36m40\u001b[0m\u001b[1;33m)\u001b[0m\u001b[1;33m\u001b[0m\u001b[1;33m\u001b[0m\u001b[0m\n\u001b[0m",
      "\u001b[1;32mC:\\Users\\Niels\\Anaconda3\\lib\\site-packages\\cirq\\work\\sampler.py\u001b[0m in \u001b[0;36mrun\u001b[1;34m(self, program, param_resolver, repetitions)\u001b[0m\n\u001b[0;32m     48\u001b[0m         \"\"\"\n\u001b[0;32m     49\u001b[0m         return self.run_sweep(program, study.ParamResolver(param_resolver),\n\u001b[1;32m---> 50\u001b[1;33m                               repetitions)[0]\n\u001b[0m\u001b[0;32m     51\u001b[0m \u001b[1;33m\u001b[0m\u001b[0m\n\u001b[0;32m     52\u001b[0m     def sample(\n",
      "\u001b[1;32mC:\\Users\\Niels\\Anaconda3\\lib\\site-packages\\cirq\\aqt\\aqt_sampler.py\u001b[0m in \u001b[0;36mrun_sweep\u001b[1;34m(self, program, params, repetitions)\u001b[0m\n\u001b[0;32m    191\u001b[0m         \"\"\"\n\u001b[0;32m    192\u001b[0m         \u001b[0mmeas_name\u001b[0m \u001b[1;33m=\u001b[0m \u001b[1;34m'm'\u001b[0m  \u001b[1;31m# TODO: Get measurement name from circuit. Issue #2195\u001b[0m\u001b[1;33m\u001b[0m\u001b[1;33m\u001b[0m\u001b[0m\n\u001b[1;32m--> 193\u001b[1;33m         \u001b[1;32massert\u001b[0m \u001b[0misinstance\u001b[0m\u001b[1;33m(\u001b[0m\u001b[0mprogram\u001b[0m\u001b[1;33m.\u001b[0m\u001b[0mdevice\u001b[0m\u001b[1;33m,\u001b[0m \u001b[0mIonDevice\u001b[0m\u001b[1;33m)\u001b[0m\u001b[1;33m\u001b[0m\u001b[1;33m\u001b[0m\u001b[0m\n\u001b[0m\u001b[0;32m    194\u001b[0m         \u001b[0mtrial_results\u001b[0m \u001b[1;33m=\u001b[0m \u001b[1;33m[\u001b[0m\u001b[1;33m]\u001b[0m  \u001b[1;31m# type: List[study.TrialResult]\u001b[0m\u001b[1;33m\u001b[0m\u001b[1;33m\u001b[0m\u001b[0m\n\u001b[0;32m    195\u001b[0m         \u001b[1;32mfor\u001b[0m \u001b[0mparam_resolver\u001b[0m \u001b[1;32min\u001b[0m \u001b[0mstudy\u001b[0m\u001b[1;33m.\u001b[0m\u001b[0mto_resolvers\u001b[0m\u001b[1;33m(\u001b[0m\u001b[0mparams\u001b[0m\u001b[1;33m)\u001b[0m\u001b[1;33m:\u001b[0m\u001b[1;33m\u001b[0m\u001b[1;33m\u001b[0m\u001b[0m\n",
      "\u001b[1;31mAssertionError\u001b[0m: "
     ]
    }
   ],
   "source": [
    "url = 'https://gateway.aqt.eu/marmot/sim'\n",
    "aqt_sampler = AQTSampler(url, access_token=access_token)\n",
    "aqt_sweep = aqt_sampler.run(circuit, repetitions=120)"
   ]
  },
  {
   "cell_type": "code",
<<<<<<< HEAD
   "execution_count": 11,
=======
   "execution_count": 14,
>>>>>>> 46ce6ddb3dd10073aec121ca62371f1cdeca586a
   "metadata": {},
   "outputs": [
    {
     "name": "stdout",
     "output_type": "stream",
     "text": [
<<<<<<< HEAD
      "m=0100110001111100011100001001101110111011, 0100110001111100011100001001101110111011\n",
      "{'m': array([[0, 0],\n",
      "       [1, 1],\n",
      "       [0, 0],\n",
      "       [0, 0],\n",
      "       [1, 1],\n",
      "       [1, 1],\n",
      "       [0, 0],\n",
      "       [0, 0],\n",
      "       [0, 0],\n",
      "       [1, 1],\n",
      "       [1, 1],\n",
      "       [1, 1],\n",
      "       [1, 1],\n",
      "       [1, 1],\n",
      "       [0, 0],\n",
      "       [0, 0],\n",
      "       [0, 0],\n",
      "       [1, 1],\n",
      "       [1, 1],\n",
      "       [1, 1],\n",
      "       [0, 0],\n",
      "       [0, 0],\n",
=======
      "m=000000000000000000000000000000000000000000000000000000000000000000000000000000000000000000000000000000000000000000000000, 000000000000000000000000000000000000000000000000000000000000000000000000000000000000000000000000000000000000000000000000\n",
      "{'m': array([[False, False],\n",
      "       [False, False],\n",
      "       [False, False],\n",
      "       [False, False],\n",
      "       [False, False],\n",
      "       [False, False],\n",
      "       [False, False],\n",
      "       [False, False],\n",
      "       [False, False],\n",
      "       [False, False],\n",
      "       [False, False],\n",
      "       [False, False],\n",
      "       [False, False],\n",
      "       [False, False],\n",
      "       [False, False],\n",
      "       [False, False],\n",
      "       [False, False],\n",
      "       [False, False],\n",
      "       [False, False],\n",
      "       [False, False],\n",
      "       [False, False],\n",
      "       [False, False],\n",
      "       [False, False],\n",
      "       [False, False],\n",
      "       [False, False],\n",
      "       [False, False],\n",
      "       [False, False],\n",
      "       [False, False],\n",
      "       [False, False],\n",
      "       [False, False],\n",
      "       [False, False],\n",
      "       [False, False],\n",
      "       [False, False],\n",
      "       [False, False],\n",
      "       [False, False],\n",
      "       [False, False],\n",
      "       [False, False],\n",
      "       [False, False],\n",
      "       [False, False],\n",
      "       [False, False],\n",
      "       [False, False],\n",
      "       [False, False],\n",
      "       [False, False],\n",
      "       [False, False],\n",
      "       [False, False],\n",
      "       [False, False],\n",
      "       [False, False],\n",
      "       [False, False],\n",
      "       [False, False],\n",
      "       [False, False],\n",
      "       [False, False],\n",
      "       [False, False],\n",
      "       [False, False],\n",
      "       [False, False],\n",
      "       [False, False],\n",
      "       [False, False],\n",
      "       [False, False],\n",
      "       [False, False],\n",
      "       [False, False],\n",
      "       [False, False],\n",
      "       [False, False],\n",
      "       [False, False],\n",
      "       [False, False],\n",
      "       [False, False],\n",
      "       [False, False],\n",
      "       [False, False],\n",
      "       [False, False],\n",
      "       [False, False],\n",
      "       [False, False],\n",
      "       [False, False],\n",
      "       [False, False],\n",
      "       [False, False],\n",
      "       [False, False],\n",
      "       [False, False],\n",
      "       [False, False],\n",
      "       [False, False],\n",
      "       [False, False],\n",
      "       [False, False],\n",
      "       [False, False],\n",
      "       [False, False],\n",
      "       [False, False],\n",
      "       [False, False],\n",
      "       [False, False],\n",
      "       [False, False],\n",
      "       [False, False],\n",
      "       [False, False],\n",
      "       [False, False],\n",
      "       [False, False],\n",
      "       [False, False],\n",
      "       [False, False],\n",
      "       [False, False],\n",
      "       [False, False],\n",
      "       [False, False],\n",
      "       [False, False],\n",
      "       [False, False],\n",
      "       [False, False],\n",
      "       [False, False],\n",
      "       [False, False],\n",
      "       [False, False],\n",
      "       [False, False],\n",
      "       [False, False],\n",
      "       [False, False],\n",
      "       [False, False],\n",
      "       [False, False],\n",
      "       [False, False],\n",
      "       [False, False],\n",
      "       [False, False],\n",
      "       [False, False],\n",
      "       [False, False],\n",
      "       [False, False],\n",
      "       [False, False],\n",
      "       [False, False],\n",
      "       [False, False],\n",
      "       [False, False],\n",
      "       [False, False],\n",
      "       [False, False],\n",
      "       [False, False],\n",
      "       [False, False],\n",
      "       [False, False],\n",
      "       [False, False]])}\n",
      "{'m': array([[0, 0],\n",
      "       [0, 0],\n",
      "       [0, 0],\n",
      "       [0, 0],\n",
      "       [0, 0],\n",
      "       [0, 0],\n",
      "       [0, 0],\n",
      "       [0, 0],\n",
      "       [0, 0],\n",
      "       [0, 0],\n",
      "       [0, 0],\n",
      "       [0, 0],\n",
      "       [0, 0],\n",
      "       [0, 0],\n",
      "       [0, 0],\n",
      "       [0, 0],\n",
      "       [0, 0],\n",
      "       [0, 0],\n",
      "       [0, 0],\n",
      "       [0, 0],\n",
      "       [0, 0],\n",
      "       [0, 0],\n",
      "       [0, 0],\n",
      "       [0, 0],\n",
      "       [0, 0],\n",
      "       [0, 0],\n",
      "       [0, 0],\n",
      "       [0, 0],\n",
      "       [0, 0],\n",
      "       [0, 0],\n",
      "       [0, 0],\n",
      "       [0, 0],\n",
      "       [0, 0],\n",
      "       [0, 0],\n",
      "       [0, 0],\n",
      "       [0, 0],\n",
      "       [0, 0],\n",
      "       [0, 0],\n",
      "       [0, 0],\n",
      "       [0, 0],\n",
      "       [0, 0],\n",
      "       [0, 0],\n",
      "       [0, 0],\n",
      "       [0, 0],\n",
      "       [0, 0],\n",
      "       [0, 0],\n",
      "       [0, 0],\n",
      "       [0, 0],\n",
      "       [0, 0],\n",
      "       [0, 0],\n",
      "       [0, 0],\n",
      "       [0, 0],\n",
      "       [0, 0],\n",
      "       [0, 0],\n",
      "       [0, 0],\n",
      "       [0, 0],\n",
      "       [0, 0],\n",
      "       [0, 0],\n",
      "       [0, 0],\n",
      "       [0, 0],\n",
      "       [0, 0],\n",
      "       [0, 0],\n",
      "       [0, 0],\n",
      "       [0, 0],\n",
      "       [0, 0],\n",
>>>>>>> 46ce6ddb3dd10073aec121ca62371f1cdeca586a
      "       [0, 0],\n",
      "       [0, 0],\n",
      "       [0, 0],\n",
<<<<<<< HEAD
      "       [0, 0],\n",
      "       [1, 1],\n",
      "       [1, 1],\n",
      "       [0, 0],\n",
      "       [1, 1],\n",
      "       [1, 1],\n",
      "       [1, 1],\n",
      "       [0, 0],\n",
      "       [1, 1],\n",
      "       [1, 1],\n",
      "       [1, 1],\n",
      "       [0, 0],\n",
      "       [1, 1],\n",
      "       [1, 1]])}\n",
=======
      "       [0, 0],\n",
      "       [0, 0],\n",
      "       [0, 0],\n",
      "       [0, 0],\n",
      "       [0, 0],\n",
      "       [0, 0],\n",
      "       [0, 0],\n",
      "       [0, 0],\n",
      "       [0, 0],\n",
      "       [0, 0],\n",
      "       [0, 0],\n",
      "       [0, 0],\n",
      "       [0, 0],\n",
      "       [0, 0],\n",
      "       [0, 0],\n",
      "       [0, 0],\n",
      "       [0, 0],\n",
      "       [0, 0],\n",
      "       [0, 0],\n",
      "       [0, 0],\n",
      "       [0, 0],\n",
      "       [0, 0],\n",
      "       [0, 0],\n",
      "       [0, 0],\n",
      "       [0, 0],\n",
      "       [0, 0],\n",
      "       [0, 0],\n",
      "       [0, 0],\n",
      "       [0, 0],\n",
      "       [0, 0],\n",
      "       [0, 0],\n",
      "       [0, 0],\n",
      "       [0, 0],\n",
      "       [0, 0],\n",
      "       [0, 0],\n",
      "       [0, 0],\n",
      "       [0, 0],\n",
      "       [0, 0],\n",
      "       [0, 0],\n",
      "       [0, 0],\n",
      "       [0, 0],\n",
      "       [0, 0],\n",
      "       [0, 0],\n",
      "       [0, 0],\n",
      "       [0, 0],\n",
      "       [0, 0],\n",
      "       [0, 0],\n",
      "       [0, 0],\n",
      "       [0, 0],\n",
      "       [0, 0],\n",
      "       [0, 0],\n",
      "       [0, 0]])}\n",
>>>>>>> 46ce6ddb3dd10073aec121ca62371f1cdeca586a
      "0\n"
     ]
    }
   ],
   "source": [
    "print(aqt_sweep)\n",
    "a = getattr(aqt_sweep, 'measurements')\n",
    "print(a)\n",
    "b = a[\"m\"]+0\n",
    "a[\"m\"]=b\n",
    "print(a)\n",
    "print(b.tolist().count([0,1]))"
   ]
  },
  {
   "cell_type": "code",
<<<<<<< HEAD
   "execution_count": 8,
=======
   "execution_count": 15,
>>>>>>> 46ce6ddb3dd10073aec121ca62371f1cdeca586a
   "metadata": {},
   "outputs": [
    {
     "name": "stdout",
     "output_type": "stream",
     "text": [
<<<<<<< HEAD
      "Counter({(0,): 21, (2,): 19})\n"
=======
      "Counter({(0,): 120})\n"
>>>>>>> 46ce6ddb3dd10073aec121ca62371f1cdeca586a
     ]
    },
    {
     "data": {
<<<<<<< HEAD
      "image/png": "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\n",
=======
      "image/png": "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\n",
>>>>>>> 46ce6ddb3dd10073aec121ca62371f1cdeca586a
      "text/plain": [
       "<Figure size 504x360 with 1 Axes>"
      ]
     },
<<<<<<< HEAD
     "execution_count": 8,
=======
     "execution_count": 15,
>>>>>>> 46ce6ddb3dd10073aec121ca62371f1cdeca586a
     "metadata": {},
     "output_type": "execute_result"
    }
   ],
   "source": [
    "#cirq.plot_state_histogram(aqt_sweep)\n",
    "counts = cirq.TrialResult.multi_measurement_histogram(aqt_sweep,keys=['m'])\n",
    "print(counts)\n",
    "plot_histogram(counts)"
   ]
  },
  {
   "cell_type": "code",
   "execution_count": null,
   "metadata": {},
   "outputs": [],
   "source": []
  }
 ],
 "metadata": {
  "kernelspec": {
   "display_name": "Python 3",
   "language": "python",
   "name": "python3"
  },
  "language_info": {
   "codemirror_mode": {
    "name": "ipython",
    "version": 3
   },
   "file_extension": ".py",
   "mimetype": "text/x-python",
   "name": "python",
   "nbconvert_exporter": "python",
   "pygments_lexer": "ipython3",
   "version": "3.7.4"
  }
 },
 "nbformat": 4,
 "nbformat_minor": 2
}
