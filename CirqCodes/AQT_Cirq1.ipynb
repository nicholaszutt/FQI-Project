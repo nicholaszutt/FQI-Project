{
 "cells": [
  {
   "cell_type": "code",
   "execution_count": 1,
   "metadata": {},
   "outputs": [],
   "source": [
    "import cirq\n",
    "import numpy as np"
   ]
  },
  {
   "cell_type": "code",
   "execution_count": 2,
   "metadata": {},
   "outputs": [],
   "source": [
    "from cirq.aqt.aqt_device import get_aqt_device\n",
    "from cirq.aqt.aqt_sampler import AQTSampler\n",
    "from qiskit import *\n",
    "from qiskit.tools.visualization import plot_histogram\n",
    "from cirq.ops import CZ, H, X, CX"
   ]
  },
  {
   "cell_type": "code",
   "execution_count": 3,
   "metadata": {},
   "outputs": [],
   "source": [
    "access_token = '2633b2d14dae4d9da7c9df2503857334'"
   ]
  },
  {
   "cell_type": "code",
   "execution_count": 4,
   "metadata": {},
   "outputs": [
    {
     "name": "stdout",
     "output_type": "stream",
     "text": [
      "0───1\n"
     ]
    }
   ],
   "source": [
    "device, qubits = get_aqt_device(2)\n",
    "print(device)"
   ]
  },
  {
   "cell_type": "code",
   "execution_count": 5,
   "metadata": {},
   "outputs": [
    {
     "name": "stdout",
     "output_type": "stream",
     "text": [
      "0: ───Rx(π)───Ry(-0.5π)───\n",
      "\n",
      "1: ───Rx(π)───Ry(-0.5π)─── [cirq.LineQubit(0), cirq.LineQubit(1)]\n"
     ]
    }
   ],
   "source": [
    "circuit = cirq.Circuit(device=device)\n",
    "circuit.append([cirq.H(qubits[0])])\n",
    "circuit.append([cirq.H(qubits[1])])\n",
    "#circuit.append([cirq.CNOT(qubits[1], qubits[0])])\n",
    "device.validate_circuit(circuit)\n",
    "print(circuit, qubits)"
   ]
  },
  {
   "cell_type": "code",
   "execution_count": 6,
   "metadata": {},
   "outputs": [],
   "source": [
    "url = 'https://gateway.aqt.eu/marmot/sim/'\n",
    "aqt_sampler = AQTSampler(url, access_token=access_token)\n",
    "aqt_sweep = aqt_sampler.run(circuit, repetitions=40)"
   ]
  },
  {
   "cell_type": "code",
   "execution_count": 7,
   "metadata": {},
   "outputs": [
    {
     "name": "stdout",
     "output_type": "stream",
     "text": [
      "m=0111111111111111011111001011111111111111, 0110111100000110001001000011111111101011\n",
      "{'m': array([[0, 0],\n",
      "       [1, 1],\n",
      "       [1, 1],\n",
      "       [1, 0],\n",
      "       [1, 1],\n",
      "       [1, 1],\n",
      "       [1, 1],\n",
      "       [1, 1],\n",
      "       [1, 0],\n",
      "       [1, 0],\n",
      "       [1, 0],\n",
      "       [1, 0],\n",
      "       [1, 0],\n",
      "       [1, 1],\n",
      "       [1, 1],\n",
      "       [1, 0],\n",
      "       [0, 0],\n",
      "       [1, 0],\n",
      "       [1, 1],\n",
      "       [1, 0],\n",
      "       [1, 0],\n",
      "       [1, 1],\n",
      "       [0, 0],\n",
      "       [0, 0],\n",
      "       [1, 0],\n",
      "       [0, 0],\n",
      "       [1, 1],\n",
      "       [1, 1],\n",
      "       [1, 1],\n",
      "       [1, 1],\n",
      "       [1, 1],\n",
      "       [1, 1],\n",
      "       [1, 1],\n",
      "       [1, 1],\n",
      "       [1, 1],\n",
      "       [1, 0],\n",
      "       [1, 1],\n",
      "       [1, 0],\n",
      "       [1, 1],\n",
      "       [1, 1]])}\n",
      "0\n"
     ]
    }
   ],
   "source": [
    "print(aqt_sweep)\n",
    "a = getattr(aqt_sweep, 'measurements')\n",
    "#print(a)\n",
    "b = a[\"m\"]+0\n",
    "a[\"m\"]=b\n",
    "print(a)\n",
    "print(b.tolist().count([0,1]))"
   ]
  },
  {
   "cell_type": "code",
   "execution_count": 8,
   "metadata": {},
   "outputs": [
    {
     "name": "stdout",
     "output_type": "stream",
     "text": [
      "Counter({(3,): 22, (2,): 13, (0,): 5})\n"
     ]
    },
    {
     "data": {
      "image/png": "[encoded data removed]",
      "text/plain": [
       "<Figure size 504x360 with 1 Axes>"
      ]
     },
     "execution_count": 8,
     "metadata": {},
     "output_type": "execute_result"
    }
   ],
   "source": [
    "#cirq.plot_state_histogram(aqt_sweep)\n",
    "counts = cirq.TrialResult.multi_measurement_histogram(aqt_sweep,keys=['m'])\n",
    "print(counts)\n",
    "plot_histogram(counts)"
   ]
  },
  {
   "cell_type": "code",
   "execution_count": null,
   "metadata": {},
   "outputs": [],
   "source": []
  },
  {
   "cell_type": "code",
   "execution_count": null,
   "metadata": {},
   "outputs": [],
   "source": []
  },
  {
   "cell_type": "code",
   "execution_count": null,
   "metadata": {},
   "outputs": [],
   "source": []
  }
 ],
 "metadata": {
  "kernelspec": {
   "display_name": "Python 3",
   "language": "python",
   "name": "python3"
  },
  "language_info": {
   "codemirror_mode": {
    "name": "ipython",
    "version": 3
   },
   "file_extension": ".py",
   "mimetype": "text/x-python",
   "name": "python",
   "nbconvert_exporter": "python",
   "pygments_lexer": "ipython3",
   "version": "3.7.4"
  }
 },
 "nbformat": 4,
 "nbformat_minor": 2
}
