{
 "cells": [
  {
   "cell_type": "markdown",
   "metadata": {},
   "source": [
    "# Simple Testing Circuit using Cirq"
   ]
  },
  {
   "cell_type": "code",
<<<<<<< HEAD
   "execution_count": 41,
=======
   "execution_count": 1,
>>>>>>> 73c01924222c07cf30977b65576402cae514880c
   "metadata": {},
   "outputs": [],
   "source": [
    "import cirq\n",
    "import numpy as np"
   ]
  },
  {
   "cell_type": "code",
<<<<<<< HEAD
   "execution_count": 42,
=======
   "execution_count": 2,
>>>>>>> 73c01924222c07cf30977b65576402cae514880c
   "metadata": {},
   "outputs": [],
   "source": [
    "from cirq.aqt.aqt_device import get_aqt_device\n",
    "from cirq.aqt.aqt_sampler import AQTSampler\n",
    "from cirq.aqt.aqt_sampler import AQTSamplerLocalSimulator\n",
    "from qiskit import *\n",
    "from qiskit.tools.visualization import plot_histogram\n",
    "from cirq.ops import CZ, H, X, CX"
   ]
  },
  {
   "cell_type": "code",
<<<<<<< HEAD
   "execution_count": 43,
=======
   "execution_count": 3,
>>>>>>> 73c01924222c07cf30977b65576402cae514880c
   "metadata": {},
   "outputs": [],
   "source": [
    "access_token = '2633b2d14dae4d9da7c9df2503857334'"
   ]
  },
  {
   "cell_type": "code",
<<<<<<< HEAD
   "execution_count": 44,
=======
   "execution_count": 4,
>>>>>>> 73c01924222c07cf30977b65576402cae514880c
   "metadata": {},
   "outputs": [
    {
     "name": "stdout",
     "output_type": "stream",
     "text": [
      "0───1\n",
      "<function Device.qubit_set at 0x7f8f3ba8b440>\n"
     ]
    }
   ],
   "source": [
    "device, qubits = get_aqt_device(2)\n",
    "print(device)\n",
    "print(cirq.Device.qubit_set)"
   ]
  },
  {
   "cell_type": "code",
<<<<<<< HEAD
   "execution_count": 59,
=======
   "execution_count": 5,
>>>>>>> 73c01924222c07cf30977b65576402cae514880c
   "metadata": {},
   "outputs": [
    {
     "name": "stdout",
     "output_type": "stream",
     "text": [
      "1: ───X─── [cirq.LineQubit(0), cirq.LineQubit(1)]\n"
     ]
    }
   ],
   "source": [
    "circuit = cirq.Circuit(device=device)\n",
    "#circuit.append(cirq.X(qubits[0]))\n",
    "circuit.append(cirq.X(qubits[1]))\n",
    "# circuit.append(cirq.measure(*qubits, key='x'))\n",
    "#circuit.append([cirq.CNOT(qubits[1], qubits[0])])\n",
    "print(circuit, qubits)"
   ]
  },
  {
   "cell_type": "code",
<<<<<<< HEAD
   "execution_count": 67,
=======
   "execution_count": 6,
>>>>>>> 73c01924222c07cf30977b65576402cae514880c
   "metadata": {},
   "outputs": [],
   "source": [
    "url = 'https://gateway.aqt.eu/marmot/sim/noise-model-1'\n",
    "aqt_sampler = AQTSampler(url, access_token=access_token)\n",
<<<<<<< HEAD
    "aqt_sweep = aqt_sampler.run(circuit, repetitions=120)"
=======
    "aqt_sweep = aqt_sampler.run(circuit, repetitions=40)"
>>>>>>> 73c01924222c07cf30977b65576402cae514880c
   ]
  },
  {
   "cell_type": "code",
<<<<<<< HEAD
   "execution_count": 68,
=======
   "execution_count": 7,
>>>>>>> 73c01924222c07cf30977b65576402cae514880c
   "metadata": {},
   "outputs": [
    {
     "name": "stdout",
     "output_type": "stream",
     "text": [
<<<<<<< HEAD
      "m=111111111111111111111111111111111111111111111111111111111111111111111111111111111111111111111111111111111111111111111111, 111111111111111111111111111111111111111111111111111111111111111111111111111111111111111111111111111111111111111111111111\n",
      "{'m': array([[ True,  True],\n",
      "       [ True,  True],\n",
      "       [ True,  True],\n",
      "       [ True,  True],\n",
      "       [ True,  True],\n",
      "       [ True,  True],\n",
      "       [ True,  True],\n",
      "       [ True,  True],\n",
      "       [ True,  True],\n",
      "       [ True,  True],\n",
      "       [ True,  True],\n",
      "       [ True,  True],\n",
      "       [ True,  True],\n",
      "       [ True,  True],\n",
      "       [ True,  True],\n",
      "       [ True,  True],\n",
      "       [ True,  True],\n",
      "       [ True,  True],\n",
      "       [ True,  True],\n",
      "       [ True,  True],\n",
      "       [ True,  True],\n",
      "       [ True,  True],\n",
      "       [ True,  True],\n",
      "       [ True,  True],\n",
      "       [ True,  True],\n",
      "       [ True,  True],\n",
      "       [ True,  True],\n",
      "       [ True,  True],\n",
      "       [ True,  True],\n",
      "       [ True,  True],\n",
      "       [ True,  True],\n",
      "       [ True,  True],\n",
      "       [ True,  True],\n",
      "       [ True,  True],\n",
      "       [ True,  True],\n",
      "       [ True,  True],\n",
      "       [ True,  True],\n",
      "       [ True,  True],\n",
      "       [ True,  True],\n",
      "       [ True,  True],\n",
      "       [ True,  True],\n",
      "       [ True,  True],\n",
      "       [ True,  True],\n",
      "       [ True,  True],\n",
      "       [ True,  True],\n",
      "       [ True,  True],\n",
      "       [ True,  True],\n",
      "       [ True,  True],\n",
      "       [ True,  True],\n",
      "       [ True,  True],\n",
      "       [ True,  True],\n",
      "       [ True,  True],\n",
      "       [ True,  True],\n",
      "       [ True,  True],\n",
      "       [ True,  True],\n",
      "       [ True,  True],\n",
      "       [ True,  True],\n",
      "       [ True,  True],\n",
      "       [ True,  True],\n",
      "       [ True,  True],\n",
      "       [ True,  True],\n",
      "       [ True,  True],\n",
      "       [ True,  True],\n",
      "       [ True,  True],\n",
      "       [ True,  True],\n",
      "       [ True,  True],\n",
      "       [ True,  True],\n",
      "       [ True,  True],\n",
      "       [ True,  True],\n",
      "       [ True,  True],\n",
      "       [ True,  True],\n",
      "       [ True,  True],\n",
      "       [ True,  True],\n",
      "       [ True,  True],\n",
      "       [ True,  True],\n",
      "       [ True,  True],\n",
      "       [ True,  True],\n",
      "       [ True,  True],\n",
      "       [ True,  True],\n",
      "       [ True,  True],\n",
      "       [ True,  True],\n",
      "       [ True,  True],\n",
      "       [ True,  True],\n",
      "       [ True,  True],\n",
      "       [ True,  True],\n",
      "       [ True,  True],\n",
      "       [ True,  True],\n",
      "       [ True,  True],\n",
      "       [ True,  True],\n",
      "       [ True,  True],\n",
      "       [ True,  True],\n",
      "       [ True,  True],\n",
      "       [ True,  True],\n",
      "       [ True,  True],\n",
      "       [ True,  True],\n",
      "       [ True,  True],\n",
      "       [ True,  True],\n",
      "       [ True,  True],\n",
      "       [ True,  True],\n",
      "       [ True,  True],\n",
      "       [ True,  True],\n",
      "       [ True,  True],\n",
      "       [ True,  True],\n",
      "       [ True,  True],\n",
      "       [ True,  True],\n",
      "       [ True,  True],\n",
      "       [ True,  True],\n",
      "       [ True,  True],\n",
      "       [ True,  True],\n",
      "       [ True,  True],\n",
      "       [ True,  True],\n",
      "       [ True,  True],\n",
      "       [ True,  True],\n",
      "       [ True,  True],\n",
      "       [ True,  True],\n",
      "       [ True,  True],\n",
      "       [ True,  True],\n",
      "       [ True,  True],\n",
      "       [ True,  True],\n",
      "       [ True,  True]])}\n",
      "{'m': array([[1, 1],\n",
      "       [1, 1],\n",
      "       [1, 1],\n",
      "       [1, 1],\n",
      "       [1, 1],\n",
      "       [1, 1],\n",
      "       [1, 1],\n",
      "       [1, 1],\n",
      "       [1, 1],\n",
      "       [1, 1],\n",
      "       [1, 1],\n",
      "       [1, 1],\n",
      "       [1, 1],\n",
      "       [1, 1],\n",
      "       [1, 1],\n",
      "       [1, 1],\n",
      "       [1, 1],\n",
      "       [1, 1],\n",
      "       [1, 1],\n",
      "       [1, 1],\n",
      "       [1, 1],\n",
      "       [1, 1],\n",
      "       [1, 1],\n",
      "       [1, 1],\n",
      "       [1, 1],\n",
      "       [1, 1],\n",
      "       [1, 1],\n",
      "       [1, 1],\n",
      "       [1, 1],\n",
      "       [1, 1],\n",
      "       [1, 1],\n",
      "       [1, 1],\n",
      "       [1, 1],\n",
      "       [1, 1],\n",
      "       [1, 1],\n",
      "       [1, 1],\n",
      "       [1, 1],\n",
      "       [1, 1],\n",
      "       [1, 1],\n",
      "       [1, 1],\n",
      "       [1, 1],\n",
      "       [1, 1],\n",
      "       [1, 1],\n",
      "       [1, 1],\n",
      "       [1, 1],\n",
      "       [1, 1],\n",
      "       [1, 1],\n",
      "       [1, 1],\n",
      "       [1, 1],\n",
      "       [1, 1],\n",
      "       [1, 1],\n",
      "       [1, 1],\n",
      "       [1, 1],\n",
      "       [1, 1],\n",
      "       [1, 1],\n",
      "       [1, 1],\n",
      "       [1, 1],\n",
      "       [1, 1],\n",
      "       [1, 1],\n",
      "       [1, 1],\n",
      "       [1, 1],\n",
      "       [1, 1],\n",
      "       [1, 1],\n",
      "       [1, 1],\n",
      "       [1, 1],\n",
      "       [1, 1],\n",
      "       [1, 1],\n",
      "       [1, 1],\n",
      "       [1, 1],\n",
      "       [1, 1],\n",
      "       [1, 1],\n",
      "       [1, 1],\n",
      "       [1, 1],\n",
      "       [1, 1],\n",
      "       [1, 1],\n",
      "       [1, 1],\n",
      "       [1, 1],\n",
      "       [1, 1],\n",
      "       [1, 1],\n",
      "       [1, 1],\n",
      "       [1, 1],\n",
      "       [1, 1],\n",
      "       [1, 1],\n",
      "       [1, 1],\n",
      "       [1, 1],\n",
      "       [1, 1],\n",
      "       [1, 1],\n",
      "       [1, 1],\n",
      "       [1, 1],\n",
      "       [1, 1],\n",
      "       [1, 1],\n",
      "       [1, 1],\n",
      "       [1, 1],\n",
      "       [1, 1],\n",
      "       [1, 1],\n",
      "       [1, 1],\n",
      "       [1, 1],\n",
      "       [1, 1],\n",
      "       [1, 1],\n",
      "       [1, 1],\n",
      "       [1, 1],\n",
      "       [1, 1],\n",
      "       [1, 1],\n",
      "       [1, 1],\n",
      "       [1, 1],\n",
      "       [1, 1],\n",
      "       [1, 1],\n",
      "       [1, 1],\n",
      "       [1, 1],\n",
=======
      "m=0111111111111111011111001011111111111111, 0110111100000110001001000011111111101011\n",
      "{'m': array([[0, 0],\n",
      "       [1, 1],\n",
      "       [1, 1],\n",
      "       [1, 0],\n",
>>>>>>> 73c01924222c07cf30977b65576402cae514880c
      "       [1, 1],\n",
      "       [1, 1],\n",
      "       [1, 1],\n",
      "       [1, 1],\n",
      "       [1, 0],\n",
      "       [1, 0],\n",
      "       [1, 0],\n",
      "       [1, 0],\n",
      "       [1, 0],\n",
      "       [1, 1],\n",
      "       [1, 1],\n",
<<<<<<< HEAD
=======
      "       [1, 0],\n",
      "       [0, 0],\n",
      "       [1, 0],\n",
>>>>>>> 73c01924222c07cf30977b65576402cae514880c
      "       [1, 1],\n",
      "       [1, 1],\n",
      "       [0, 0],\n",
      "       [0, 0],\n",
      "       [1, 0],\n",
      "       [0, 0],\n",
      "       [1, 1],\n",
      "       [1, 1],\n",
      "       [1, 1],\n",
      "       [1, 1],\n",
<<<<<<< HEAD
=======
      "       [1, 1],\n",
      "       [1, 1],\n",
      "       [1, 1],\n",
      "       [1, 1],\n",
      "       [1, 1],\n",
      "       [1, 0],\n",
      "       [1, 1],\n",
      "       [1, 0],\n",
      "       [1, 1],\n",
>>>>>>> 73c01924222c07cf30977b65576402cae514880c
      "       [1, 1]])}\n",
      "0\n"
     ]
    }
   ],
   "source": [
    "print(aqt_sweep)\n",
    "a = getattr(aqt_sweep, 'measurements')\n",
    "#print(a)\n",
    "b = a[\"m\"]+0\n",
    "a[\"m\"]=b\n",
    "print(a)\n",
    "print(b.tolist().count([0,1]))"
   ]
  },
  {
   "cell_type": "code",
<<<<<<< HEAD
   "execution_count": 48,
=======
   "execution_count": 8,
>>>>>>> 73c01924222c07cf30977b65576402cae514880c
   "metadata": {},
   "outputs": [
    {
     "name": "stdout",
     "output_type": "stream",
     "text": [
<<<<<<< HEAD
      "Counter({(2,): 120})\n"
=======
      "Counter({(3,): 22, (2,): 13, (0,): 5})\n"
>>>>>>> 73c01924222c07cf30977b65576402cae514880c
     ]
    },
    {
     "data": {
<<<<<<< HEAD
      "image/png": "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\n",
=======
      "image/png": "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\n",
>>>>>>> 73c01924222c07cf30977b65576402cae514880c
      "text/plain": [
       "<Figure size 504x360 with 1 Axes>"
      ]
     },
<<<<<<< HEAD
     "execution_count": 48,
=======
     "execution_count": 8,
>>>>>>> 73c01924222c07cf30977b65576402cae514880c
     "metadata": {},
     "output_type": "execute_result"
    }
   ],
   "source": [
    "#cirq.plot_state_histogram(aqt_sweep)\n",
    "counts = cirq.TrialResult.multi_measurement_histogram(aqt_sweep,keys=['m'])\n",
    "print(counts)\n",
    "plot_histogram(counts)"
   ]
  },
  {
   "cell_type": "code",
   "execution_count": null,
   "metadata": {},
   "outputs": [],
   "source": []
  },
  {
   "cell_type": "code",
   "execution_count": null,
   "metadata": {},
   "outputs": [],
   "source": []
  },
  {
   "cell_type": "code",
   "execution_count": null,
   "metadata": {},
   "outputs": [],
   "source": []
  }
 ],
 "metadata": {
  "kernelspec": {
   "display_name": "Python 3",
   "language": "python",
   "name": "python3"
  },
  "language_info": {
   "codemirror_mode": {
    "name": "ipython",
    "version": 3
   },
   "file_extension": ".py",
   "mimetype": "text/x-python",
   "name": "python",
   "nbconvert_exporter": "python",
   "pygments_lexer": "ipython3",
   "version": "3.7.4"
  }
 },
 "nbformat": 4,
 "nbformat_minor": 2
}
