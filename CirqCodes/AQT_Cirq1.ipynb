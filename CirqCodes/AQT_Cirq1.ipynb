{
 "cells": [
  {
   "cell_type": "code",
   "execution_count": 18,
   "metadata": {},
   "outputs": [],
   "source": [
    "import cirq\n",
    "import numpy as np"
   ]
  },
  {
   "cell_type": "code",
   "execution_count": 19,
   "metadata": {},
   "outputs": [],
   "source": [
    "from cirq.aqt.aqt_device import get_aqt_device\n",
    "from cirq.aqt.aqt_sampler import AQTSampler\n",
    "from qiskit import *\n",
    "from qiskit.tools.visualization import plot_histogram\n",
    "from cirq.ops import CZ, H, X, CX"
   ]
  },
  {
   "cell_type": "code",
   "execution_count": 20,
   "metadata": {},
   "outputs": [],
   "source": [
    "access_token = '2633b2d14dae4d9da7c9df2503857334'"
   ]
  },
  {
   "cell_type": "code",
   "execution_count": 29,
   "metadata": {},
   "outputs": [
    {
     "name": "stdout",
     "output_type": "stream",
     "text": [
      "0───1\n"
     ]
    }
   ],
   "source": [
    "device, qubits = get_aqt_device(2)\n",
    "print(device)"
   ]
  },
  {
   "cell_type": "code",
   "execution_count": 34,
   "metadata": {},
   "outputs": [
    {
     "ename": "TypeError",
     "evalue": "'tuple' object is not callable",
     "output_type": "error",
     "traceback": [
      "\u001b[1;31m---------------------------------------------------------------------------\u001b[0m",
      "\u001b[1;31mTypeError\u001b[0m                                 Traceback (most recent call last)",
      "\u001b[1;32m<ipython-input-34-8b5e57969a3c>\u001b[0m in \u001b[0;36m<module>\u001b[1;34m\u001b[0m\n\u001b[0;32m      6\u001b[0m \u001b[1;32mfrom\u001b[0m \u001b[0mcirq\u001b[0m\u001b[1;33m.\u001b[0m\u001b[0mops\u001b[0m \u001b[1;32mimport\u001b[0m \u001b[0mCZ\u001b[0m\u001b[1;33m,\u001b[0m \u001b[0mH\u001b[0m\u001b[1;33m,\u001b[0m \u001b[0mX\u001b[0m\u001b[1;33m,\u001b[0m \u001b[0mCX\u001b[0m\u001b[1;33m\u001b[0m\u001b[1;33m\u001b[0m\u001b[0m\n\u001b[0;32m      7\u001b[0m \u001b[0mqubits\u001b[0m \u001b[1;33m=\u001b[0m \u001b[0mget_aqt_device\u001b[0m\u001b[1;33m(\u001b[0m\u001b[1;36m2\u001b[0m\u001b[1;33m)\u001b[0m\u001b[1;33m\u001b[0m\u001b[1;33m\u001b[0m\u001b[0m\n\u001b[1;32m----> 8\u001b[1;33m \u001b[0mcirq\u001b[0m\u001b[1;33m.\u001b[0m\u001b[0mCircuit\u001b[0m\u001b[1;33m(\u001b[0m\u001b[0mH\u001b[0m\u001b[1;33m(\u001b[0m\u001b[0mqubits\u001b[0m\u001b[1;33m(\u001b[0m\u001b[1;36m0\u001b[0m\u001b[1;33m)\u001b[0m\u001b[1;33m)\u001b[0m\u001b[1;33m,\u001b[0m \u001b[0mH\u001b[0m\u001b[1;33m(\u001b[0m\u001b[0mqubits\u001b[0m\u001b[1;33m(\u001b[0m\u001b[1;36m1\u001b[0m\u001b[1;33m)\u001b[0m\u001b[1;33m)\u001b[0m\u001b[1;33m)\u001b[0m\u001b[1;33m\u001b[0m\u001b[1;33m\u001b[0m\u001b[0m\n\u001b[0m\u001b[0;32m      9\u001b[0m \u001b[0mcircuit\u001b[0m \u001b[1;33m=\u001b[0m \u001b[0mcirq\u001b[0m\u001b[1;33m.\u001b[0m\u001b[0mCircuit\u001b[0m\u001b[1;33m(\u001b[0m\u001b[0mdevice\u001b[0m\u001b[1;33m=\u001b[0m\u001b[0mdevice\u001b[0m\u001b[1;33m)\u001b[0m\u001b[1;33m\u001b[0m\u001b[1;33m\u001b[0m\u001b[0m\n\u001b[0;32m     10\u001b[0m \u001b[0mcircuit\u001b[0m\u001b[1;33m.\u001b[0m\u001b[0mappend\u001b[0m\u001b[1;33m(\u001b[0m\u001b[1;33m)\u001b[0m\u001b[1;33m\u001b[0m\u001b[1;33m\u001b[0m\u001b[0m\n",
      "\u001b[1;31mTypeError\u001b[0m: 'tuple' object is not callable"
     ]
    }
   ],
   "source": [
    "#circuit = cirq.Circuit(device=device)\n",
    "#circuit.append([cirq.H(qubits[1])])\n",
    "#circuit.append([cirq.CNOT(qubits[1], qubits[0])])\n",
    "#device.validate_circuit(circuit)\n",
    "#print(circuit, qubits)\n",
    "from cirq.ops import CZ, H, X, CX\n",
    "qubits = get_aqt_device(2)\n",
    "cirq.Circuit(H(qubits(0)), H(qubits(1)))\n",
    "circuit = cirq.Circuit(device=device)\n",
    "circuit.append()\n",
    "print(circuit)"
   ]
  },
  {
   "cell_type": "code",
   "execution_count": 25,
   "metadata": {},
   "outputs": [
    {
     "ename": "AssertionError",
     "evalue": "",
     "output_type": "error",
     "traceback": [
      "\u001b[1;31m---------------------------------------------------------------------------\u001b[0m",
      "\u001b[1;31mAssertionError\u001b[0m                            Traceback (most recent call last)",
      "\u001b[1;32m<ipython-input-25-a797907eeeb4>\u001b[0m in \u001b[0;36m<module>\u001b[1;34m\u001b[0m\n\u001b[0;32m      1\u001b[0m \u001b[0murl\u001b[0m \u001b[1;33m=\u001b[0m \u001b[1;34m'https://gateway.aqt.eu/marmot/sim/'\u001b[0m\u001b[1;33m\u001b[0m\u001b[1;33m\u001b[0m\u001b[0m\n\u001b[0;32m      2\u001b[0m \u001b[0maqt_sampler\u001b[0m \u001b[1;33m=\u001b[0m \u001b[0mAQTSampler\u001b[0m\u001b[1;33m(\u001b[0m\u001b[0murl\u001b[0m\u001b[1;33m,\u001b[0m \u001b[0maccess_token\u001b[0m\u001b[1;33m=\u001b[0m\u001b[0maccess_token\u001b[0m\u001b[1;33m)\u001b[0m\u001b[1;33m\u001b[0m\u001b[1;33m\u001b[0m\u001b[0m\n\u001b[1;32m----> 3\u001b[1;33m \u001b[0maqt_sweep\u001b[0m \u001b[1;33m=\u001b[0m \u001b[0maqt_sampler\u001b[0m\u001b[1;33m.\u001b[0m\u001b[0mrun\u001b[0m\u001b[1;33m(\u001b[0m\u001b[0mcircuit\u001b[0m\u001b[1;33m,\u001b[0m \u001b[0mrepetitions\u001b[0m\u001b[1;33m=\u001b[0m\u001b[1;36m40\u001b[0m\u001b[1;33m)\u001b[0m\u001b[1;33m\u001b[0m\u001b[1;33m\u001b[0m\u001b[0m\n\u001b[0m",
      "\u001b[1;32mC:\\Users\\Niels\\Anaconda3\\lib\\site-packages\\cirq\\work\\sampler.py\u001b[0m in \u001b[0;36mrun\u001b[1;34m(self, program, param_resolver, repetitions)\u001b[0m\n\u001b[0;32m     48\u001b[0m         \"\"\"\n\u001b[0;32m     49\u001b[0m         return self.run_sweep(program, study.ParamResolver(param_resolver),\n\u001b[1;32m---> 50\u001b[1;33m                               repetitions)[0]\n\u001b[0m\u001b[0;32m     51\u001b[0m \u001b[1;33m\u001b[0m\u001b[0m\n\u001b[0;32m     52\u001b[0m     def sample(\n",
      "\u001b[1;32mC:\\Users\\Niels\\Anaconda3\\lib\\site-packages\\cirq\\aqt\\aqt_sampler.py\u001b[0m in \u001b[0;36mrun_sweep\u001b[1;34m(self, program, params, repetitions)\u001b[0m\n\u001b[0;32m    191\u001b[0m         \"\"\"\n\u001b[0;32m    192\u001b[0m         \u001b[0mmeas_name\u001b[0m \u001b[1;33m=\u001b[0m \u001b[1;34m'm'\u001b[0m  \u001b[1;31m# TODO: Get measurement name from circuit. Issue #2195\u001b[0m\u001b[1;33m\u001b[0m\u001b[1;33m\u001b[0m\u001b[0m\n\u001b[1;32m--> 193\u001b[1;33m         \u001b[1;32massert\u001b[0m \u001b[0misinstance\u001b[0m\u001b[1;33m(\u001b[0m\u001b[0mprogram\u001b[0m\u001b[1;33m.\u001b[0m\u001b[0mdevice\u001b[0m\u001b[1;33m,\u001b[0m \u001b[0mIonDevice\u001b[0m\u001b[1;33m)\u001b[0m\u001b[1;33m\u001b[0m\u001b[1;33m\u001b[0m\u001b[0m\n\u001b[0m\u001b[0;32m    194\u001b[0m         \u001b[0mtrial_results\u001b[0m \u001b[1;33m=\u001b[0m \u001b[1;33m[\u001b[0m\u001b[1;33m]\u001b[0m  \u001b[1;31m# type: List[study.TrialResult]\u001b[0m\u001b[1;33m\u001b[0m\u001b[1;33m\u001b[0m\u001b[0m\n\u001b[0;32m    195\u001b[0m         \u001b[1;32mfor\u001b[0m \u001b[0mparam_resolver\u001b[0m \u001b[1;32min\u001b[0m \u001b[0mstudy\u001b[0m\u001b[1;33m.\u001b[0m\u001b[0mto_resolvers\u001b[0m\u001b[1;33m(\u001b[0m\u001b[0mparams\u001b[0m\u001b[1;33m)\u001b[0m\u001b[1;33m:\u001b[0m\u001b[1;33m\u001b[0m\u001b[1;33m\u001b[0m\u001b[0m\n",
      "\u001b[1;31mAssertionError\u001b[0m: "
     ]
    }
   ],
   "source": [
    "url = 'https://gateway.aqt.eu/marmot/sim/'\n",
    "aqt_sampler = AQTSampler(url, access_token=access_token)\n",
    "aqt_sweep = aqt_sampler.run(circuit, repetitions=40)"
   ]
  },
  {
   "cell_type": "code",
   "execution_count": 11,
   "metadata": {},
   "outputs": [
    {
     "name": "stdout",
     "output_type": "stream",
     "text": [
      "m=0100110001111100011100001001101110111011, 0100110001111100011100001001101110111011\n",
      "{'m': array([[0, 0],\n",
      "       [1, 1],\n",
      "       [0, 0],\n",
      "       [0, 0],\n",
      "       [1, 1],\n",
      "       [1, 1],\n",
      "       [0, 0],\n",
      "       [0, 0],\n",
      "       [0, 0],\n",
      "       [1, 1],\n",
      "       [1, 1],\n",
      "       [1, 1],\n",
      "       [1, 1],\n",
      "       [1, 1],\n",
      "       [0, 0],\n",
      "       [0, 0],\n",
      "       [0, 0],\n",
      "       [1, 1],\n",
      "       [1, 1],\n",
      "       [1, 1],\n",
      "       [0, 0],\n",
      "       [0, 0],\n",
      "       [0, 0],\n",
      "       [0, 0],\n",
      "       [1, 1],\n",
      "       [0, 0],\n",
      "       [0, 0],\n",
      "       [1, 1],\n",
      "       [1, 1],\n",
      "       [0, 0],\n",
      "       [1, 1],\n",
      "       [1, 1],\n",
      "       [1, 1],\n",
      "       [0, 0],\n",
      "       [1, 1],\n",
      "       [1, 1],\n",
      "       [1, 1],\n",
      "       [0, 0],\n",
      "       [1, 1],\n",
      "       [1, 1]])}\n",
      "0\n"
     ]
    }
   ],
   "source": [
    "print(aqt_sweep)\n",
    "a = getattr(aqt_sweep, 'measurements')\n",
    "#print(a)\n",
    "b = a[\"m\"]+0\n",
    "a[\"m\"]=b\n",
    "print(a)\n",
    "print(b.tolist().count([0,1]))"
   ]
  },
  {
   "cell_type": "code",
   "execution_count": 8,
   "metadata": {},
   "outputs": [
    {
     "name": "stdout",
     "output_type": "stream",
     "text": [
      "Counter({(0,): 21, (2,): 19})\n"
     ]
    },
    {
     "data": {
      "image/png": "[encoded data removed]",
      "text/plain": [
       "<Figure size 504x360 with 1 Axes>"
      ]
     },
     "execution_count": 8,
     "metadata": {},
     "output_type": "execute_result"
    }
   ],
   "source": [
    "#cirq.plot_state_histogram(aqt_sweep)\n",
    "counts = cirq.TrialResult.multi_measurement_histogram(aqt_sweep,keys=['m'])\n",
    "print(counts)\n",
    "plot_histogram(counts)"
   ]
  },
  {
   "cell_type": "code",
   "execution_count": null,
   "metadata": {},
   "outputs": [],
   "source": []
  },
  {
   "cell_type": "code",
   "execution_count": null,
   "metadata": {},
   "outputs": [],
   "source": []
  },
  {
   "cell_type": "code",
   "execution_count": null,
   "metadata": {},
   "outputs": [],
   "source": []
  }
 ],
 "metadata": {
  "kernelspec": {
   "display_name": "Python 3",
   "language": "python",
   "name": "python3"
  },
  "language_info": {
   "codemirror_mode": {
    "name": "ipython",
    "version": 3
   },
   "file_extension": ".py",
   "mimetype": "text/x-python",
   "name": "python",
   "nbconvert_exporter": "python",
   "pygments_lexer": "ipython3",
   "version": "3.7.4"
  }
 },
 "nbformat": 4,
 "nbformat_minor": 2
}
