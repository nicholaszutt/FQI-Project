{
 "cells": [
  {
   "cell_type": "code",
   "execution_count": 1,
   "metadata": {},
   "outputs": [
    {
     "name": "stdout",
     "output_type": "stream",
     "text": [
      "Circuit:\n",
      "(0, 0): ───H───@───────×───H────────────@─────────×───H────────────@───────×───H───\n",
      "               │       │                │         │                │       │\n",
      "(0, 1): ───────@^0.5───×───@────────×───@^0.5─────×───@────────×───@^0.5───×───────\n",
      "                           │        │                 │        │\n",
      "(1, 0): ───────────────────┼────────┼───@─────────×───┼────────┼───────────────────\n",
      "                           │        │   │         │   │        │\n",
      "(1, 1): ───────────────────@^0.25───×───@^(1/8)───×───@^0.25───×───────────────────\n",
      "\n",
      "FinalState\n",
      "[0.25+0.j 0.25+0.j 0.25+0.j 0.25+0.j 0.25+0.j 0.25+0.j 0.25+0.j 0.25+0.j\n",
      " 0.25+0.j 0.25+0.j 0.25+0.j 0.25+0.j 0.25+0.j 0.25+0.j 0.25+0.j 0.25+0.j]\n"
     ]
    }
   ],
   "source": [
    "\"\"\"\n",
    "Creates and simulates a circuit for Quantum Fourier Transform(QFT)\n",
    "on a 4 qubit system.\n",
    "\n",
    "In this example we demonstrate Fourier Transform on\n",
    "(1,0,0,0,0,0,0,0,0,0,0,0,0,0,0,0) vector. To do the same, we prepare\n",
    "the input state of the qubits as |0000>.\n",
    "=== EXAMPLE OUTPUT ===\n",
    "\n",
    "Circuit:\n",
    "(0, 0): ─H───@^0.5───×───H────────────@^0.5─────×───H──────────@^0.5──×─H\n",
    "             │       │                │         │               │     │\n",
    "(0, 1): ─────@───────×───@^0.25───×───@─────────×───@^0.25───×──@─────×──\n",
    "                         │        │                 │        │\n",
    "(1, 0): ─────────────────┼────────┼───@^0.125───×───┼────────┼───────────\n",
    "                         │        │   │         │   │        │\n",
    "(1, 1): ─────────────────@────────×───@─────────×───@────────×───────────\n",
    "\n",
    "FinalState\n",
    "[0.25+0.j 0.25+0.j 0.25+0.j 0.25+0.j 0.25+0.j 0.25+0.j 0.25+0.j 0.25+0.j\n",
    " 0.25+0.j 0.25+0.j 0.25+0.j 0.25+0.j 0.25+0.j 0.25+0.j 0.25+0.j 0.25+0.j]\n",
    "\"\"\"\n",
    "\n",
    "import numpy as np\n",
    "\n",
    "import cirq\n",
    "\n",
    "def main():\n",
    "    \"\"\"Demonstrates Quantum Fourier transform.\n",
    "    \"\"\"\n",
    "    # Create circuit\n",
    "    qft_circuit = generate_2x2_grid_qft_circuit()\n",
    "    print('Circuit:')\n",
    "    print(qft_circuit)\n",
    "    # Simulate and collect final_state\n",
    "    simulator = cirq.Simulator()\n",
    "    result = simulator.simulate(qft_circuit)\n",
    "    print()\n",
    "    print('FinalState')\n",
    "    print(np.around(result.final_state, 3))\n",
    "\n",
    "def _cz_and_swap(q0, q1, rot):\n",
    "    yield cirq.CZ(q0, q1)**rot\n",
    "    yield cirq.SWAP(q0,q1)\n",
    "\n",
    "# Create a quantum fourier transform circuit for 2*2 planar qubit architecture.\n",
    "# Circuit is adopted from https://arxiv.org/pdf/quant-ph/0402196.pdf\n",
    "def generate_2x2_grid_qft_circuit():\n",
    "    # Define a 2*2 square grid of qubits.\n",
    "    a,b,c,d = [cirq.GridQubit(0, 0), cirq.GridQubit(0, 1),\n",
    "               cirq.GridQubit(1, 1), cirq.GridQubit(1, 0)]\n",
    "\n",
    "    circuit = cirq.Circuit(cirq.H(a),\n",
    "                           _cz_and_swap(a, b, 0.5),\n",
    "                           _cz_and_swap(b, c, 0.25),\n",
    "                           _cz_and_swap(c, d, 0.125),\n",
    "                           cirq.H(a),\n",
    "                           _cz_and_swap(a, b, 0.5),\n",
    "                           _cz_and_swap(b, c, 0.25),\n",
    "                           cirq.H(a),\n",
    "                           _cz_and_swap(a, b, 0.5),\n",
    "                           cirq.H(a),\n",
    "                           strategy=cirq.InsertStrategy.EARLIEST)\n",
    "    return circuit\n",
    "\n",
    "if __name__ == '__main__':\n",
    "    main()"
   ]
  },
  {
   "cell_type": "code",
   "execution_count": null,
   "metadata": {},
   "outputs": [],
   "source": []
  }
 ],
 "metadata": {
  "kernelspec": {
   "display_name": "Python 3",
   "language": "python",
   "name": "python3"
  },
  "language_info": {
   "codemirror_mode": {
    "name": "ipython",
    "version": 3
   },
   "file_extension": ".py",
   "mimetype": "text/x-python",
   "name": "python",
   "nbconvert_exporter": "python",
   "pygments_lexer": "ipython3",
   "version": "3.7.4"
  }
 },
 "nbformat": 4,
 "nbformat_minor": 2
}
