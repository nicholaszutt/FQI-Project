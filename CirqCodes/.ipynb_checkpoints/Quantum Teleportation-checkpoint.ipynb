{
 "cells": [
  {
   "cell_type": "code",
   "execution_count": 2,
   "metadata": {},
   "outputs": [
    {
     "name": "stdout",
     "output_type": "stream",
     "text": [
      "Circuit:\n",
      "0: ───X^0.355───Y^0.514───@───H───M───────@───\n",
      "                          │       │       │\n",
      "1: ───H─────────@─────────X───────M───@───┼───\n",
      "                │                     │   │\n",
      "2: ─────────────X─────────────────────X───@───\n",
      "\n",
      "Bloch Sphere of Message After Random X and Y Gates:\n",
      "x:  0.4388 y:  -0.8984 z:  -0.0189\n",
      "\n",
      "Bloch Sphere of Qubit 2 at Final State:\n",
      "x:  0.4388 y:  -0.8984 z:  -0.0189\n"
     ]
    }
   ],
   "source": [
    "\"\"\"Quantum Teleportation.\n",
    "Quantum Teleportation is a process by which a quantum state can be transmitted\n",
    "by sending only two classical bits of information. This is accomplished by\n",
    "pre-sharing an entangled state between the sender (Alice) and the receiver\n",
    "(Bob). This entangled state allows the receiver (Bob) of the two classical\n",
    "bits of information to possess a qubit with the same state as the one held by\n",
    "the sender (Alice).\n",
    "In the following example output, qubit 0 (the Message) is set to a random state\n",
    "by applying X and Y gates. By sending two classical bits of information after\n",
    "qubit 0 (the Message) and qubit 1 (Alice's entangled qubit) are measured, the\n",
    "final state of qubit 2 (Bob's entangled qubit) will be identical to the\n",
    "original random state of qubit 0 (the Message). This is only possible given\n",
    "that an entangled state is pre-shared between Alice and Bob.\n",
    "=== REFERENCE ===\n",
    "https://en.wikipedia.org/wiki/Quantum_teleportation\n",
    "https://journals.aps.org/prl/abstract/10.1103/PhysRevLett.70.1895\n",
    "=== EXAMPLE OUTPUT ===\n",
    "Circuit:\n",
    "0: -----------X^0.25---Y^0.125---@---H---M-------@---\n",
    "                                 |       |       |\n",
    "1: ---H---@----------------------X-------M---@---|---\n",
    "          |                                  |   |\n",
    "2: -------X----------------------------------X---@---\n",
    "Bloch Sphere of Message After Random X and Y Gates:\n",
    "x:  0.2706 y:  -0.7071 z:  0.6533\n",
    "Bloch Sphere of Qubit 2 at Final State:\n",
    "x:  0.2706 y:  -0.7071 z:  0.6533\n",
    "\"\"\"\n",
    "\n",
    "import random\n",
    "import numpy as np\n",
    "import cirq\n",
    "\n",
    "\n",
    "def make_quantum_teleportation_circuit(ranX, ranY):\n",
    "    circuit = cirq.Circuit()\n",
    "    msg, alice, bob = cirq.LineQubit.range(3)\n",
    "\n",
    "    # Creates Bell state to be shared between Alice and Bob\n",
    "    circuit.append([cirq.H(alice), cirq.CNOT(alice, bob)])\n",
    "    # Creates a random state for the Message\n",
    "    circuit.append([cirq.X(msg)**ranX, cirq.Y(msg)**ranY])\n",
    "    # Bell measurement of the Message and Alice's entangled qubit\n",
    "    circuit.append([cirq.CNOT(msg, alice), cirq.H(msg)])\n",
    "    circuit.append(cirq.measure(msg, alice))\n",
    "    # Uses the two classical bits from the Bell measurement to recover the\n",
    "    # original quantum Message on Bob's entangled qubit\n",
    "    circuit.append([cirq.CNOT(alice, bob), cirq.CZ(msg, bob)])\n",
    "\n",
    "    return circuit\n",
    "\n",
    "\n",
    "def main():\n",
    "    ranX = random.random()\n",
    "    ranY = random.random()\n",
    "    circuit = make_quantum_teleportation_circuit(ranX, ranY)\n",
    "\n",
    "    print(\"Circuit:\")\n",
    "    print(circuit)\n",
    "\n",
    "    sim = cirq.Simulator()\n",
    "\n",
    "    # Create qubits.\n",
    "    q0 = cirq.LineQubit(0)\n",
    "\n",
    "    # Produces the message using random X and Y gates\n",
    "    message = sim.simulate(cirq.Circuit([cirq.X(q0)**ranX, cirq.Y(q0)**ranY]))\n",
    "\n",
    "    print(\"\\nBloch Sphere of Message After Random X and Y Gates:\")\n",
    "    # Prints the Bloch Sphere of the Message after the X and Y gates\n",
    "    expected = cirq.bloch_vector_from_state_vector(message.final_state, 0)\n",
    "    print(\"x: \", np.around(expected[0], 4), \"y: \", np.around(expected[1], 4),\n",
    "          \"z: \", np.around(expected[2], 4))\n",
    "\n",
    "    # Records the final state of the simulation\n",
    "    final_results = sim.simulate(circuit)\n",
    "\n",
    "    print(\"\\nBloch Sphere of Qubit 2 at Final State:\")\n",
    "    # Prints the Bloch Sphere of Bob's entangled qubit at the final state\n",
    "    teleported = cirq.bloch_vector_from_state_vector(final_results.final_state,\n",
    "                                                     2)\n",
    "    print(\"x: \", np.around(teleported[0], 4), \"y: \",\n",
    "          np.around(teleported[1], 4), \"z: \", np.around(teleported[2], 4))\n",
    "\n",
    "    return expected, teleported\n",
    "\n",
    "\n",
    "if __name__ == '__main__':\n",
    "    main()"
   ]
  },
  {
   "cell_type": "code",
   "execution_count": 82,
   "metadata": {},
   "outputs": [
    {
     "name": "stdout",
     "output_type": "stream",
     "text": [
      "message is 0 of type <class 'cirq.devices.line_qubit.LineQubit'>\n"
     ]
    }
   ],
   "source": [
    "import cirq\n",
    "from qiskit import *\n",
    "from qiskit.tools.visualization import plot_histogram\n",
    "from cirq.ops import CZ, H, X, CX\n",
    "from cirq.aqt.aqt_device import get_aqt_device\n",
    "from cirq.aqt.aqt_sampler import AQTSampler\n",
    "access_token = '2633b2d14dae4d9da7c9df2503857334'\n",
    "msg = cirq.LineQubit(0)\n",
    "print('message is {0} of type {1}'.format(msg, type(msg)))"
   ]
  },
  {
   "cell_type": "code",
   "execution_count": 83,
   "metadata": {},
   "outputs": [],
   "source": [
    "import random\n",
    "ranX = random.random()\n",
    "ranY = random.random()\n",
    "#ranq = cirq.X(msg)**ranX, cirq.Y(msg)**ranY\n",
    "ranq = cirq.H(msg)"
   ]
  },
  {
   "cell_type": "code",
   "execution_count": 84,
   "metadata": {},
   "outputs": [
    {
     "name": "stdout",
     "output_type": "stream",
     "text": [
      "0: ───H───\n"
     ]
    }
   ],
   "source": [
    "circuit = cirq.Circuit()\n",
    "circuit.append(ranq)\n",
    "print(circuit)"
   ]
  },
  {
   "cell_type": "code",
   "execution_count": 85,
   "metadata": {},
   "outputs": [
    {
     "name": "stdout",
     "output_type": "stream",
     "text": [
      "x:  1.0 y:  0.0 z:  0.0\n"
     ]
    }
   ],
   "source": [
    "import numpy as np\n",
    "sim = cirq.Simulator()\n",
    "original_message = sim.simulate(circuit)\n",
    "expected = cirq.bloch_vector_from_state_vector(original_message.final_state, 0)\n",
    "print(\"x: \", np.around(expected[0], 4), \"y: \", np.around(expected[1], 4),\n",
    "          \"z: \", np.around(expected[2], 4))"
   ]
  },
  {
   "cell_type": "code",
   "execution_count": 86,
   "metadata": {},
   "outputs": [
    {
     "name": "stdout",
     "output_type": "stream",
     "text": [
      "0: ───H───────\n",
      "\n",
      "1: ───H───@───\n",
      "          │\n",
      "2: ───────X───\n"
     ]
    }
   ],
   "source": [
    "alice, bob = cirq.LineQubit.range(1, 3)\n",
    "circuit.append([cirq.H(alice), cirq.CNOT(alice, bob)])\n",
    "print(circuit)"
   ]
  },
  {
   "cell_type": "code",
   "execution_count": 87,
   "metadata": {},
   "outputs": [
    {
     "name": "stdout",
     "output_type": "stream",
     "text": [
      "0: ───H───────@───H───\n",
      "              │\n",
      "1: ───H───@───X───────\n",
      "          │\n",
      "2: ───────X───────────\n"
     ]
    }
   ],
   "source": [
    "circuit.append([cirq.CNOT(msg, alice), cirq.H(msg)])\n",
    "print(circuit)"
   ]
  },
  {
   "cell_type": "code",
   "execution_count": 88,
   "metadata": {},
   "outputs": [
    {
     "name": "stdout",
     "output_type": "stream",
     "text": [
      "0: ───H───────@───H───M───\n",
      "              │       │\n",
      "1: ───H───@───X───────M───\n",
      "          │\n",
      "2: ───────X───────────────\n"
     ]
    }
   ],
   "source": [
    "circuit.append(cirq.measure(msg, alice))\n",
    "print(circuit)"
   ]
  },
  {
   "cell_type": "code",
   "execution_count": 89,
   "metadata": {},
   "outputs": [
    {
     "name": "stdout",
     "output_type": "stream",
     "text": [
      "0: ───H───────@───H───M───────@───\n",
      "              │       │       │\n",
      "1: ───H───@───X───────M───@───┼───\n",
      "          │               │   │\n",
      "2: ───────X───────────────X───@───\n"
     ]
    }
   ],
   "source": [
    "circuit.append([cirq.CNOT(alice, bob), cirq.CZ(msg, bob)])\n",
    "print(circuit)"
   ]
  },
  {
   "cell_type": "code",
   "execution_count": 90,
   "metadata": {},
   "outputs": [
    {
     "name": "stdout",
     "output_type": "stream",
     "text": [
      "x:  1.0 y:  0.0 z:  0.0\n"
     ]
    }
   ],
   "source": [
    "final_results = sim.simulate(circuit)\n",
    "teleported = cirq.bloch_vector_from_state_vector(final_results.final_state, 2)\n",
    "print(\"x: \", np.around(teleported[0], 4), \"y: \", np.around(teleported[1], 4), \"z: \", np.around(teleported[2], 4))"
   ]
  },
  {
   "cell_type": "code",
   "execution_count": 91,
   "metadata": {},
   "outputs": [],
   "source": [
    "circuit.append([cirq.measure(bob)])\n",
    "results = sim.run(circuit, repetitions=500)"
   ]
  },
  {
   "cell_type": "code",
   "execution_count": 92,
   "metadata": {},
   "outputs": [
    {
     "name": "stdout",
     "output_type": "stream",
     "text": [
      "0,1=00000110101110111011000001111110101111011001000010011010101100000001000011100010000111110111000000000100100000111001001000110110100100000101101100000111011100010011010001011101110110110101100011011010101001001011101000110010111101101110111110011010000001001111000101111010000111111001011010000001011000000111010001101111100111100000111100110101101111010001011011111000100111001010000110111011000011110101011001011100011000010100010101111101000010100100101000100011000110001001110100111101000010101110, 00111101101110100111001110010010010001111110111101001111110011001001001010001100110111100001011000111101010110001110001011110100000110010001010101111000011010001111001001000011100001100011010110000000111110101001010001101010100011110001000001100101000100110101000111110001110011011110100011100111001011000100010011110111011000011011101100000010000001101100001001011011001111101100010010101110011010000011001110111101001001100100101011000001001110100011000001011100101010100000001001100101110101001010\n",
      "2=10111010011010010010100111001110110111000010111001111010001001100100110111111111110001011011000110000111010101111001101000011000111101011010011110010001000010101011111101101100010110010011100001101001011000100001111010010111101011110011100101100000110011100100110110001010000110001101111011110111001101111011001000001101100111010110000101100100111110110010011010111110000000100100000100101010111111101001010011101100110110010011001110010010000110100110111011000001001011111001110101100100010101000101\n"
     ]
    }
   ],
   "source": [
    "print(results)"
   ]
  },
  {
   "cell_type": "code",
   "execution_count": 93,
   "metadata": {},
   "outputs": [
    {
     "name": "stdout",
     "output_type": "stream",
     "text": [
      "Counter({(1,): 259, (0,): 241})\n"
     ]
    },
    {
     "data": {
      "image/png": "[encoded data removed]",
      "text/plain": [
       "<Figure size 504x360 with 1 Axes>"
      ]
     },
     "execution_count": 93,
     "metadata": {},
     "output_type": "execute_result"
    }
   ],
   "source": [
    "counts = cirq.TrialResult.multi_measurement_histogram(results,keys=['2'])\n",
    "print(counts)\n",
    "plot_histogram(counts)"
   ]
  },
  {
   "cell_type": "code",
   "execution_count": null,
   "metadata": {},
   "outputs": [],
   "source": []
  }
 ],
 "metadata": {
  "kernelspec": {
   "display_name": "Python 3",
   "language": "python",
   "name": "python3"
  },
  "language_info": {
   "codemirror_mode": {
    "name": "ipython",
    "version": 3
   },
   "file_extension": ".py",
   "mimetype": "text/x-python",
   "name": "python",
   "nbconvert_exporter": "python",
   "pygments_lexer": "ipython3",
   "version": "3.7.4"
  }
 },
 "nbformat": 4,
 "nbformat_minor": 2
}
