{
 "cells": [
  {
   "cell_type": "code",
   "execution_count": 2,
   "metadata": {},
   "outputs": [
    {
     "name": "stderr",
     "output_type": "stream",
     "text": [
<<<<<<< HEAD
=======
<<<<<<< HEAD
      "Circuit:\n",
      "(0, 0): ───X^0.5───M('m')───\n",
      "Results:\n",
      "m=00011101001111011100\n"
=======
>>>>>>> 46ce6ddb3dd10073aec121ca62371f1cdeca586a
      "ERROR:root:File `'hello_qubit.py'` not found.\n"
     ]
    }
   ],
   "source": [
    "%run -i \"hello_qubit.py\""
   ]
  },
  {
   "cell_type": "code",
   "execution_count": 3,
   "metadata": {},
   "outputs": [
    {
     "name": "stdout",
     "output_type": "stream",
     "text": [
      "Circuit:\n",
      "(0, 0): ───X^0.5───M('m')───\n",
      "Results:\n",
<<<<<<< HEAD
      "m=01011101011101100111\n"
=======
      "m=00101000010110111000\n"
>>>>>>> 73c01924222c07cf30977b65576402cae514880c
>>>>>>> 46ce6ddb3dd10073aec121ca62371f1cdeca586a
     ]
    }
   ],
   "source": [
    "import cirq\n",
    "\n",
    "\n",
    "def main():\n",
    "    # Pick a qubit.\n",
    "    qubit = cirq.GridQubit(0, 0)\n",
    "\n",
    "    # Create a circuit\n",
    "    circuit = cirq.Circuit(\n",
    "        cirq.X(qubit)**0.5,  # Square root of NOT.\n",
    "        cirq.measure(qubit, key='m')  # Measurement.\n",
    "    )\n",
    "    print(\"Circuit:\")\n",
    "    print(circuit)\n",
    "\n",
    "    # Simulate the circuit several times.\n",
    "    simulator = cirq.Simulator()\n",
    "    result = simulator.run(circuit, repetitions=20)\n",
    "    print(\"Results:\")\n",
    "    print(result)\n",
    "\n",
    "\n",
    "if __name__ == '__main__':\n",
    "    main()"
   ]
  },
  {
   "cell_type": "code",
<<<<<<< HEAD
   "execution_count": 4,
=======
<<<<<<< HEAD
   "execution_count": 3,
=======
   "execution_count": 31,
>>>>>>> 73c01924222c07cf30977b65576402cae514880c
>>>>>>> 46ce6ddb3dd10073aec121ca62371f1cdeca586a
   "metadata": {},
   "outputs": [
    {
     "name": "stdout",
     "output_type": "stream",
     "text": [
      "[cirq.GridQubit(0, 0), cirq.GridQubit(0, 1), cirq.GridQubit(0, 2), cirq.GridQubit(1, 0), cirq.GridQubit(1, 1), cirq.GridQubit(1, 2), cirq.GridQubit(2, 0), cirq.GridQubit(2, 1), cirq.GridQubit(2, 2)]\n"
     ]
    }
   ],
   "source": [
    "import cirq\n",
    "from qiskit import *\n",
    "from qiskit.tools.visualization import plot_histogram\n",
    "from cirq.ops import CZ, H, X, CX\n",
    "# define the length of the grid.\n",
    "length = 3\n",
    "# define qubits on the grid.\n",
    "qubits = [cirq.GridQubit(i, j) for i in range(length) for j in range(length)]\n",
    "print(qubits)\n",
    "# prints\n",
    "# [cirq.GridQubit(0, 0), cirq.GridQubit(0, 1), cirq.GridQubit(0, 2), cirq.GridQubit(1, 0), cirq.GridQubit(1, 1), cirq.GridQubit(1, 2), cirq.GridQubit(2, 0), cirq.GridQubit(2, 1), cirq.GridQubit(2, 2)]"
   ]
  },
  {
   "cell_type": "code",
<<<<<<< HEAD
   "execution_count": 4,
=======
   "execution_count": 32,
>>>>>>> 73c01924222c07cf30977b65576402cae514880c
   "metadata": {},
   "outputs": [
    {
     "name": "stdout",
     "output_type": "stream",
     "text": [
      "0: ───H───@───M───\n",
      "          │\n",
      "1: ───X───X───M───\n"
     ]
    }
   ],
   "source": [
    "circuit = cirq.Circuit()\n",
    "(q0,q1) = cirq.LineQubit.range(2)\n",
    "circuit.append([cirq.H(q0),cirq.X(q1),cirq.CNOT(q0,q1)])\n",
    "circuit.append([cirq.measure(q0),cirq.measure(q1)])\n",
    "print(circuit)"
   ]
  },
  {
   "cell_type": "code",
<<<<<<< HEAD
   "execution_count": 6,
=======
<<<<<<< HEAD
   "execution_count": 5,
=======
   "execution_count": 33,
>>>>>>> 73c01924222c07cf30977b65576402cae514880c
>>>>>>> 46ce6ddb3dd10073aec121ca62371f1cdeca586a
   "metadata": {},
   "outputs": [
    {
     "name": "stdout",
     "output_type": "stream",
     "text": [
<<<<<<< HEAD
      "0=0001111011000000110000000000001010001010010111010001111101111011010110000110100100100011010001001111\n",
      "1=0001111011000000110000000000001010001010010111010001111101111011010110000110100100100011010001001111\n"
=======
<<<<<<< HEAD
      "0=0111001111011110110010110100100001000100110011000100011111000101101110100010011100101011000011110010\n",
      "1=0111001111011110110010110100100001000100110011000100011111000101101110100010011100101011000011110010\n"
=======
      "0=1010101100001111111010011100110101100000001001110110001101110001010100001000100000101011101101111010\n",
      "1=0101010011110000000101100011001010011111110110001001110010001110101011110111011111010100010010000101\n"
>>>>>>> 73c01924222c07cf30977b65576402cae514880c
>>>>>>> 46ce6ddb3dd10073aec121ca62371f1cdeca586a
     ]
    }
   ],
   "source": [
    "sim = cirq.Simulator()\n",
    "results = sim.run(circuit, repetitions=100)\n",
    "print(results)"
   ]
  },
  {
   "cell_type": "code",
<<<<<<< HEAD
   "execution_count": 7,
=======
   "execution_count": 34,
>>>>>>> 46ce6ddb3dd10073aec121ca62371f1cdeca586a
   "metadata": {},
   "outputs": [
    {
     "name": "stdout",
     "output_type": "stream",
     "text": [
      "(0, 0): ───H───\n",
      "\n",
      "(0, 1): ───X───\n",
      "\n",
      "(0, 2): ───H───\n",
      "\n",
      "(1, 0): ───X───\n",
      "\n",
      "(1, 1): ───H───\n",
      "\n",
      "(1, 2): ───X───\n",
      "\n",
      "(2, 0): ───H───\n",
      "\n",
      "(2, 1): ───X───\n",
      "\n",
      "(2, 2): ───H───\n"
     ]
    }
   ],
   "source": [
    "circuit = cirq.Circuit()\n",
    "circuit.append(cirq.H(q) for q in qubits if (q.row + q.col) % 2 == 0)\n",
    "circuit.append(cirq.X(q) for q in qubits if (q.row + q.col) % 2 == 1)\n",
    "print(circuit)"
   ]
  },
  {
   "cell_type": "code",
<<<<<<< HEAD
   "execution_count": 8,
=======
   "execution_count": 35,
>>>>>>> 46ce6ddb3dd10073aec121ca62371f1cdeca586a
   "metadata": {},
   "outputs": [
    {
     "name": "stdout",
     "output_type": "stream",
     "text": [
      "(0, 0): ───H───────\n",
      "\n",
      "(0, 1): ───────X───\n",
      "\n",
      "(0, 2): ───H───────\n",
      "\n",
      "(1, 0): ───────X───\n",
      "\n",
      "(1, 1): ───H───────\n",
      "\n",
      "(1, 2): ───────X───\n",
      "\n",
      "(2, 0): ───H───────\n",
      "\n",
      "(2, 1): ───────X───\n",
      "\n",
      "(2, 2): ───H───────\n"
     ]
    }
   ],
   "source": [
    "circuit = cirq.Circuit()\n",
    "circuit.append([cirq.H(q) for q in qubits if (q.row + q.col) % 2 == 0],\n",
    "               strategy=cirq.InsertStrategy.EARLIEST)\n",
    "circuit.append([cirq.X(q) for q in qubits if (q.row + q.col) % 2 == 1],\n",
    "               strategy=cirq.InsertStrategy.NEW_THEN_INLINE)\n",
    "print(circuit)"
   ]
  },
  {
   "cell_type": "code",
<<<<<<< HEAD
   "execution_count": 9,
=======
   "execution_count": 36,
>>>>>>> 46ce6ddb3dd10073aec121ca62371f1cdeca586a
   "metadata": {},
   "outputs": [
    {
     "name": "stdout",
     "output_type": "stream",
     "text": [
      "Moment 0: H((0, 0)) and H((0, 2)) and H((1, 1)) and H((2, 0)) and H((2, 2))\n",
      "Moment 1: X((0, 1)) and X((1, 0)) and X((1, 2)) and X((2, 1))\n"
     ]
    }
   ],
   "source": [
    "for i, m in enumerate(circuit):\n",
    "    print('Moment {}: {}'.format(i, m))"
   ]
  },
  {
   "cell_type": "code",
<<<<<<< HEAD
   "execution_count": 10,
=======
   "execution_count": 37,
>>>>>>> 46ce6ddb3dd10073aec121ca62371f1cdeca586a
   "metadata": {},
   "outputs": [
    {
     "name": "stdout",
     "output_type": "stream",
     "text": [
      "(0, 0)\n"
     ]
    }
   ],
   "source": [
    "qubits = [cirq.GridQubit(x, y) for x in range(3) for y in range(3)]\n",
    "\n",
    "print(qubits[0])"
   ]
  },
  {
   "cell_type": "code",
<<<<<<< HEAD
   "execution_count": 11,
=======
   "execution_count": 38,
>>>>>>> 46ce6ddb3dd10073aec121ca62371f1cdeca586a
   "metadata": {},
   "outputs": [
    {
     "name": "stdout",
     "output_type": "stream",
     "text": [
      "X((0, 0))\n"
     ]
    }
   ],
   "source": [
    "# This is an Pauli X gate. It is an object instance.\n",
    "x_gate = cirq.X\n",
    "# Applying it to the qubit at location (0, 0) (defined above)\n",
    "# turns it into an operation.\n",
    "x_op = x_gate(qubits[0])\n",
    "\n",
    "print(x_op)"
   ]
  },
  {
   "cell_type": "code",
<<<<<<< HEAD
   "execution_count": 12,
=======
   "execution_count": 39,
>>>>>>> 46ce6ddb3dd10073aec121ca62371f1cdeca586a
   "metadata": {},
   "outputs": [
    {
     "name": "stdout",
     "output_type": "stream",
     "text": [
      "X((0, 2)) and CZ((0, 0), (0, 1))\n"
     ]
    }
   ],
   "source": [
    "cz = cirq.CZ(qubits[0], qubits[1])\n",
    "x = cirq.X(qubits[2])\n",
    "moment = cirq.Moment([x, cz])\n",
    "\n",
    "print(moment)"
   ]
  },
  {
   "cell_type": "code",
<<<<<<< HEAD
   "execution_count": 13,
=======
   "execution_count": 40,
>>>>>>> 46ce6ddb3dd10073aec121ca62371f1cdeca586a
   "metadata": {},
   "outputs": [
    {
     "name": "stdout",
     "output_type": "stream",
     "text": [
      "(0, 0): ───@───────\n",
      "           │\n",
      "(0, 1): ───@───@───\n",
      "               │\n",
      "(0, 2): ───X───@───\n"
     ]
    }
   ],
   "source": [
    "cz01 = cirq.CZ(qubits[0], qubits[1])\n",
    "x2 = cirq.X(qubits[2])\n",
    "cz12 = cirq.CZ(qubits[1], qubits[2])\n",
    "moment0 = cirq.Moment([cz01, x2])\n",
    "moment1 = cirq.Moment([cz12])\n",
    "circuit = cirq.Circuit((moment0, moment1))\n",
    "\n",
    "print(circuit)"
   ]
  },
  {
   "cell_type": "code",
<<<<<<< HEAD
   "execution_count": 14,
=======
   "execution_count": 41,
>>>>>>> 46ce6ddb3dd10073aec121ca62371f1cdeca586a
   "metadata": {},
   "outputs": [
    {
     "name": "stdout",
     "output_type": "stream",
     "text": [
      "(0, 0): ───@───H───\n",
      "           │\n",
      "(1, 0): ───@───@───\n",
      "               │\n",
      "(2, 0): ───H───@───\n"
     ]
    }
   ],
   "source": [
    "from cirq.ops import CZ, H, X, CX\n",
    "q0, q1, q2 = [cirq.GridQubit(i, 0) for i in range(3)]\n",
    "circuit = cirq.Circuit()\n",
    "circuit.append([CZ(q0, q1), H(q2)])\n",
    "circuit.append([H(q0), CZ(q1, q2)])\n",
    "print(circuit)"
   ]
  },
  {
   "cell_type": "code",
<<<<<<< HEAD
   "execution_count": 15,
=======
   "execution_count": 42,
>>>>>>> 46ce6ddb3dd10073aec121ca62371f1cdeca586a
   "metadata": {},
   "outputs": [
    {
     "name": "stdout",
     "output_type": "stream",
     "text": [
      "(0, 0): ───@───H───\n",
      "           │\n",
      "(1, 0): ───@───────\n",
      "\n",
      "(2, 0): ───H───────\n"
     ]
    }
   ],
   "source": [
    "from cirq.circuits import InsertStrategy\n",
    "circuit = cirq.Circuit()\n",
    "circuit.append([CZ(q0, q1)])\n",
    "circuit.append([H(q0), H(q2)], strategy=InsertStrategy.EARLIEST)\n",
    "\n",
    "print(circuit)"
   ]
  },
  {
   "cell_type": "code",
<<<<<<< HEAD
   "execution_count": 16,
=======
   "execution_count": 43,
>>>>>>> 46ce6ddb3dd10073aec121ca62371f1cdeca586a
   "metadata": {},
   "outputs": [
    {
     "name": "stdout",
     "output_type": "stream",
     "text": [
      "(0, 0): ───H───────────\n",
      "\n",
      "(1, 0): ───────H───────\n",
      "\n",
      "(2, 0): ───────────H───\n"
     ]
    }
   ],
   "source": [
    "circuit = cirq.Circuit()\n",
    "circuit.append([H(q0), H(q1), H(q2)], strategy=InsertStrategy.NEW)\n",
    "\n",
    "print(circuit)"
   ]
  },
  {
   "cell_type": "code",
<<<<<<< HEAD
   "execution_count": 17,
=======
   "execution_count": 44,
>>>>>>> 46ce6ddb3dd10073aec121ca62371f1cdeca586a
   "metadata": {},
   "outputs": [
    {
     "name": "stdout",
     "output_type": "stream",
     "text": [
      "(0, 0): ───────H───────\n",
      "\n",
      "(1, 0): ───@───@───H───\n",
      "           │   │\n",
      "(2, 0): ───@───@───H───\n"
     ]
    }
   ],
   "source": [
    "circuit = cirq.Circuit()\n",
    "circuit.append([CZ(q1, q2)])\n",
    "circuit.append([CZ(q1, q2)])\n",
    "circuit.append([H(q0), H(q1), H(q2)], strategy=InsertStrategy.INLINE)\n",
    "\n",
    "print(circuit)"
   ]
  },
  {
   "cell_type": "code",
   "execution_count": 18,
   "metadata": {},
   "outputs": [
    {
     "name": "stdout",
     "output_type": "stream",
     "text": [
      "(0, 0): ───H───X───H───\n",
      "\n",
      "(1, 0): ───────────@───\n",
      "                   │\n",
      "(2, 0): ───────────@───\n"
     ]
    }
   ],
   "source": [
    "circuit = cirq.Circuit()\n",
    "circuit.append([H(q0)])\n",
    "circuit.append([X(q0)])\n",
    "circuit.append([CZ(q1,q2), H(q0)], strategy=InsertStrategy.NEW_THEN_INLINE)\n",
    "\n",
    "print(circuit)"
   ]
  },
  {
   "cell_type": "code",
<<<<<<< HEAD
   "execution_count": 19,
=======
   "execution_count": 46,
>>>>>>> 46ce6ddb3dd10073aec121ca62371f1cdeca586a
   "metadata": {},
   "outputs": [
    {
     "name": "stdout",
     "output_type": "stream",
     "text": [
      "CZ((0, 0), (1, 0))\n",
      "[cirq.H.on(cirq.GridQubit(0, 0)), cirq.H.on(cirq.GridQubit(1, 0)), cirq.H.on(cirq.GridQubit(2, 0))]\n",
      "[cirq.CNOT.on(cirq.GridQubit(1, 0), cirq.GridQubit(2, 0))]\n",
      "[cirq.H.on(cirq.GridQubit(0, 0)), [cirq.CZ.on(cirq.GridQubit(1, 0), cirq.GridQubit(2, 0))]]\n",
      "[cirq.MeasurementGate(1, '(0, 0)', ()).on(cirq.GridQubit(0, 0)), cirq.MeasurementGate(1, '(1, 0)', ()).on(cirq.GridQubit(1, 0)), cirq.MeasurementGate(1, '(2, 0)', ()).on(cirq.GridQubit(2, 0))]\n",
      "(0, 0): ───@───H───────────────H───────M───────────\n",
      "           │\n",
      "(1, 0): ───@───────H───────@───────@───────M───────\n",
      "                           │       │\n",
      "(2, 0): ───────────────H───X───────@───────────M───\n"
     ]
    }
   ],
   "source": [
    "def my_layer():\n",
    "    yield CZ(q0, q1)\n",
    "    yield [H(q) for q in (q0, q1, q2)]\n",
    "    yield [CX(q1, q2)]\n",
    "    yield [H(q0), [CZ(q1, q2)]]\n",
    "    yield [cirq.measure(q) for q in (q0, q1, q2)]\n",
    "\n",
    "circuit = cirq.Circuit()\n",
    "circuit.append(my_layer(), strategy=InsertStrategy.NEW)\n",
    "\n",
    "for x in my_layer():\n",
    "    print(x)\n",
    "# prints\n",
    "# CZ((0, 0), (1, 0))\n",
    "# [cirq.H.on(cirq.GridQubit(0, 0)), cirq.H.on(cirq.GridQubit(1, 0)), cirq.H.on(cirq.GridQubit(2, 0))]\n",
    "# [cirq.CZ.on(cirq.GridQubit(1, 0), cirq.GridQubit(2, 0))]\n",
    "# [cirq.H.on(cirq.GridQubit(0, 0)), [cirq.CZ.on(cirq.GridQubit(1, 0), cirq.GridQubit(2, 0))]]\n",
    "\n",
    "print(circuit)"
   ]
  },
  {
   "cell_type": "code",
   "execution_count": 47,
   "metadata": {},
   "outputs": [
    {
     "name": "stdout",
     "output_type": "stream",
     "text": [
      "(0, 0): ───H───\n",
      "\n",
      "(1, 0): ───H───\n"
     ]
    }
   ],
   "source": [
    "circuit = cirq.Circuit(H(q0), H(q1))\n",
    "print(circuit)"
   ]
  },
  {
   "cell_type": "code",
   "execution_count": 48,
   "metadata": {},
   "outputs": [
    {
     "name": "stdout",
     "output_type": "stream",
     "text": [
      "(0, 0): ───@───────\n",
      "           │\n",
      "(1, 0): ───@───H───\n"
     ]
    }
   ],
   "source": [
    "circuit = cirq.Circuit(H(q0), CZ(q0, q1), H(q1), CZ(q0, q1))\n",
    "print(circuit[1:3])"
   ]
  },
  {
   "cell_type": "code",
   "execution_count": 49,
   "metadata": {},
   "outputs": [
    {
     "name": "stdout",
     "output_type": "stream",
     "text": [
      "q_0: ───H───M('meas_0')───\n",
      "\n",
      "q_1: ───H───M('meas_1')───\n"
     ]
    }
   ],
   "source": [
    "from cirq.contrib.qasm_import import circuit_from_qasm\n",
    "circuit = circuit_from_qasm(\"\"\"\n",
    "    OPENQASM 2.0;\n",
    "    include \"qelib1.inc\";\n",
    "    qreg q[2];\n",
    "    creg meas[2];\n",
    "    h q;\n",
    "    measure q -> meas;\n",
    "    \"\"\")\n",
    "print(circuit)"
   ]
  },
  {
   "cell_type": "code",
   "execution_count": 50,
   "metadata": {},
   "outputs": [
    {
     "name": "stdout",
     "output_type": "stream",
     "text": [
      "CNOT((0, 0), (0, 1))\n",
      "CNOT((0, 0), (0, 1))\n"
     ]
    }
   ],
   "source": [
    "from cirq.ops import CNOT\n",
    "from cirq.devices import GridQubit\n",
    "q0, q1 = (GridQubit(0, 0), GridQubit(0, 1))\n",
    "print(CNOT.on(q0, q1))\n",
    "print(CNOT(q0, q1))"
   ]
  },
  {
   "cell_type": "code",
   "execution_count": 51,
   "metadata": {},
   "outputs": [
    {
     "name": "stdout",
     "output_type": "stream",
     "text": [
      "(0, 0): ───X^0.5───@───X^0.5───M('q0')───\n",
      "                   │\n",
      "(1, 0): ───X^0.5───@───X^0.5───M('q1')───\n"
     ]
    }
   ],
   "source": [
    "import cirq\n",
    "\n",
    "q0 = cirq.GridQubit(0, 0)\n",
    "q1 = cirq.GridQubit(1, 0)\n",
    "\n",
    "def basic_circuit(meas=True):\n",
    "    sqrt_x = cirq.X**0.5\n",
    "    yield sqrt_x(q0), sqrt_x(q1)\n",
    "    yield cirq.CZ(q0, q1)\n",
    "    yield sqrt_x(q0), sqrt_x(q1)\n",
    "    if meas:\n",
    "        yield cirq.measure(q0, key='q0'), cirq.measure(q1, key='q1')\n",
    "\n",
    "circuit = cirq.Circuit()\n",
    "circuit.append(basic_circuit())\n",
    "\n",
    "print(circuit)"
   ]
  },
  {
   "cell_type": "code",
   "execution_count": 52,
   "metadata": {},
   "outputs": [
    {
     "name": "stdout",
     "output_type": "stream",
     "text": [
      "q0=1110111101101111011111100100111001101011000000010101001100110010100000100011101001101011010000111101\n",
      "q1=0001001001100110101111011001100110010101101100101001100010000100011011111111010000010110011000100110\n"
     ]
    }
   ],
   "source": [
    "from cirq import Simulator\n",
    "simulator = Simulator()\n",
    "result = simulator.run(circuit,repetitions=100)\n",
    "\n",
    "print(result)"
   ]
  },
  {
   "cell_type": "code",
   "execution_count": 53,
   "metadata": {},
   "outputs": [
    {
     "name": "stdout",
     "output_type": "stream",
     "text": [
      "[0.5+0.j  0. +0.5j 0. +0.5j 0.5+0.j ]\n"
     ]
    }
   ],
   "source": [
    "import numpy as np\n",
    "circuit = cirq.Circuit()\n",
    "circuit.append(basic_circuit(False))    \n",
    "result = simulator.simulate(circuit, qubit_order=[q0, q1])\n",
    "\n",
    "print(np.around(result.final_state, 3))"
   ]
  },
  {
   "cell_type": "code",
   "execution_count": 54,
   "metadata": {},
   "outputs": [
    {
     "name": "stdout",
     "output_type": "stream",
     "text": [
      "[ 1  2 10 20]\n"
     ]
    }
   ],
   "source": [
    "outside = [1, 10]\n",
    "inside = [1, 2]\n",
    "print(np.kron(outside, inside))"
   ]
  },
  {
   "cell_type": "code",
   "execution_count": 55,
   "metadata": {},
   "outputs": [
    {
     "name": "stdout",
     "output_type": "stream",
     "text": [
      "amps[0] is for first=0, second=0\n",
      "amps[1] is for first=0, second=1\n",
      "amps[2] is for first=1, second=0\n",
      "amps[3] is for first=1, second=1\n"
     ]
    }
   ],
   "source": [
    "i = 0\n",
    "for first in [0, 1]:\n",
    "    for second in [0, 1]:\n",
    "        print('amps[{}] is for first={}, second={}'.format(i, first, second))\n",
    "        i += 1"
   ]
  },
  {
   "cell_type": "code",
   "execution_count": 56,
   "metadata": {},
   "outputs": [
    {
     "name": "stdout",
     "output_type": "stream",
     "text": [
      "[0. 0. 1. 0.]\n"
     ]
    }
   ],
   "source": [
    "q_stay = cirq.NamedQubit('q_stay')\n",
    "q_flip = cirq.NamedQubit('q_flip')\n",
    "c = cirq.Circuit(cirq.X(q_flip))\n",
    "\n",
    "# first qubit in order flipped\n",
    "result = simulator.simulate(c, qubit_order=[q_flip, q_stay])\n",
    "print(abs(result.final_state).round(3))"
   ]
  },
  {
   "cell_type": "code",
   "execution_count": 57,
   "metadata": {},
   "outputs": [
    {
     "name": "stdout",
     "output_type": "stream",
     "text": [
      "[0. 1. 0. 0.]\n"
     ]
    }
   ],
   "source": [
    "# second qubit in order flipped\n",
    "result = simulator.simulate(c, qubit_order=[q_stay, q_flip])\n",
    "print(abs(result.final_state).round(3))"
   ]
  },
  {
   "cell_type": "code",
   "execution_count": 58,
   "metadata": {},
   "outputs": [
    {
     "name": "stdout",
     "output_type": "stream",
     "text": [
      "state at step 0: [0. +0.5j 0.5+0.j  0.5+0.j  0. -0.5j]\n",
      "state at step 1: [0. +0.5j 0.5+0.j  0.5+0.j  0. +0.5j]\n",
      "state at step 2: [0.5+0.j  0. +0.5j 0. +0.5j 0.5+0.j ]\n",
      "state at step 3: [0.+0.j 0.+1.j 0.+0.j 0.+0.j]\n"
     ]
    }
   ],
   "source": [
    "circuit = cirq.Circuit()\n",
    "circuit.append(basic_circuit())    \n",
    "for i, step in enumerate(simulator.simulate_moment_steps(circuit)):\n",
    "    print('state at step %d: %s' % (i, np.around(step.state_vector(), 3)))"
   ]
  },
  {
   "cell_type": "code",
   "execution_count": 59,
   "metadata": {},
   "outputs": [
    {
     "name": "stdout",
     "output_type": "stream",
     "text": [
      "Counter({0: 84, 1: 16})\n"
     ]
    }
   ],
   "source": [
    "q = cirq.NamedQubit('a')\n",
    "circuit = cirq.Circuit(cirq.bit_flip(p=0.2)(q), cirq.measure(q))\n",
    "simulator = cirq.Simulator()\n",
    "result = simulator.run(circuit, repetitions=100)\n",
    "print(result.histogram(key='a'))"
   ]
  },
  {
   "cell_type": "code",
   "execution_count": 1,
   "metadata": {},
   "outputs": [
    {
     "name": "stdout",
     "output_type": "stream",
     "text": [
      "Circuit:\n",
      "(0, 0): ───X^0.5───M('m')───\n",
      "Results:\n",
      "m=11011001011011011010\n"
     ]
    }
   ],
   "source": [
    "\"\"\"Creates and simulates a simple circuit.\n",
    "\n",
    "=== EXAMPLE OUTPUT ===\n",
    "Circuit:\n",
    "(0, 0): ───X^0.5───M('m')───\n",
    "Results:\n",
    "m=11000111111011001000\n",
    "\"\"\"\n",
    "\n",
    "import cirq\n",
    "\n",
    "\n",
    "def main():\n",
    "    # Pick a qubit.\n",
    "    qubit = cirq.GridQubit(0, 0)\n",
    "\n",
    "    # Create a circuit\n",
    "    circuit = cirq.Circuit(\n",
    "        cirq.X(qubit)**0.5,  # Square root of NOT.\n",
    "        cirq.measure(qubit, key='m')  # Measurement.\n",
    "    )\n",
    "    print(\"Circuit:\")\n",
    "    print(circuit)\n",
    "\n",
    "    # Simulate the circuit several times.\n",
    "    simulator = cirq.Simulator()\n",
    "    result = simulator.run(circuit, repetitions=20)\n",
    "    print(\"Results:\")\n",
    "    print(result)\n",
    "\n",
    "\n",
    "if __name__ == '__main__':\n",
    "    main()"
   ]
  },
  {
   "cell_type": "code",
   "execution_count": null,
   "metadata": {},
   "outputs": [],
   "source": []
  }
 ],
 "metadata": {
  "kernelspec": {
   "display_name": "Python 3",
   "language": "python",
   "name": "python3"
  },
  "language_info": {
   "codemirror_mode": {
    "name": "ipython",
    "version": 3
   },
   "file_extension": ".py",
   "mimetype": "text/x-python",
   "name": "python",
   "nbconvert_exporter": "python",
   "pygments_lexer": "ipython3",
   "version": "3.7.5"
  }
 },
 "nbformat": 4,
 "nbformat_minor": 2
}
