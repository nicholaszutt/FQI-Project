{
 "cells": [
  {
   "cell_type": "code",
   "execution_count": 2,
   "metadata": {},
   "outputs": [
    {
     "name": "stdout",
     "output_type": "stream",
     "text": [
      "Circuit:\n",
      "(0, 0): ───X^0.5───M('m')───\n",
      "Results:\n",
      "m=10000110111111001000\n"
     ]
    }
   ],
   "source": [
    "%run -i \"hello_qubit.py\""
   ]
  },
  {
   "cell_type": "code",
   "execution_count": 3,
   "metadata": {},
   "outputs": [
    {
     "name": "stdout",
     "output_type": "stream",
     "text": [
      "Circuit:\n",
      "(0, 0): ───X^0.5───M('m')───\n",
      "Results:\n",
      "m=11010111000001011111\n"
     ]
    }
   ],
   "source": [
    "import cirq\n",
    "\n",
    "\n",
    "def main():\n",
    "    # Pick a qubit.\n",
    "    qubit = cirq.GridQubit(0, 0)\n",
    "\n",
    "    # Create a circuit\n",
    "    circuit = cirq.Circuit(\n",
    "        cirq.X(qubit)**0.5,  # Square root of NOT.\n",
    "        cirq.measure(qubit, key='m')  # Measurement.\n",
    "    )\n",
    "    print(\"Circuit:\")\n",
    "    print(circuit)\n",
    "\n",
    "    # Simulate the circuit several times.\n",
    "    simulator = cirq.Simulator()\n",
    "    result = simulator.run(circuit, repetitions=20)\n",
    "    print(\"Results:\")\n",
    "    print(result)\n",
    "\n",
    "\n",
    "if __name__ == '__main__':\n",
    "    main()"
   ]
  },
  {
   "cell_type": "code",
   "execution_count": 9,
   "metadata": {},
   "outputs": [
    {
     "name": "stdout",
     "output_type": "stream",
     "text": [
      "[cirq.GridQubit(0, 0), cirq.GridQubit(0, 1), cirq.GridQubit(0, 2), cirq.GridQubit(1, 0), cirq.GridQubit(1, 1), cirq.GridQubit(1, 2), cirq.GridQubit(2, 0), cirq.GridQubit(2, 1), cirq.GridQubit(2, 2)]\n"
     ]
    }
   ],
   "source": [
    "import cirq\n",
    "\n",
    "# define the length of the grid.\n",
    "length = 3\n",
    "# define qubits on the grid.\n",
    "qubits = [cirq.GridQubit(i, j) for i in range(length) for j in range(length)]\n",
    "print(qubits)\n",
    "# prints\n",
    "# [cirq.GridQubit(0, 0), cirq.GridQubit(0, 1), cirq.GridQubit(0, 2), cirq.GridQubit(1, 0), cirq.GridQubit(1, 1), cirq.GridQubit(1, 2), cirq.GridQubit(2, 0), cirq.GridQubit(2, 1), cirq.GridQubit(2, 2)]"
   ]
  },
  {
   "cell_type": "code",
   "execution_count": 5,
   "metadata": {},
   "outputs": [
    {
     "name": "stdout",
     "output_type": "stream",
     "text": [
      "0: ───H───@───M───\n",
      "          │\n",
      "1: ───────X───M───\n"
     ]
    }
   ],
   "source": [
    "circuit = cirq.Circuit()\n",
    "(q0,q1) = cirq.LineQubit.range(2)\n",
    "circuit.append([cirq.H(q0),cirq.CNOT(q0,q1)])\n",
    "circuit.append([cirq.measure(q0),cirq.measure(q1)])\n",
    "print(circuit)"
   ]
  },
  {
   "cell_type": "code",
   "execution_count": 7,
   "metadata": {},
   "outputs": [
    {
     "name": "stdout",
     "output_type": "stream",
     "text": [
      "0=0110011110100100010010100110000011011110001010010001111000110000010010111101101100001001101100111011\n",
      "1=0110011110100100010010100110000011011110001010010001111000110000010010111101101100001001101100111011\n"
     ]
    }
   ],
   "source": [
    "sim = cirq.Simulator()\n",
    "results = sim.run(circuit, repetitions=100)\n",
    "print(results)"
   ]
  },
  {
   "cell_type": "code",
   "execution_count": 10,
   "metadata": {},
   "outputs": [
    {
     "name": "stdout",
     "output_type": "stream",
     "text": [
      "(0, 0): ───H───\n",
      "\n",
      "(0, 1): ───X───\n",
      "\n",
      "(0, 2): ───H───\n",
      "\n",
      "(1, 0): ───X───\n",
      "\n",
      "(1, 1): ───H───\n",
      "\n",
      "(1, 2): ───X───\n",
      "\n",
      "(2, 0): ───H───\n",
      "\n",
      "(2, 1): ───X───\n",
      "\n",
      "(2, 2): ───H───\n"
     ]
    }
   ],
   "source": [
    "circuit = cirq.Circuit()\n",
    "circuit.append(cirq.H(q) for q in qubits if (q.row + q.col) % 2 == 0)\n",
    "circuit.append(cirq.X(q) for q in qubits if (q.row + q.col) % 2 == 1)\n",
    "print(circuit)"
   ]
  },
  {
   "cell_type": "code",
   "execution_count": 11,
   "metadata": {},
   "outputs": [
    {
     "name": "stdout",
     "output_type": "stream",
     "text": [
      "(0, 0): ───H───────\n",
      "\n",
      "(0, 1): ───────X───\n",
      "\n",
      "(0, 2): ───H───────\n",
      "\n",
      "(1, 0): ───────X───\n",
      "\n",
      "(1, 1): ───H───────\n",
      "\n",
      "(1, 2): ───────X───\n",
      "\n",
      "(2, 0): ───H───────\n",
      "\n",
      "(2, 1): ───────X───\n",
      "\n",
      "(2, 2): ───H───────\n"
     ]
    }
   ],
   "source": [
    "circuit = cirq.Circuit()\n",
    "circuit.append([cirq.H(q) for q in qubits if (q.row + q.col) % 2 == 0],\n",
    "               strategy=cirq.InsertStrategy.EARLIEST)\n",
    "circuit.append([cirq.X(q) for q in qubits if (q.row + q.col) % 2 == 1],\n",
    "               strategy=cirq.InsertStrategy.NEW_THEN_INLINE)\n",
    "print(circuit)"
   ]
  },
  {
   "cell_type": "code",
   "execution_count": 12,
   "metadata": {},
   "outputs": [
    {
     "name": "stdout",
     "output_type": "stream",
     "text": [
      "Moment 0: H((0, 0)) and H((0, 2)) and H((1, 1)) and H((2, 0)) and H((2, 2))\n",
      "Moment 1: X((0, 1)) and X((1, 0)) and X((1, 2)) and X((2, 1))\n"
     ]
    }
   ],
   "source": [
    "for i, m in enumerate(circuit):\n",
    "    print('Moment {}: {}'.format(i, m))"
   ]
  },
  {
   "cell_type": "code",
   "execution_count": 13,
   "metadata": {},
   "outputs": [
    {
     "name": "stdout",
     "output_type": "stream",
     "text": [
      "(0, 0)\n"
     ]
    }
   ],
   "source": [
    "qubits = [cirq.GridQubit(x, y) for x in range(3) for y in range(3)]\n",
    "\n",
    "print(qubits[0])"
   ]
  },
  {
   "cell_type": "code",
   "execution_count": 14,
   "metadata": {},
   "outputs": [
    {
     "name": "stdout",
     "output_type": "stream",
     "text": [
      "X((0, 0))\n"
     ]
    }
   ],
   "source": [
    "# This is an Pauli X gate. It is an object instance.\n",
    "x_gate = cirq.X\n",
    "# Applying it to the qubit at location (0, 0) (defined above)\n",
    "# turns it into an operation.\n",
    "x_op = x_gate(qubits[0])\n",
    "\n",
    "print(x_op)"
   ]
  },
  {
   "cell_type": "code",
   "execution_count": 15,
   "metadata": {},
   "outputs": [
    {
     "name": "stdout",
     "output_type": "stream",
     "text": [
      "X((0, 2)) and CZ((0, 0), (0, 1))\n"
     ]
    }
   ],
   "source": [
    "cz = cirq.CZ(qubits[0], qubits[1])\n",
    "x = cirq.X(qubits[2])\n",
    "moment = cirq.Moment([x, cz])\n",
    "\n",
    "print(moment)"
   ]
  },
  {
   "cell_type": "code",
   "execution_count": 16,
   "metadata": {},
   "outputs": [
    {
     "name": "stdout",
     "output_type": "stream",
     "text": [
      "(0, 0): ───@───────\n",
      "           │\n",
      "(0, 1): ───@───@───\n",
      "               │\n",
      "(0, 2): ───X───@───\n"
     ]
    }
   ],
   "source": [
    "cz01 = cirq.CZ(qubits[0], qubits[1])\n",
    "x2 = cirq.X(qubits[2])\n",
    "cz12 = cirq.CZ(qubits[1], qubits[2])\n",
    "moment0 = cirq.Moment([cz01, x2])\n",
    "moment1 = cirq.Moment([cz12])\n",
    "circuit = cirq.Circuit((moment0, moment1))\n",
    "\n",
    "print(circuit)"
   ]
  },
  {
   "cell_type": "code",
   "execution_count": 47,
   "metadata": {},
   "outputs": [
    {
     "name": "stdout",
     "output_type": "stream",
     "text": [
      "(0, 0): ───@───H───\n",
      "           │\n",
      "(1, 0): ───@───@───\n",
      "               │\n",
      "(2, 0): ───H───@───\n"
     ]
    }
   ],
   "source": [
    "from cirq.ops import CZ, H, X, CX\n",
    "q0, q1, q2 = [cirq.GridQubit(i, 0) for i in range(3)]\n",
    "circuit = cirq.Circuit()\n",
    "circuit.append([CZ(q0, q1), H(q2)])\n",
    "circuit.append([H(q0), CZ(q1, q2)])\n",
    "print(circuit)"
   ]
  },
  {
   "cell_type": "code",
   "execution_count": 36,
   "metadata": {},
   "outputs": [
    {
     "name": "stdout",
     "output_type": "stream",
     "text": [
      "(0, 0): ───@───H───\n",
      "           │\n",
      "(1, 0): ───@───────\n",
      "\n",
      "(2, 0): ───H───────\n"
     ]
    }
   ],
   "source": [
    "from cirq.circuits import InsertStrategy\n",
    "circuit = cirq.Circuit()\n",
    "circuit.append([CZ(q0, q1)])\n",
    "circuit.append([H(q0), H(q2)], strategy=InsertStrategy.EARLIEST)\n",
    "\n",
    "print(circuit)"
   ]
  },
  {
   "cell_type": "code",
   "execution_count": 37,
   "metadata": {},
   "outputs": [
    {
     "name": "stdout",
     "output_type": "stream",
     "text": [
      "(0, 0): ───H───────────\n",
      "\n",
      "(1, 0): ───────H───────\n",
      "\n",
      "(2, 0): ───────────H───\n"
     ]
    }
   ],
   "source": [
    "circuit = cirq.Circuit()\n",
    "circuit.append([H(q0), H(q1), H(q2)], strategy=InsertStrategy.NEW)\n",
    "\n",
    "print(circuit)"
   ]
  },
  {
   "cell_type": "code",
   "execution_count": 38,
   "metadata": {},
   "outputs": [
    {
     "name": "stdout",
     "output_type": "stream",
     "text": [
      "(0, 0): ───────H───────\n",
      "\n",
      "(1, 0): ───@───@───H───\n",
      "           │   │\n",
      "(2, 0): ───@───@───H───\n"
     ]
    }
   ],
   "source": [
    "circuit = cirq.Circuit()\n",
    "circuit.append([CZ(q1, q2)])\n",
    "circuit.append([CZ(q1, q2)])\n",
    "circuit.append([H(q0), H(q1), H(q2)], strategy=InsertStrategy.INLINE)\n",
    "\n",
    "print(circuit)"
   ]
  },
  {
   "cell_type": "code",
   "execution_count": 45,
   "metadata": {},
   "outputs": [
    {
     "name": "stdout",
     "output_type": "stream",
     "text": [
      "(0, 0): ───H───X───H───\n",
      "\n",
      "(1, 0): ───────────@───\n",
      "                   │\n",
      "(2, 0): ───────────@───\n"
     ]
    }
   ],
   "source": [
    "circuit = cirq.Circuit()\n",
    "circuit.append([H(q0)])\n",
    "circuit.append([X(q0)])\n",
    "circuit.append([CZ(q1,q2), H(q0)], strategy=InsertStrategy.NEW_THEN_INLINE)\n",
    "\n",
    "print(circuit)"
   ]
  },
  {
   "cell_type": "code",
   "execution_count": 53,
   "metadata": {},
   "outputs": [
    {
     "name": "stdout",
     "output_type": "stream",
     "text": [
      "CZ((0, 0), (1, 0))\n",
      "[cirq.H.on(cirq.GridQubit(0, 0)), cirq.H.on(cirq.GridQubit(1, 0)), cirq.H.on(cirq.GridQubit(2, 0))]\n",
      "[cirq.CNOT.on(cirq.GridQubit(1, 0), cirq.GridQubit(2, 0))]\n",
      "[cirq.H.on(cirq.GridQubit(0, 0)), [cirq.CZ.on(cirq.GridQubit(1, 0), cirq.GridQubit(2, 0))]]\n",
      "[cirq.MeasurementGate(1, '(0, 0)', ()).on(cirq.GridQubit(0, 0)), cirq.MeasurementGate(1, '(1, 0)', ()).on(cirq.GridQubit(1, 0)), cirq.MeasurementGate(1, '(2, 0)', ()).on(cirq.GridQubit(2, 0))]\n",
      "(0, 0): ───@───H───────────────H───────M───────────\n",
      "           │\n",
      "(1, 0): ───@───────H───────@───────@───────M───────\n",
      "                           │       │\n",
      "(2, 0): ───────────────H───X───────@───────────M───\n"
     ]
    }
   ],
   "source": [
    "def my_layer():\n",
    "    yield CZ(q0, q1)\n",
    "    yield [H(q) for q in (q0, q1, q2)]\n",
    "    yield [CX(q1, q2)]\n",
    "    yield [H(q0), [CZ(q1, q2)]]\n",
    "    yield [cirq.measure(q) for q in (q0, q1, q2)]\n",
    "\n",
    "circuit = cirq.Circuit()\n",
    "circuit.append(my_layer(), strategy=InsertStrategy.NEW)\n",
    "\n",
    "for x in my_layer():\n",
    "    print(x)\n",
    "# prints\n",
    "# CZ((0, 0), (1, 0))\n",
    "# [cirq.H.on(cirq.GridQubit(0, 0)), cirq.H.on(cirq.GridQubit(1, 0)), cirq.H.on(cirq.GridQubit(2, 0))]\n",
    "# [cirq.CZ.on(cirq.GridQubit(1, 0), cirq.GridQubit(2, 0))]\n",
    "# [cirq.H.on(cirq.GridQubit(0, 0)), [cirq.CZ.on(cirq.GridQubit(1, 0), cirq.GridQubit(2, 0))]]\n",
    "\n",
    "print(circuit)"
   ]
  },
  {
   "cell_type": "code",
   "execution_count": 49,
   "metadata": {},
   "outputs": [
    {
     "name": "stdout",
     "output_type": "stream",
     "text": [
      "(0, 0): ───H───\n",
      "\n",
      "(1, 0): ───H───\n"
     ]
    }
   ],
   "source": [
    "circuit = cirq.Circuit(H(q0), H(q1))\n",
    "print(circuit)"
   ]
  },
  {
   "cell_type": "code",
   "execution_count": 51,
   "metadata": {},
   "outputs": [
    {
     "name": "stdout",
     "output_type": "stream",
     "text": [
      "(0, 0): ───@───────\n",
      "           │\n",
      "(1, 0): ───@───H───\n"
     ]
    }
   ],
   "source": [
    "circuit = cirq.Circuit(H(q0), CZ(q0, q1), H(q1), CZ(q0, q1))\n",
    "print(circuit[1:3])"
   ]
  },
  {
   "cell_type": "code",
   "execution_count": 52,
   "metadata": {},
   "outputs": [
    {
     "name": "stdout",
     "output_type": "stream",
     "text": [
      "q_0: ───H───M('meas_0')───\n",
      "\n",
      "q_1: ───H───M('meas_1')───\n",
      "\n",
      "q_2: ───H───M('meas_2')───\n"
     ]
    }
   ],
   "source": [
    "from cirq.contrib.qasm_import import circuit_from_qasm\n",
    "circuit = circuit_from_qasm(\"\"\"\n",
    "    OPENQASM 2.0;\n",
    "    include \"qelib1.inc\";\n",
    "    qreg q[3];\n",
    "    creg meas[3];\n",
    "    h q;\n",
    "    measure q -> meas;\n",
    "    \"\"\")\n",
    "print(circuit)"
   ]
  },
  {
   "cell_type": "code",
   "execution_count": 54,
   "metadata": {},
   "outputs": [
    {
     "name": "stdout",
     "output_type": "stream",
     "text": [
      "CNOT((0, 0), (0, 1))\n",
      "CNOT((0, 0), (0, 1))\n"
     ]
    }
   ],
   "source": [
    "from cirq.ops import CNOT\n",
    "from cirq.devices import GridQubit\n",
    "q0, q1 = (GridQubit(0, 0), GridQubit(0, 1))\n",
    "print(CNOT.on(q0, q1))\n",
    "print(CNOT(q0, q1))"
   ]
  },
  {
   "cell_type": "code",
   "execution_count": null,
   "metadata": {},
   "outputs": [],
   "source": []
  }
 ],
 "metadata": {
  "kernelspec": {
   "display_name": "Python 3",
   "language": "python",
   "name": "python3"
  },
  "language_info": {
   "codemirror_mode": {
    "name": "ipython",
    "version": 3
   },
   "file_extension": ".py",
   "mimetype": "text/x-python",
   "name": "python",
   "nbconvert_exporter": "python",
   "pygments_lexer": "ipython3",
   "version": "3.7.4"
  }
 },
 "nbformat": 4,
 "nbformat_minor": 2
}
