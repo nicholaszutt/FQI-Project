{
 "cells": [
  {
   "cell_type": "code",
   "execution_count": 29,
   "metadata": {},
   "outputs": [],
   "source": [
    "%matplotlib inline\n",
    "import cirq\n",
    "\n",
    "from cirq.aqt.aqt_device import get_aqt_device\n",
    "\n",
    "import qiskit\n",
    "from qiskit.tools.visualization import plot_histogram"
   ]
  },
  {
   "cell_type": "code",
   "execution_count": 30,
   "metadata": {},
   "outputs": [
    {
     "name": "stdout",
     "output_type": "stream",
     "text": [
      "0: ───Rx(π)───Ry(-0.5π)───Ry(0.5π)───MS(0.25π)───Rx(-0.5π)───Ry(-0.5π)───M───\n",
      "                                     │\n",
      "1: ───X──────────────────────────────MS(0.25π)───Rx(-0.5π)───M───────────────\n"
     ]
    }
   ],
   "source": [
    "device, qubits = get_aqt_device(2)\n",
    "circuit = cirq.Circuit(device=device)\n",
    "# (q0,q1) = cirq.LineQubit.range(2)\n",
    "circuit.append([cirq.H(q0),cirq.X(q1),cirq.CNOT(q0,q1)])\n",
    "circuit.append([cirq.measure(q0),cirq.measure(q1)])\n",
    "print(circuit)"
   ]
  },
  {
   "cell_type": "code",
   "execution_count": 35,
   "metadata": {},
   "outputs": [
    {
     "name": "stdout",
     "output_type": "stream",
     "text": [
      "0=1111011001001001100010110010100000010010000110010001101011101011001110111001111010011101011111110000\n",
      "1=0000100110110110011101001101011111101101111001101110010100010100110001000110000101100010100000001111\n"
     ]
    }
   ],
   "source": [
    "sim = cirq.Simulator()\n",
    "results = sim.run(circuit, repetitions=100)\n",
    "print(results)"
   ]
  },
  {
   "cell_type": "code",
   "execution_count": 36,
   "metadata": {},
   "outputs": [
    {
     "data": {
      "image/png": "[encoded data removed]",
      "text/plain": [
       "<Figure size 504x360 with 1 Axes>"
      ]
     },
     "execution_count": 36,
     "metadata": {},
     "output_type": "execute_result"
    }
   ],
   "source": [
    "counts = cirq.TrialResult.multi_measurement_histogram(results, keys=['0','1'])\n",
    "plot_histogram(counts)"
   ]
  },
  {
   "cell_type": "code",
   "execution_count": null,
   "metadata": {},
   "outputs": [],
   "source": []
  }
 ],
 "metadata": {
  "kernelspec": {
   "display_name": "Python 3",
   "language": "python",
   "name": "python3"
  },
  "language_info": {
   "codemirror_mode": {
    "name": "ipython",
    "version": 3
   },
   "file_extension": ".py",
   "mimetype": "text/x-python",
   "name": "python",
   "nbconvert_exporter": "python",
   "pygments_lexer": "ipython3",
   "version": "3.7.5"
  }
 },
 "nbformat": 4,
 "nbformat_minor": 2
}
