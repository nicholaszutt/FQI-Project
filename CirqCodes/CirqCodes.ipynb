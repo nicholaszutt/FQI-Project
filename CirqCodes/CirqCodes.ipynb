{
 "cells": [
  {
   "cell_type": "code",
   "execution_count": 2,
   "metadata": {},
   "outputs": [
    {
     "name": "stdout",
     "output_type": "stream",
     "text": [
      "Circuit:\n",
      "(0, 0): ───X^0.5───M('m')───\n",
      "Results:\n",
      "m=10000110111111001000\n"
     ]
    }
   ],
   "source": [
    "%run -i \"hello_qubit.py\""
   ]
  },
  {
   "cell_type": "code",
   "execution_count": 3,
   "metadata": {},
   "outputs": [
    {
     "name": "stdout",
     "output_type": "stream",
     "text": [
      "Circuit:\n",
      "(0, 0): ───X^0.5───M('m')───\n",
      "Results:\n",
      "m=11010111000001011111\n"
     ]
    }
   ],
   "source": [
    "import cirq\n",
    "\n",
    "\n",
    "def main():\n",
    "    # Pick a qubit.\n",
    "    qubit = cirq.GridQubit(0, 0)\n",
    "\n",
    "    # Create a circuit\n",
    "    circuit = cirq.Circuit(\n",
    "        cirq.X(qubit)**0.5,  # Square root of NOT.\n",
    "        cirq.measure(qubit, key='m')  # Measurement.\n",
    "    )\n",
    "    print(\"Circuit:\")\n",
    "    print(circuit)\n",
    "\n",
    "    # Simulate the circuit several times.\n",
    "    simulator = cirq.Simulator()\n",
    "    result = simulator.run(circuit, repetitions=20)\n",
    "    print(\"Results:\")\n",
    "    print(result)\n",
    "\n",
    "\n",
    "if __name__ == '__main__':\n",
    "    main()"
   ]
  },
  {
   "cell_type": "code",
   "execution_count": 4,
   "metadata": {},
   "outputs": [
    {
     "name": "stdout",
     "output_type": "stream",
     "text": [
      "[cirq.GridQubit(0, 0), cirq.GridQubit(0, 1), cirq.GridQubit(0, 2), cirq.GridQubit(1, 0), cirq.GridQubit(1, 1), cirq.GridQubit(1, 2), cirq.GridQubit(2, 0), cirq.GridQubit(2, 1), cirq.GridQubit(2, 2)]\n"
     ]
    }
   ],
   "source": [
    "import cirq\n",
    "\n",
    "# define the length of the grid.\n",
    "length = 3\n",
    "# define qubits on the grid.\n",
    "qubits = [cirq.GridQubit(i, j) for i in range(length) for j in range(length)]\n",
    "print(qubits)\n",
    "# prints\n",
    "# [cirq.GridQubit(0, 0), cirq.GridQubit(0, 1), cirq.GridQubit(0, 2), cirq.GridQubit(1, 0), cirq.GridQubit(1, 1), cirq.GridQubit(1, 2), cirq.GridQubit(2, 0), cirq.GridQubit(2, 1), cirq.GridQubit(2, 2)]"
   ]
  },
  {
   "cell_type": "code",
   "execution_count": 5,
   "metadata": {},
   "outputs": [
    {
     "name": "stdout",
     "output_type": "stream",
     "text": [
      "0: ───H───@───M───\n",
      "          │\n",
      "1: ───────X───M───\n"
     ]
    }
   ],
   "source": [
    "circuit = cirq.Circuit()\n",
    "(q0,q1) = cirq.LineQubit.range(2)\n",
    "circuit.append([cirq.H(q0),cirq.CNOT(q0,q1)])\n",
    "circuit.append([cirq.measure(q0),cirq.measure(q1)])\n",
    "print(circuit)"
   ]
  },
  {
   "cell_type": "code",
   "execution_count": null,
   "metadata": {},
   "outputs": [],
   "source": [
    "sim = cirq."
   ]
  }
 ],
 "metadata": {
  "kernelspec": {
   "display_name": "Python 3",
   "language": "python",
   "name": "python3"
  },
  "language_info": {
   "codemirror_mode": {
    "name": "ipython",
    "version": 3
   },
   "file_extension": ".py",
   "mimetype": "text/x-python",
   "name": "python",
   "nbconvert_exporter": "python",
   "pygments_lexer": "ipython3",
   "version": "3.7.5"
  }
 },
 "nbformat": 4,
 "nbformat_minor": 2
}
