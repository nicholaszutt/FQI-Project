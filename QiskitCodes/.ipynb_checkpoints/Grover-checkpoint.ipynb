{
 "cells": [
  {
   "cell_type": "code",
   "execution_count": 1,
   "metadata": {},
   "outputs": [
    {
     "name": "stderr",
     "output_type": "stream",
     "text": [
      "C:\\Users\\Niels\\Envs\\dev_qiskit\\lib\\site-packages\\qiskit\\providers\\aer\\noise\\device\\basic_device_model.py:112: DeprecationWarning: This function is been deprecated and moved to a method of the`NoiseModel` class. For equivalent functionality use `NoiseModel.from_backend(properties, **kwargs).\n",
      "  DeprecationWarning)\n"
     ]
    }
   ],
   "source": [
    "import numpy as np\n",
    "import pandas as pd\n",
    "from numpy import pi\n",
    "import qiskit\n",
    "from qiskit import execute, Aer\n",
    "from qiskit.visualization import plot_histogram\n",
    "from qiskit.tools.visualization import plot_state_city, plot_bloch_multivector\n",
    "from qiskit.tools.monitor import job_monitor\n",
    "from qiskit.quantum_info import state_fidelity\n",
    "from qiskit.quantum_info import DensityMatrix\n",
    "from qiskit.quantum_info.random.utils import random_state\n",
    "from random import randint\n",
    "from qiskit.providers.aer import noise\n",
    "from qiskit import ClassicalRegister, QuantumRegister, QuantumCircuit, Aer\n",
    "%config InlineBackend.figure_format = 'svg' # Makes the images look nice\n",
    "from qiskit.quantum_info.operators import Operator, Pauli\n",
    "\n",
    "# Tomography functions\n",
    "from qiskit.ignis.verification.tomography import state_tomography_circuits, StateTomographyFitter\n",
    "import qiskit.ignis.mitigation.measurement as mc\n",
    "# imports IBMQ backends\n",
    "from qiskit.providers.ibmq import IBMQ\n",
    "from qiskit.providers.aqt import AQT\n",
    "aqt_provider_simulators = AQT.enable_account('2633b2d14dae4d9da7c9df2503857334')\n",
    "ibmq_provider = IBMQ.load_account()        # credentials stored on disk\n",
    "simulator = ibmq_provider.get_backend('ibmq_qasm_simulator')\n",
    "device = ibmq_provider.get_backend('ibmq_16_melbourne') #ibmq_burlington ibmq_16_melbourne\n",
    "aqt_device = aqt_provider_simulators.get_backend('aqt_qasm_simulator_noise_1')\n",
    "backend_IBMQ = ibmq_provider.get_backend('ibmqx2')\n",
    "properties = backend_IBMQ.properties()\n",
    "noise_model = noise.device.basic_device_noise_model(properties)\n",
    "coupling_map = backend_IBMQ.configuration().coupling_map\n",
    "basis_gates = noise_model.basis_gates"
   ]
  },
  {
   "cell_type": "code",
   "execution_count": 2,
   "metadata": {},
   "outputs": [
    {
     "ename": "NameError",
     "evalue": "name 'qc' is not defined",
     "output_type": "error",
     "traceback": [
      "\u001b[1;31m---------------------------------------------------------------------------\u001b[0m",
      "\u001b[1;31mNameError\u001b[0m                                 Traceback (most recent call last)",
      "\u001b[1;32m<ipython-input-2-4927faa523e4>\u001b[0m in \u001b[0;36m<module>\u001b[1;34m\u001b[0m\n\u001b[0;32m      2\u001b[0m \u001b[0mz\u001b[0m\u001b[1;33m=\u001b[0m \u001b[0mQuantumRegister\u001b[0m\u001b[1;33m(\u001b[0m\u001b[0mdim\u001b[0m\u001b[1;33m)\u001b[0m\u001b[1;33m\u001b[0m\u001b[1;33m\u001b[0m\u001b[0m\n\u001b[0;32m      3\u001b[0m \u001b[0mqc_expected\u001b[0m \u001b[1;33m=\u001b[0m \u001b[0mQuantumCircuit\u001b[0m\u001b[1;33m(\u001b[0m\u001b[0mz\u001b[0m\u001b[1;33m)\u001b[0m\u001b[1;33m\u001b[0m\u001b[1;33m\u001b[0m\u001b[0m\n\u001b[1;32m----> 4\u001b[1;33m \u001b[0mqc\u001b[0m\u001b[1;33m.\u001b[0m\u001b[0mh\u001b[0m\u001b[1;33m(\u001b[0m\u001b[0mrange\u001b[0m\u001b[1;33m(\u001b[0m\u001b[0mdim\u001b[0m\u001b[1;33m)\u001b[0m\u001b[1;33m)\u001b[0m\u001b[1;33m\u001b[0m\u001b[1;33m\u001b[0m\u001b[0m\n\u001b[0m\u001b[0;32m      5\u001b[0m \u001b[0mqreg\u001b[0m \u001b[1;33m=\u001b[0m \u001b[0mQuantumRegister\u001b[0m\u001b[1;33m(\u001b[0m\u001b[1;36m2\u001b[0m\u001b[1;33m)\u001b[0m\u001b[1;33m\u001b[0m\u001b[1;33m\u001b[0m\u001b[0m\n\u001b[0;32m      6\u001b[0m \u001b[1;31m# creating a randomized Grover operator\u001b[0m\u001b[1;33m\u001b[0m\u001b[1;33m\u001b[0m\u001b[1;33m\u001b[0m\u001b[0m\n",
      "\u001b[1;31mNameError\u001b[0m: name 'qc' is not defined"
     ]
    }
   ],
   "source": [
    "dim = 2\n",
    "z= QuantumRegister(dim)\n",
    "qc_expected = QuantumCircuit(z)\n",
    "qc.h(range(dim))\n",
    "qreg = QuantumRegister(2)\n",
    "# creating a randomized Grover operator\n",
    "a = randint(0,2**dim-1)\n",
    "A = np.identity(2**dim)\n",
    "A[a,a] = -1\n",
    "print(A)\n",
    "Grov = Operator(A)\n",
    "qc_expected.append(Grov,range(dim))\n",
    "\n",
    "qc_expected.barrier()\n",
    "# defining the operator to implement inversion about the mean\n",
    "#MeanInv = 0.5*np.ones((4,4),float)\n",
    "#np.fill_diagonal(MeanInv,-0.5)\n",
    "#MeanInv = Operator(MeanInv)\n",
    "#qc.append(MeanInv,[0,1])\n",
    "qc_expected.h(range(dim))\n",
    "qc_expected.x(range(dim))\n",
    "\n",
    "qc_expected.cz(0,1)\n",
    "#qc.h(dim-1)\n",
    "#qc.cccx(0,1,2,3)\n",
    "#qc.h(dim-1)\n",
    "qc_expected.x(range(dim))\n",
    "qc_expected.h(range(dim))\n",
    "qc_expected.barrier()\n",
    "#qc.measure(range(dim),range(dim))\n",
    "qc_expected.draw(output='mpl')"
   ]
  },
  {
   "cell_type": "code",
   "execution_count": null,
   "metadata": {},
   "outputs": [],
   "source": [
    "state = {'XX': {'00': 0, '10': 0,'01': 0, '11': 0}, \n",
    "             'YX': {'00': 0, '10': 0,'01': 0, '11': 0}, \n",
    "             'ZX': {'00': 0, '10': 0,'01': 0, '11': 0}, \n",
    "             'XY': {'00': 0, '10': 0,'01': 0, '11': 0}, \n",
    "             'YY': {'00': 0, '10': 0,'01': 0, '11': 0}, \n",
    "             'ZY': {'00': 0, '10': 0,'01': 0, '11': 0}, \n",
    "             'XZ': {'00': 0, '10': 0,'01': 0, '11': 0}, \n",
    "             'YZ': {'00': 0, '10': 0,'01': 0, '11': 0}, \n",
    "             'ZZ': {'00': 0, '10': 0,'01': 0, '11': 0}}"
   ]
  },
  {
   "cell_type": "code",
   "execution_count": null,
   "metadata": {},
   "outputs": [],
   "source": [
    "#simulate on qiskit aer\n",
    "job = qiskit.execute(qc, Aer.get_backend('statevector_simulator'))\n",
    "psi_expected = job.result().get_statevector(qc)\n",
    "print('The expected state is:', psi_expected)\n",
    "plot_state_city(psi_expected, title='Expected state')"
   ]
  },
  {
   "cell_type": "code",
   "execution_count": null,
   "metadata": {},
   "outputs": [],
   "source": [
    "job = qiskit.execute(qc, device, shots=1000)\n",
    "job_monitor(job)\n",
    "print('Done job.')\n",
    "print(job.error_message())\n",
    "tom=StateTomographyFitter(job.result(), qc)"
   ]
  },
  {
   "cell_type": "code",
   "execution_count": null,
   "metadata": {},
   "outputs": [],
   "source": [
    "state.update({'XX': {'00': state['XX']['00']+tom.data[('X','Z','Z','X')]['0000'],\n",
    "                                '10': state['XX']['10']+tom.data[('X','Z','Z','X')]['1000'],\n",
    "                                '01': state['XX']['01']+tom.data[('X','Z','Z','X')]['0001'],\n",
    "                                '11': state['XX']['11']+tom.data[('X','Z','Z','X')]['1001']}})\n",
    "state.update({'YX': {'00': state['YX']['00']+tom.data[('Y','Z','Z','X')]['0000'],\n",
    "                                '10': state['YX']['10']+tom.data[('Y','Z','Z','X')]['1000'],\n",
    "                                '01': state['YX']['01']+tom.data[('Y','Z','Z','X')]['0001'],\n",
    "                                '11': state['YX']['11']+tom.data[('Y','Z','Z','X')]['1001']}})\n",
    "state.update({'ZX': {'00': state['ZX']['00']+tom.data[('Z','Z','Z','X')]['0000'],\n",
    "                                '10': state['ZX']['10']+tom.data[('Z','Z','Z','X')]['1000'],\n",
    "                                '01': state['ZX']['01']+tom.data[('Z','Z','Z','X')]['0001'],\n",
    "                                '11': state['ZX']['11']+tom.data[('Z','Z','Z','X')]['1001']}})\n",
    "state.update({'XY': {'00': state['XY']['00']+tom.data[('X','Z','Z','Y')]['0000'],\n",
    "                                '10': state['XY']['10']+tom.data[('X','Z','Z','Y')]['1000'],\n",
    "                                '01': state['XY']['01']+tom.data[('X','Z','Z','Y')]['0001'],\n",
    "                                '11': state['XY']['11']+tom.data[('X','Z','Z','Y')]['1001']}})\n",
    "state.update({'YY': {'00': state['YY']['00']+tom.data[('Y','Z','Z','Y')]['0000'],\n",
    "                                '10': state['YY']['10']+tom.data[('Y','Z','Z','Y')]['1000'],\n",
    "                                '01': state['YY']['01']+tom.data[('Y','Z','Z','Y')]['0001'],\n",
    "                                '11': state['YY']['11']+tom.data[('Y','Z','Z','Y')]['1001']}})\n",
    "state.update({'ZY': {'00': state['ZY']['00']+tom.data[('Z','Z','Z','Y')]['0000'],\n",
    "                                '10': state['ZY']['10']+tom.data[('Z','Z','Z','Y')]['1000'],\n",
    "                                '01': state['ZY']['01']+tom.data[('Z','Z','Z','Y')]['0001'],\n",
    "                                '11': state['ZY']['11']+tom.data[('Z','Z','Z','Y')]['1001']}})\n",
    "state.update({'XZ': {'00': state['XZ']['00']+tom.data[('X','Z','Z','Z')]['0000'],\n",
    "                                '10': state['XZ']['10']+tom.data[('X','Z','Z','Z')]['1000'],\n",
    "                                '01': state['XZ']['01']+tom.data[('X','Z','Z','Z')]['0001'],\n",
    "                                '11': state['XZ']['11']+tom.data[('X','Z','Z','Z')]['1001']}})\n",
    "state.update({'YZ': {'00': state['YZ']['00']+tom.data[('Y','Z','Z','Z')]['0000'],\n",
    "                                '10': state['YZ']['10']+tom.data[('Y','Z','Z','Z')]['1000'],\n",
    "                                '01': state['YZ']['01']+tom.data[('Y','Z','Z','Z')]['0001'],\n",
    "                                '11': state['YZ']['11']+tom.data[('Y','Z','Z','Z')]['1001']}})\n",
    "state.update({'ZZ': {'00': state['ZZ']['00']+tom.data[('Z','Z','Z','Z')]['0000'],\n",
    "                                '10': state['ZZ']['10']+tom.data[('Z','Z','Z','Z')]['1000'],\n",
    "                                '01': state['ZZ']['01']+tom.data[('Z','Z','Z','Z')]['0001'],\n",
    "                                '11': state['ZZ']['11']+tom.data[('Z','Z','Z','Z')]['1001']}})\n",
    "    "
   ]
  },
  {
   "cell_type": "code",
   "execution_count": null,
   "metadata": {},
   "outputs": [],
   "source": [
    "Iden = np.matrix('1,0,0,0;0,1,0,0;0,0,1,0;0,0,0,1')\n",
    "\n",
    "YXPaul = np.matrix('0,0,0,0-1j;0,0,0-1j,0;0,0+1j,0,0;0+1j,0,0,0')\n",
    "YYPaul = np.matrix('0,0,0,-1;0,0,1,0;0,1,0,0;-1,0,0,0')\n",
    "YZPaul = np.matrix('0,0,0-1j,0;0,0,0,0+1j;0+1j,0,0,0;0,0-1j,0,0')\n",
    "\n",
    "ZXPaul = np.matrix('0,1,0,0;1,0,0,0;0,0,0,-1;0,0,-1,0')\n",
    "ZYPaul = np.matrix('0,0-1j,0,0;0+1j,0,0,0;0,0,0,0+1j;0,0,0-1j,0')\n",
    "ZZPaul = np.matrix('1,0,0,0;0,-1,0,0;0,0,-1,0;0,0,0,1')\n",
    "state_sim = state\n",
    "# simulator Bloch vector\n",
    "rxx_sim = (state_sim['XX']['00']*1 + state_sim['XX']['10']*(-1)+state_sim['XX']['01']*(-1)+state_sim['XX']['11']*1) /(state_sim['XX']['00']*1 + state_sim['XX']['10']*(1)+state_sim['XX']['01']*(1)+state_sim['XX']['11']*1)\n",
    "rxy_sim = (state_sim['XY']['00']*1 + state_sim['XY']['10']*(-1)+state_sim['XY']['01']*(-1)+state_sim['XY']['11']*1) /(state_sim['XY']['00']*1 + state_sim['XY']['10']*(1)+state_sim['XY']['01']*(1)+state_sim['XY']['11']*1)\n",
    "rxz_sim = (state_sim['XZ']['00']*1 + state_sim['XZ']['10']*(-1)+state_sim['XZ']['01']*(-1)+state_sim['XZ']['11']*1) /(state_sim['XZ']['00']*1 + state_sim['XZ']['10']*(1)+state_sim['XZ']['01']*(1)+state_sim['XZ']['11']*1)\n",
    "ryx_sim = (state_sim['YX']['00']*1 + state_sim['YX']['10']*(-1)+state_sim['YX']['01']*(-1)+state_sim['YX']['11']*1) /(state_sim['YX']['00']*1 + state_sim['YX']['10']*(1)+state_sim['YX']['01']*(1)+state_sim['YX']['11']*1)\n",
    "ryy_sim = (state_sim['YY']['00']*1 + state_sim['YY']['10']*(-1)+state_sim['YY']['01']*(-1)+state_sim['YY']['11']*1) /(state_sim['YY']['00']*1 + state_sim['YY']['10']*(1)+state_sim['YY']['01']*(1)+state_sim['YY']['11']*1)\n",
    "ryz_sim = (state_sim['YZ']['00']*1 + state_sim['YZ']['10']*(-1)+state_sim['YZ']['01']*(-1)+state_sim['YZ']['11']*1) /(state_sim['YZ']['00']*1 + state_sim['YZ']['10']*(1)+state_sim['YZ']['01']*(1)+state_sim['YZ']['11']*1)\n",
    "rzx_sim = (state_sim['ZX']['00']*1 + state_sim['ZX']['10']*(-1)+state_sim['ZX']['01']*(-1)+state_sim['ZX']['11']*1) /(state_sim['ZX']['00']*1 + state_sim['ZX']['10']*(1)+state_sim['ZX']['01']*(1)+state_sim['ZX']['11']*1)\n",
    "rzy_sim = (state_sim['ZY']['00']*1 + state_sim['ZY']['10']*(-1)+state_sim['ZY']['01']*(-1)+state_sim['ZY']['11']*1) /(state_sim['ZY']['00']*1 + state_sim['ZY']['10']*(1)+state_sim['ZY']['01']*(1)+state_sim['ZY']['11']*1)\n",
    "rzz_sim = (state_sim['ZZ']['00']*1 + state_sim['ZZ']['10']*(-1)+state_sim['ZZ']['01']*(-1)+state_sim['ZZ']['11']*1) /(state_sim['ZZ']['00']*1 + state_sim['ZZ']['10']*(1)+state_sim['ZZ']['01']*(1)+state_sim['ZZ']['11']*1)\n"
   ]
  },
  {
   "cell_type": "code",
   "execution_count": null,
   "metadata": {},
   "outputs": [],
   "source": [
    "#running on a real quantum device\n",
    "IBMQ.load_account()\n",
    "provider = IBMQ.get_provider('ibm-q')\n",
    "qcomp = provider.get_backend('ibmq_16_melbourne')\n",
    "job = execute(qc, qcomp, shots=1000)\n",
    "from qiskit.tools.monitor import job_monitor\n",
    "job_monitor(job)\n",
    "tom = StateTomographyFitter(job.result(), qc)"
   ]
  },
  {
   "cell_type": "code",
   "execution_count": null,
   "metadata": {},
   "outputs": [],
   "source": []
  },
  {
   "cell_type": "code",
   "execution_count": null,
   "metadata": {},
   "outputs": [],
   "source": [
    "#plotting the results of the real computation\n",
    "qcounts = qres.get_counts()\n",
    "print('The run counts are:', qcounts)\n",
    "plot_histogram([qcounts, simcounts], legend=['Device', 'Simulator'])"
   ]
  },
  {
   "cell_type": "code",
   "execution_count": null,
   "metadata": {},
   "outputs": [],
   "source": [
    "#noise mitigation\n",
    "from qiskit.ignis.mitigation.measurement import (complete_meas_cal, CompleteMeasFitter)\n",
    "\n",
    "cal_circuits, state_labels = complete_meas_cal(qr = qc.qregs[0], circlabel = 'measerrormitcal')\n",
    "cal_job = execute(cal_circuits,\n",
    "                 backend = qcomp,\n",
    "                 shots = 1024,\n",
    "                 optimization_level = 0,\n",
    "                 )\n",
    "\n",
    "#this part runs the predefined calibration circuits for the circuit size and monitors the job\n",
    "job_monitor(cal_job)\n",
    "calres = cal_job.result()\n",
    "\n",
    "#we use the calibration result to filter out our noisy results\n",
    "meas_fitter = CompleteMeasFitter(calres, state_labels)\n",
    "\n",
    "#filtering out noise from the quantum result\n",
    "meas_fitter.plot_calibration()\n",
    "meas_filter = meas_fitter.filter\n",
    "mitres = meas_filter.apply(qres)"
   ]
  },
  {
   "cell_type": "code",
   "execution_count": null,
   "metadata": {},
   "outputs": [],
   "source": [
    "#plotting the sim vs noisy results vs mitigated results\n",
    "mitcounts = mitres.get_counts(qc)\n",
    "plot_histogram([simcounts, qcounts, mitcounts], \n",
    "               legend = ['sim', 'noisy results', 'mitigated results'])"
   ]
  },
  {
   "cell_type": "code",
   "execution_count": null,
   "metadata": {},
   "outputs": [],
   "source": []
  }
 ],
 "metadata": {
  "kernelspec": {
   "display_name": "dev_qiskit",
   "language": "python",
   "name": "dev_qiskit"
  },
  "language_info": {
   "codemirror_mode": {
    "name": "ipython",
    "version": 3
   },
   "file_extension": ".py",
   "mimetype": "text/x-python",
   "name": "python",
   "nbconvert_exporter": "python",
   "pygments_lexer": "ipython3",
   "version": "3.7.4"
  }
 },
 "nbformat": 4,
 "nbformat_minor": 2
}
