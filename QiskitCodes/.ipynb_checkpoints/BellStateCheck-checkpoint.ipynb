{
 "cells": [
  {
   "cell_type": "code",
   "execution_count": null,
   "metadata": {},
   "outputs": [],
   "source": [
    "from qiskit import *\n",
    "from qiskit.visualization import plot_histogram"
   ]
  },
  {
   "cell_type": "code",
   "execution_count": null,
   "metadata": {},
   "outputs": [],
   "source": [
    "circ = QuantumCircuit(2,2)"
   ]
  },
  {
   "cell_type": "code",
   "execution_count": null,
   "metadata": {},
   "outputs": [],
   "source": [
    "circ.x(0)\n",
    "circ.h(0)\n",
    "circ.cx(0,1)\n",
    "circ.barrier()\n",
    "circ.measure([0,1],[0,1])\n",
    "circ.draw(output='mpl')"
   ]
  },
  {
   "cell_type": "code",
   "execution_count": null,
   "metadata": {},
   "outputs": [],
   "source": [
    "sim = Aer.get_backend('qasm_simulator')\n",
    "res = execute(circ, backend = sim, shots = 2048).result()\n",
    "plot_histogram(res.get_counts(circ))"
   ]
  },
  {
   "cell_type": "code",
   "execution_count": null,
   "metadata": {},
   "outputs": [],
   "source": [
    "IBMQ.load_account()\n",
    "provider = IBMQ.get_provider('ibm-q')\n",
    "qcomp = provider.get_backend('ibmq_16_melbourne')\n",
    "job = execute(circ, backend=qcomp)\n",
    "from qiskit.tools.monitor import job_monitor\n",
    "job_monitor(job)"
   ]
  },
  {
   "cell_type": "code",
   "execution_count": null,
   "metadata": {},
   "outputs": [],
   "source": [
    "qres = job.result()\n",
    "counts = qres.get_counts()\n",
    "print('The run counts are:', counts)\n",
    "plot_histogram([qres.get_counts(circ), res.get_counts(circ)], legend=['Device', 'Simulator'])"
   ]
  },
  {
   "cell_type": "code",
   "execution_count": null,
   "metadata": {},
   "outputs": [],
   "source": [
    "from qiskit.ignis.mitigation.measurement import (complete_meas_cal, CompleteMeasFitter)\n",
    "\n",
    "cal_circuits, state_labels = complete_meas_cal(qr = circ.qregs[0], circlabel = 'measerrormitcal')\n",
    "cal_job = execute(cal_circuits,\n",
    "                 backend = qcomp,\n",
    "                 shots = 1024,\n",
    "                 optimization_level = 0,\n",
    "                 )\n",
    "\n",
    "#this part runs the predefined calibration circuits for the circuit size and monitors the job\n",
    "job_monitor(cal_job)\n",
    "calres = cal_job.result()\n",
    "\n",
    "#we use the calibration result to filter out our noisy results\n",
    "meas_fitter = CompleteMeasFitter(calres, state_labels)\n",
    "\n",
    "#filtering out noise from the quantum result\n",
    "meas_fitter.plot_calibration()\n",
    "meas_filter = meas_fitter.filter\n",
    "mitres = meas_filter.apply(qres)"
   ]
  },
  {
   "cell_type": "code",
   "execution_count": null,
   "metadata": {},
   "outputs": [],
   "source": [
    "qcounts = qres.get_counts(c)\n",
    "mitcounts = mitres.get_counts(c)\n",
    "plot_histogram([counts, qcounts, mitcounts], legend = ['sim', 'noisy results', 'mitigated results'])"
   ]
  }
 ],
 "metadata": {
  "kernelspec": {
   "display_name": "Python 3",
   "language": "python",
   "name": "python3"
  },
  "language_info": {
   "codemirror_mode": {
    "name": "ipython",
    "version": 3
   },
   "file_extension": ".py",
   "mimetype": "text/x-python",
   "name": "python",
   "nbconvert_exporter": "python",
   "pygments_lexer": "ipython3",
   "version": "3.7.3"
  }
 },
 "nbformat": 4,
 "nbformat_minor": 2
}
