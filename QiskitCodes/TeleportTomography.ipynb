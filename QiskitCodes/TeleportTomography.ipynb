{
 "cells": [
  {
   "cell_type": "code",
   "execution_count": 1,
   "metadata": {},
   "outputs": [],
   "source": [
    "import numpy as np\n",
    "import pandas as pd\n",
    "from numpy import pi\n",
    "import qiskit\n",
    "from qiskit import execute, Aer\n",
    "from qiskit.visualization import plot_histogram\n",
    "from qiskit.tools.visualization import plot_state_city, plot_bloch_multivector\n",
    "from qiskit.tools.monitor import job_monitor\n",
    "from qiskit.quantum_info import state_fidelity\n",
    "from qiskit.quantum_info import DensityMatrix\n",
    "from qiskit.quantum_info.random.utils import random_state\n",
    "import random\n",
    "from qiskit import ClassicalRegister, QuantumRegister, QuantumCircuit, Aer\n",
    "%config InlineBackend.figure_format = 'svg' # Makes the images look nice\n",
    "\n",
    "# Tomography functions\n",
    "from qiskit.ignis.verification.tomography import state_tomography_circuits, StateTomographyFitter\n",
    "import qiskit.ignis.mitigation.measurement as mc"
   ]
  },
  {
   "cell_type": "code",
   "execution_count": 2,
   "metadata": {},
   "outputs": [
    {
     "ename": "NameError",
     "evalue": "name 'noise' is not defined",
     "output_type": "error",
     "traceback": [
      "\u001b[1;31m---------------------------------------------------------------------------\u001b[0m",
      "\u001b[1;31mNameError\u001b[0m                                 Traceback (most recent call last)",
      "\u001b[1;32m<ipython-input-2-05ca94d060b9>\u001b[0m in \u001b[0;36m<module>\u001b[1;34m\u001b[0m\n\u001b[0;32m      5\u001b[0m \u001b[0mdevice\u001b[0m \u001b[1;33m=\u001b[0m \u001b[0mibmq_provider\u001b[0m\u001b[1;33m.\u001b[0m\u001b[0mget_backend\u001b[0m\u001b[1;33m(\u001b[0m\u001b[1;34m'ibmq_ourense'\u001b[0m\u001b[1;33m)\u001b[0m \u001b[1;31m#ibmq_burlington ibmq_16_melbourne\u001b[0m\u001b[1;33m\u001b[0m\u001b[1;33m\u001b[0m\u001b[0m\n\u001b[0;32m      6\u001b[0m \u001b[0mproperties\u001b[0m \u001b[1;33m=\u001b[0m \u001b[0mdevice\u001b[0m\u001b[1;33m.\u001b[0m\u001b[0mproperties\u001b[0m\u001b[1;33m(\u001b[0m\u001b[1;33m)\u001b[0m\u001b[1;33m\u001b[0m\u001b[1;33m\u001b[0m\u001b[0m\n\u001b[1;32m----> 7\u001b[1;33m \u001b[0mnoise_model\u001b[0m \u001b[1;33m=\u001b[0m \u001b[0mnoise\u001b[0m\u001b[1;33m.\u001b[0m\u001b[0mdevice\u001b[0m\u001b[1;33m.\u001b[0m\u001b[0mbasic_device_noise_model\u001b[0m\u001b[1;33m(\u001b[0m\u001b[0mproperties\u001b[0m\u001b[1;33m)\u001b[0m\u001b[1;33m\u001b[0m\u001b[1;33m\u001b[0m\u001b[0m\n\u001b[0m\u001b[0;32m      8\u001b[0m \u001b[0mcoupling_map\u001b[0m \u001b[1;33m=\u001b[0m \u001b[0mdevice\u001b[0m\u001b[1;33m.\u001b[0m\u001b[0mconfiguration\u001b[0m\u001b[1;33m(\u001b[0m\u001b[1;33m)\u001b[0m\u001b[1;33m.\u001b[0m\u001b[0mcoupling_map\u001b[0m\u001b[1;33m\u001b[0m\u001b[1;33m\u001b[0m\u001b[0m\n\u001b[0;32m      9\u001b[0m \u001b[0mbasis_gates\u001b[0m \u001b[1;33m=\u001b[0m \u001b[0mnoise_model\u001b[0m\u001b[1;33m.\u001b[0m\u001b[0mbasis_gates\u001b[0m\u001b[1;33m\u001b[0m\u001b[1;33m\u001b[0m\u001b[0m\n",
      "\u001b[1;31mNameError\u001b[0m: name 'noise' is not defined"
     ]
    }
   ],
   "source": [
    "# imports IBMQ backends\n",
    "from qiskit.providers.ibmq import IBMQ\n",
    "ibmq_provider = IBMQ.load_account()        # credentials stored on disk\n",
    "simulator = ibmq_provider.get_backend('ibmq_qasm_simulator')\n",
    "device = ibmq_provider.get_backend('ibmq_ourense') #ibmq_burlington ibmq_16_melbourne\n",
    "properties = device.properties()\n",
    "noise_model = noise.device.basic_device_noise_model(properties)\n",
    "coupling_map = device.configuration().coupling_map\n",
    "basis_gates = noise_model.basis_gates"
   ]
  },
  {
   "cell_type": "code",
   "execution_count": null,
   "metadata": {
    "scrolled": false
   },
   "outputs": [],
   "source": [
    "R=[]\n",
    "n=3\n",
    "qreg = QuantumRegister(n)\n",
    "for i in range(3):\n",
    "    R.append(random.randint(1,10))\n",
    "qreg_exp = QuantumRegister(1)\n",
    "qc_expected = QuantumCircuit(qreg_exp)\n",
    "qc_expected.rx(pi/10*R[0],0)\n",
    "qc_expected.ry(pi/10*R[1],0)\n",
    "qc_expected.rz(pi/10*R[2],0)\n",
    "#qc_expected.x(0)\n",
    "qc_expected.draw(output='mpl')\n"
   ]
  },
  {
   "cell_type": "code",
   "execution_count": null,
   "metadata": {},
   "outputs": [],
   "source": [
    "job = qiskit.execute(qc_expected, Aer.get_backend('statevector_simulator'))\n",
    "psi_expected = job.result().get_statevector(qc_expected)\n",
    "print('The expected state is:', psi_expected)\n",
    "plot_state_city(psi_expected, title='Expected state')"
   ]
  },
  {
   "cell_type": "code",
   "execution_count": null,
   "metadata": {},
   "outputs": [],
   "source": [
    "simulatorvec = Aer.get_backend('statevector_simulator')\n",
    "result = execute(qc_expected, backend = simulatorvec).result()\n",
    "statevector = result.get_statevector()\n",
    "print(statevector)\n",
    "%matplotlib inline\n",
    "plot_bloch_multivector(statevector)"
   ]
  },
  {
   "cell_type": "code",
   "execution_count": null,
   "metadata": {
    "scrolled": false
   },
   "outputs": [],
   "source": [
    "qc1 = QuantumCircuit(qreg)\n",
    "qc1.rx(pi/10*R[0],0)\n",
    "qc1.ry(pi/10*R[1],0)\n",
    "qc1.rz(pi/10*R[2],0)\n",
    "#qc1.x(0)\n",
    "qc1.barrier()\n",
    "qc1.h(1)\n",
    "qc1.cx(1,2)\n",
    "qc1.barrier()\n",
    "qc1.cx(0,1)\n",
    "qc1.h(0)\n",
    "qc1.barrier()\n",
    "qc1.draw(output='mpl')"
   ]
  },
  {
   "cell_type": "code",
   "execution_count": null,
   "metadata": {},
   "outputs": [],
   "source": [
    "qc2 = QuantumCircuit(qreg)\n",
    "qc3 = QuantumCircuit(qreg)\n",
    "qc4 = QuantumCircuit(qreg)\n",
    "qcs = [qc1, qc2, qc3, qc4]\n",
    "for qc in range(3):\n",
    "    q2 = QuantumCircuit(qreg)\n",
    "    if qc == 0 or qc == 2:\n",
    "        q2.z(2)\n",
    "    if qc == 1 or qc == 2:\n",
    "        q2.x(2)\n",
    "    qcs[qc+1]= qcs[0] +q2\n",
    "qcs[1].draw(output='mpl')"
   ]
  },
  {
   "cell_type": "code",
   "execution_count": null,
   "metadata": {},
   "outputs": [],
   "source": [
    "#mitigation measurement\n",
    "from qiskit.ignis.mitigation.measurement import (complete_meas_cal, CompleteMeasFitter)\n",
    "cal_circuits, state_labels = complete_meas_cal(qr = qc1.qregs[0], circlabel = 'measerrormitcal')\n",
    "cal_job = execute(cal_circuits,backend = device,shots = 2000,optimization_level = 0)\n",
    "job_monitor(cal_job)\n",
    "calres = cal_job.result()"
   ]
  },
  {
   "cell_type": "code",
   "execution_count": null,
   "metadata": {},
   "outputs": [],
   "source": [
    "meas_fitter = CompleteMeasFitter(calres, state_labels)\n",
    "meas_fitter.plot_calibration()\n",
    "meas_filter = meas_fitter.filter\n",
    "counts =[0,0,0,0,0,0,0,0]\n",
    "bits = [ '000', '100', '001', '101', '010', '110', '011', '111']\n",
    "for i in range(0,8):\n",
    "    counts[i]=calres.get_counts(cal_circuits[i])\n",
    "    for bit in bits:\n",
    "        if bit not in counts[i]:\n",
    "            counts[i][bit] = 0\n",
    "countsdev = {'00':counts[0][\"000\"]+counts[0][\"001\"]+counts[0][\"010\"]+counts[0][\"011\"]+\n",
    "             counts[1][\"000\"]+counts[1][\"001\"]+counts[1][\"010\"]+counts[1][\"011\"]+\n",
    "             counts[2][\"000\"]+counts[2][\"001\"]+counts[2][\"010\"]+counts[2][\"011\"]+\n",
    "             counts[3][\"000\"]+counts[3][\"001\"]+counts[3][\"010\"]+counts[3][\"011\"],\n",
    "             '01':counts[0][\"100\"]+counts[0][\"101\"]+counts[0][\"110\"]+counts[0][\"111\"]+\n",
    "             counts[1][\"100\"]+counts[1][\"101\"]+counts[1][\"110\"]+counts[1][\"111\"]+\n",
    "             counts[2][\"100\"]+counts[2][\"101\"]+counts[2][\"110\"]+counts[2][\"111\"]+\n",
    "             counts[3][\"100\"]+counts[3][\"101\"]+counts[3][\"110\"]+counts[3][\"111\"],\n",
    "             '10':counts[4][\"000\"]+counts[4][\"001\"]+counts[4][\"010\"]+counts[4][\"011\"]+\n",
    "             counts[5][\"000\"]+counts[5][\"001\"]+counts[5][\"010\"]+counts[5][\"011\"]+\n",
    "             counts[6][\"000\"]+counts[6][\"001\"]+counts[6][\"010\"]+counts[6][\"011\"]+\n",
    "             counts[7][\"000\"]+counts[7][\"001\"]+counts[7][\"010\"]+counts[7][\"011\"],\n",
    "             '11':counts[4][\"100\"]+counts[4][\"101\"]+counts[4][\"110\"]+counts[4][\"111\"]+\n",
    "             counts[5][\"100\"]+counts[5][\"101\"]+counts[5][\"110\"]+counts[5][\"111\"]+\n",
    "             counts[6][\"100\"]+counts[6][\"101\"]+counts[6][\"110\"]+counts[6][\"111\"]+\n",
    "             counts[7][\"100\"]+counts[7][\"101\"]+counts[7][\"110\"]+counts[7][\"111\"]}\n",
    "epsilon01=countsdev[\"01\"]/1600\n",
    "epsilon10=countsdev[\"10\"]/1600\n",
    "beta0=(epsilon10-epsilon01)\n",
    "beta1=1-epsilon10-epsilon01\n",
    "plot_histogram(countsdev)"
   ]
  },
  {
   "cell_type": "code",
   "execution_count": null,
   "metadata": {},
   "outputs": [],
   "source": [
    "backends = [simulator, device,0]\n",
    "paulis = [('Z','Z','X'),('Z','Z','Y'),('Z','Z','Z')]\n",
    "basis = ['X','Y','Z']\n",
    "result =[0,0,0,0]\n",
    "x=0\n",
    "for be in backends:\n",
    "    state = {'X': {'0': 0, '1': 0}, 'Y': {'0': 0, '1': 0}, 'Z': {'0': 0, '1': 0}}\n",
    "    z=0\n",
    "    for qc in qcs:\n",
    "        qst_circuit = state_tomography_circuits(qc,qreg)\n",
    "        if be == simulator:\n",
    "            job = qiskit.execute(qst_circuit, be, shots=1000,noise_model=noise_model, coupling_map=coupling_map, basis_gates=basis_gates)\n",
    "        if be == device:\n",
    "            job = qiskit.execute(qst_circuit, be, shots=1000)\n",
    "            job_monitor(job)\n",
    "            result[x] = job.result()\n",
    "            x=x+1\n",
    "        if be == 0:\n",
    "            tom = StateTomographyFitter(meas_filter.apply(result[x]),qst_circuit)\n",
    "            x=x+1\n",
    "        else:\n",
    "            tom = StateTomographyFitter(job.result(), qst_circuit)\n",
    "        for pauli in paulis:\n",
    "            for bit in bits:\n",
    "                if bit not in tom.data[pauli]:\n",
    "                    tom.data[pauli][bit]=0\n",
    "        y=0\n",
    "        for bas in basis:\n",
    "            state.update({bas: {'0': state[bas]['0']+tom.data[(paulis[y])][bits[2*z]],\n",
    "                                '1': state[bas]['1']+tom.data[(paulis[y])][bits[2*z+1]]}})\n",
    "            y=y+1\n",
    "        z=z+1\n",
    "    if be == simulator:\n",
    "        state_sim = state\n",
    "        print('The full state for simulator is', state)\n",
    "    if be == device:\n",
    "        state_dev = state\n",
    "        print('The full state for device is', state)\n",
    "        x=0\n",
    "    if be == 0:\n",
    "        state_err = state\n",
    "        print('The corrected state for device is', state)"
   ]
  },
  {
   "cell_type": "code",
   "execution_count": null,
   "metadata": {},
   "outputs": [],
   "source": [
    "(state_dev['Z']['0']-state_dev['Z']['1'])/(state_dev['Z']['0']+state_dev['Z']['1'])\n",
    "new_dev=((state_dev['Z']['0']-state_dev['Z']['1'])/(state_dev['Z']['0']+state_dev['Z']['1'])-beta0)/beta1\n",
    "newstate_dev=state_dev\n",
    "for bas in basis:\n",
    "    newstate_dev[bas]['0']=((new_dev+1)/2)*state_dev[bas]['0']\n",
    "    newstate_dev[bas]['1']=(1-(new_dev+1)/2)*state_dev[bas]['1']"
   ]
  },
  {
   "cell_type": "code",
   "execution_count": null,
   "metadata": {},
   "outputs": [],
   "source": [
    "# fidelity processing for sim and dev\n",
    "\n",
    "Iden = np.matrix('1,0;0,1')\n",
    "XPaul = np.matrix('0,1;1,0')\n",
    "YPaul = np.matrix('0,0-1j;0+1j,0')\n",
    "ZPaul = np.matrix('1,0;0,-1')\n",
    "\n",
    "# simulator Bloch vector\n",
    "state_tot=[state_sim,state_dev,state_err]\n",
    "r_sim=[0,0,0]\n",
    "rho=[0,0,0]\n",
    "t=0\n",
    "for stat in state_tot:\n",
    "    r=0\n",
    "    for bas in basis:\n",
    "        r_sim[r] = (stat[bas]['0']*1 + stat[bas]['1']*(-1)) / (stat[bas]['0'] + stat[bas]['1'])\n",
    "        r=r+1\n",
    "    rho[t] = (1/2)*(Iden+r_sim[0]*XPaul+r_sim[1]*YPaul+r_sim[2]*ZPaul)\n",
    "    t=t+1"
   ]
  },
  {
   "cell_type": "code",
   "execution_count": null,
   "metadata": {},
   "outputs": [],
   "source": [
    "# these plots look a little funny for secret_h at least\n",
    "plot_state_city(rho[0], title='Simulator Density Matrix')"
   ]
  },
  {
   "cell_type": "code",
   "execution_count": null,
   "metadata": {},
   "outputs": [],
   "source": [
    "plot_state_city(rho[1] , title='Device Density Matrix')"
   ]
  },
  {
   "cell_type": "code",
   "execution_count": null,
   "metadata": {},
   "outputs": [],
   "source": [
    "plot_state_city(rho[2], title='Device Corrected Density Matrix')"
   ]
  },
  {
   "cell_type": "code",
   "execution_count": null,
   "metadata": {},
   "outputs": [],
   "source": [
    "Sim_Fidelity = state_fidelity(psi_expected, rho[0], validate=False)\n",
    "Dev_Fidelity = state_fidelity(psi_expected, rho[1], validate=False)\n",
    "Err_Fidelity = state_fidelity(psi_expected, rho[2], validate=False)\n",
    "print('Simulator Fidelity:', Sim_Fidelity)\n",
    "print('Device Fidelity:', Dev_Fidelity)\n",
    "print('Corrected Device Fidelity:', Err_Fidelity)"
   ]
  },
  {
   "cell_type": "code",
   "execution_count": null,
   "metadata": {},
   "outputs": [],
   "source": [
    "# checking validity of the density matrices, little problem with the simulator one...\n",
    "rho_dev = DensityMatrix(rho[0])\n",
    "rho_sim = DensityMatrix(rho[2])"
   ]
  },
  {
   "cell_type": "code",
   "execution_count": null,
   "metadata": {},
   "outputs": [],
   "source": [
    "print('Is the simulator density matrix valid?', rho_sim.is_valid())\n",
    "print('Is the device density matrix valid?', rho_dev.is_valid())"
   ]
  },
  {
   "cell_type": "code",
   "execution_count": null,
   "metadata": {},
   "outputs": [],
   "source": [
    "import qiskit.tools.jupyter\n",
    "%qiskit_version_table"
   ]
  },
  {
   "cell_type": "code",
   "execution_count": null,
   "metadata": {},
   "outputs": [],
   "source": []
  }
 ],
 "metadata": {
  "kernelspec": {
   "display_name": "Python 3",
   "language": "python",
   "name": "python3"
  },
  "language_info": {
   "codemirror_mode": {
    "name": "ipython",
    "version": 3
   },
   "file_extension": ".py",
   "mimetype": "text/x-python",
   "name": "python",
   "nbconvert_exporter": "python",
   "pygments_lexer": "ipython3",
   "version": "3.7.4"
  }
 },
 "nbformat": 4,
 "nbformat_minor": 2
}
