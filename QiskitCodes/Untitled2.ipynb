{
 "cells": [
  {
   "cell_type": "code",
   "execution_count": 1,
   "metadata": {},
   "outputs": [],
   "source": [
    "from qiskit import *"
   ]
  },
  {
   "cell_type": "code",
   "execution_count": 2,
   "metadata": {},
   "outputs": [],
   "source": [
    "c = QuantumCircuit(3,3)"
   ]
  },
  {
   "cell_type": "code",
   "execution_count": 3,
   "metadata": {},
   "outputs": [
    {
     "data": {
      "text/plain": [
       "<qiskit.circuit.instructionset.InstructionSet at 0x1c7684cbbe0>"
      ]
     },
     "execution_count": 3,
     "metadata": {},
     "output_type": "execute_result"
    }
   ],
   "source": [
    "c.h(range(3))"
   ]
  },
  {
   "cell_type": "code",
   "execution_count": 4,
   "metadata": {},
   "outputs": [
    {
     "data": {
      "text/plain": [
       "<qiskit.circuit.instructionset.InstructionSet at 0x1c7684cbeb8>"
      ]
     },
     "execution_count": 4,
     "metadata": {},
     "output_type": "execute_result"
    }
   ],
   "source": [
    "c.ccx(0,1,2)"
   ]
  },
  {
   "cell_type": "code",
   "execution_count": 6,
   "metadata": {},
   "outputs": [
    {
     "data": {
      "text/html": [
       "<pre style=\"word-wrap: normal;white-space: pre;background: #fff0;line-height: 1.1;font-family: &quot;Courier New&quot;,Courier,monospace\">        ┌───┐     \n",
       "q_0: |0>┤ H ├──■──\n",
       "        ├───┤  │  \n",
       "q_1: |0>┤ H ├──■──\n",
       "        ├───┤┌─┴─┐\n",
       "q_2: |0>┤ H ├┤ X ├\n",
       "        └───┘└───┘\n",
       " c_0: 0 ══════════\n",
       "                  \n",
       " c_1: 0 ══════════\n",
       "                  \n",
       " c_2: 0 ══════════\n",
       "                  </pre>"
      ],
      "text/plain": [
       "<qiskit.visualization.text.TextDrawing at 0x1c7684cb6d8>"
      ]
     },
     "execution_count": 6,
     "metadata": {},
     "output_type": "execute_result"
    }
   ],
   "source": [
    "c.draw()"
   ]
  },
  {
   "cell_type": "code",
   "execution_count": 7,
   "metadata": {},
   "outputs": [
    {
     "name": "stdout",
     "output_type": "stream",
     "text": [
      "Job Status: job has successfully run\n"
     ]
    }
   ],
   "source": [
    "IBMQ.load_account()\n",
    "provider = IBMQ.get_provider('ibm-q')\n",
    "qcomp = provider.get_backend('ibmq_16_melbourne')\n",
    "job = execute(c, backend = qcomp, shots = 1024)\n",
    "from qiskit.tools.monitor import job_monitor\n",
    "job_monitor(job)"
   ]
  },
  {
   "cell_type": "code",
   "execution_count": null,
   "metadata": {},
   "outputs": [],
   "source": [
    "def black_box_u_f(circuit, f_in, f_out, aux, n, exactly_1_3_sat_formula):\n",
    "    \"\"\"Circuit that computes the black-box function from f_in to f_out.\n",
    "\n",
    "    Create a circuit that verifies whether a given exactly-1 3-SAT\n",
    "    formula is satisfied by the input. The exactly-1 version\n",
    "    requires exactly one literal out of every clause to be satisfied.\n",
    "    \"\"\"\n",
    "    num_clauses = len(exactly_1_3_sat_formula)\n",
    "    for (k, clause) in enumerate(exactly_1_3_sat_formula):\n",
    "        # This loop ensures aux[k] is 1 if an odd number of literals\n",
    "        # are true\n",
    "        for literal in clause:\n",
    "            if literal > 0:\n",
    "                circuit.cx(f_in[literal-1], aux[k])\n",
    "            else:\n",
    "                circuit.x(f_in[-literal-1])\n",
    "                circuit.cx(f_in[-literal-1], aux[k])\n",
    "        # Flip aux[k] if all literals are true, using auxiliary qubit\n",
    "        # (ancilla) aux[num_clauses]\n",
    "        circuit.ccx(f_in[0], f_in[1], aux[num_clauses])\n",
    "        circuit.ccx(f_in[2], aux[num_clauses], aux[k])\n",
    "        # Flip back to reverse state of negative literals and ancilla\n",
    "        circuit.ccx(f_in[0], f_in[1], aux[num_clauses])\n",
    "        for literal in clause:\n",
    "            if literal < 0:\n",
    "                circuit.x(f_in[-literal-1])\n",
    "    # The formula is satisfied if and only if all auxiliary qubits\n",
    "    # except aux[num_clauses] are 1\n",
    "    if (num_clauses == 1):\n",
    "        circuit.cx(aux[0], f_out[0])\n",
    "    elif (num_clauses == 2):\n",
    "        circuit.ccx(aux[0], aux[1], f_out[0])\n",
    "    elif (num_clauses == 3):\n",
    "        circuit.ccx(aux[0], aux[1], aux[num_clauses])\n",
    "        circuit.ccx(aux[2], aux[num_clauses], f_out[0])\n",
    "        circuit.ccx(aux[0], aux[1], aux[num_clauses])\n",
    "    else:\n",
    "        raise ValueError('We only allow at most 3 clauses')\n",
    "    # Flip back any auxiliary qubits to make sure state is consistent\n",
    "    # for future executions of this routine; same loop as above.\n",
    "    for (k, clause) in enumerate(exactly_1_3_sat_formula):\n",
    "        for literal in clause:\n",
    "            if literal > 0:\n",
    "                circuit.cx(f_in[literal-1], aux[k])\n",
    "            else:\n",
    "                circuit.x(f_in[-literal-1])\n",
    "                circuit.cx(f_in[-literal-1], aux[k])\n",
    "        circuit.ccx(f_in[0], f_in[1], aux[num_clauses])\n",
    "        circuit.ccx(f_in[2], aux[num_clauses], aux[k])\n",
    "        circuit.ccx(f_in[0], f_in[1], aux[num_clauses])\n",
    "        for literal in clause:\n",
    "            if literal < 0:\n",
    "                circuit.x(f_in[-literal-1])\n",
    "# -- end function\n",
    "\n",
    "def n_controlled_Z(circuit, controls, target):\n",
    "    \"\"\"Implement a Z gate with multiple controls\"\"\"\n",
    "    if (len(controls) > 2):\n",
    "        raise ValueError('The controlled Z with more than 2 ' +\n",
    "                         'controls is not implemented')\n",
    "    elif (len(controls) == 1):\n",
    "        circuit.h(target)\n",
    "        circuit.cx(controls[0], target)\n",
    "        circuit.h(target)\n",
    "    elif (len(controls) == 2):\n",
    "        circuit.h(target)\n",
    "        circuit.ccx(controls[0], controls[1], target)\n",
    "        circuit.h(target)\n",
    "# -- end function\n",
    "\n",
    "def inversion_about_average(circuit, f_in, n):\n",
    "    \"\"\"Apply inversion about the average step of Grover's algorithm.\"\"\"\n",
    "    # Hadamards everywhere\n",
    "    for j in range(n):\n",
    "        circuit.h(f_in[j])\n",
    "    # D matrix: flips the sign of the state |000> only\n",
    "    for j in range(n):\n",
    "        circuit.x(f_in[j])\n",
    "    n_controlled_Z(circuit, [f_in[j] for j in range(n-1)], f_in[n-1])\n",
    "    for j in range(n):\n",
    "        circuit.x(f_in[j])\n",
    "    # Hadamards everywhere again\n",
    "    for j in range(n):\n",
    "        circuit.h(f_in[j])\n",
    "# -- end function"
   ]
  }
 ],
 "metadata": {
  "kernelspec": {
   "display_name": "Python 3",
   "language": "python",
   "name": "python3"
  },
  "language_info": {
   "codemirror_mode": {
    "name": "ipython",
    "version": 3
   },
   "file_extension": ".py",
   "mimetype": "text/x-python",
   "name": "python",
   "nbconvert_exporter": "python",
   "pygments_lexer": "ipython3",
   "version": "3.7.5"
  }
 },
 "nbformat": 4,
 "nbformat_minor": 2
}
