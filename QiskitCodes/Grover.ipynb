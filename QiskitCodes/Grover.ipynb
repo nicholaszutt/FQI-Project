{
 "cells": [
  {
   "cell_type": "code",
   "execution_count": 1,
   "metadata": {},
   "outputs": [
    {
     "ename": "ModuleNotFoundError",
     "evalue": "No module named 'qiskit'",
     "output_type": "error",
     "traceback": [
      "\u001b[0;31m---------------------------------------------------------------------------\u001b[0m",
      "\u001b[0;31mModuleNotFoundError\u001b[0m                       Traceback (most recent call last)",
      "\u001b[0;32m<ipython-input-1-a215a814bc92>\u001b[0m in \u001b[0;36m<module>\u001b[0;34m\u001b[0m\n\u001b[1;32m      1\u001b[0m \u001b[0;32mimport\u001b[0m \u001b[0mnumpy\u001b[0m \u001b[0;32mas\u001b[0m \u001b[0mnp\u001b[0m\u001b[0;34m\u001b[0m\u001b[0;34m\u001b[0m\u001b[0m\n\u001b[0;32m----> 2\u001b[0;31m \u001b[0;32mfrom\u001b[0m \u001b[0mqiskit\u001b[0m \u001b[0;32mimport\u001b[0m \u001b[0;34m*\u001b[0m\u001b[0;34m\u001b[0m\u001b[0;34m\u001b[0m\u001b[0m\n\u001b[0m\u001b[1;32m      3\u001b[0m \u001b[0;32mfrom\u001b[0m \u001b[0mqiskit\u001b[0m\u001b[0;34m.\u001b[0m\u001b[0mquantum_info\u001b[0m\u001b[0;34m.\u001b[0m\u001b[0moperators\u001b[0m \u001b[0;32mimport\u001b[0m \u001b[0mOperator\u001b[0m\u001b[0;34m,\u001b[0m \u001b[0mPauli\u001b[0m\u001b[0;34m\u001b[0m\u001b[0;34m\u001b[0m\u001b[0m\n\u001b[1;32m      4\u001b[0m \u001b[0;32mfrom\u001b[0m \u001b[0mqiskit\u001b[0m\u001b[0;34m.\u001b[0m\u001b[0mtools\u001b[0m\u001b[0;34m.\u001b[0m\u001b[0mvisualization\u001b[0m \u001b[0;32mimport\u001b[0m \u001b[0mplot_histogram\u001b[0m\u001b[0;34m\u001b[0m\u001b[0;34m\u001b[0m\u001b[0m\n",
      "\u001b[0;31mModuleNotFoundError\u001b[0m: No module named 'qiskit'"
     ]
    }
   ],
   "source": [
    "import numpy as np\n",
    "from qiskit import *\n",
    "from qiskit.quantum_info.operators import Operator, Pauli\n",
    "from qiskit.tools.visualization import plot_histogram"
   ]
  },
  {
   "cell_type": "code",
   "execution_count": null,
   "metadata": {},
   "outputs": [],
   "source": [
    "c = QuantumCircuit(2,2)\n",
    "c.h(0)\n",
    "c.h(1)\n",
    "Grov = Operator([[-1, 0,  0, 0], \n",
    "                 [0, 1,  0, 0], \n",
    "                 [0, 0, 1, 0], \n",
    "                 [0, 0,  0, 1]])\n",
    "c.append(Grov,[0,1])"
   ]
  },
  {
   "cell_type": "code",
   "execution_count": null,
   "metadata": {
    "scrolled": true
   },
   "outputs": [],
   "source": [
    "c.barrier()\n",
    "MeanInv = Operator([[-1/2,  1/2,  1/2,  1/2], \n",
    "                    [ 1/2, -1/2,  1/2,  1/2], \n",
    "                    [ 1/2,  1/2, -1/2,  1/2], \n",
    "                    [ 1/2,  1/2,  1/2, -1/2]])\n",
    "c.append(MeanInv,[0,1])\n",
    "c.barrier()\n",
    "c.measure([0,1],[0,1])\n",
    "c.draw(output='mpl')"
   ]
  },
  {
   "cell_type": "code",
   "execution_count": null,
   "metadata": {},
   "outputs": [],
   "source": [
    "#simulate on qiskit aer\n",
    "sim = Aer.get_backend('qasm_simulator')\n",
    "res = execute(c, backend = sim, shots = 1024).result()\n",
    "\n",
    "#writing something to plot the simulation results on a histogram\n",
    "plot_histogram(res.get_counts(c))"
   ]
  },
  {
   "cell_type": "code",
   "execution_count": null,
   "metadata": {},
   "outputs": [],
   "source": [
    "#running on a real quantum device\n",
    "IBMQ.load_account()\n",
    "provider = IBMQ.get_provider('ibm-q')\n",
    "qcomp = provider.get_backend('ibmq_ourense')\n",
    "job = execute(c, backend=qcomp)\n",
    "from qiskit.tools.monitor import job_monitor\n",
    "job_monitor(job)"
   ]
  },
  {
   "cell_type": "code",
   "execution_count": null,
   "metadata": {},
   "outputs": [],
   "source": [
    "#plotting the results of the real computation\n",
    "qres = job.result()\n",
    "counts = qres.get_counts()\n",
    "print('The run counts are:', counts)\n",
    "plot_histogram([qres.get_counts(c), res.get_counts(c)], legend=['Device', 'Simulator'])"
   ]
  },
  {
   "cell_type": "code",
   "execution_count": null,
   "metadata": {},
   "outputs": [],
   "source": [
    "#noise mitigation\n",
    "from qiskit.ignis.mitigation.measurement import (complete_meas_cal, CompleteMeasFitter)\n",
    "\n",
    "cal_circuits, state_labels = complete_meas_cal(qr = c.qregs[0], circlabel = 'measerrormitcal')\n",
    "cal_job = execute(cal_circuits,\n",
    "                 backend = qcomp,\n",
    "                 shots = 1024,\n",
    "                 optimization_level = 0,\n",
    "                 )\n",
    "\n",
    "#this part runs the predefined calibration circuits for the circuit size and monitors the job\n",
    "job_monitor(cal_job)\n",
    "calres = cal_job.result()\n",
    "\n",
    "#we use the calibration result to filter out our noisy results\n",
    "meas_fitter = CompleteMeasFitter(calres, state_labels)\n",
    "\n",
    "#filtering out noise from the quantum result\n",
    "meas_fitter.plot_calibration()\n",
    "meas_filter = meas_fitter.filter\n",
    "mitres = meas_filter.apply(qres)"
   ]
  },
  {
   "cell_type": "code",
   "execution_count": null,
   "metadata": {},
   "outputs": [],
   "source": [
    "#plotting the sim vs noisy results vs mitigated results\n",
    "qcounts = qres.get_counts(c)\n",
    "mitcounts = mitres.get_counts(c)\n",
    "plot_histogram([counts, qcounts, mitcounts], legend = ['sim', 'noisy results', 'mitigated results'])"
   ]
  },
  {
   "cell_type": "code",
   "execution_count": null,
   "metadata": {},
   "outputs": [],
   "source": []
  }
 ],
 "metadata": {
  "kernelspec": {
   "display_name": "Python 3",
   "language": "python",
   "name": "python3"
  },
  "language_info": {
   "codemirror_mode": {
    "name": "ipython",
    "version": 3
   },
   "file_extension": ".py",
   "mimetype": "text/x-python",
   "name": "python",
   "nbconvert_exporter": "python",
   "pygments_lexer": "ipython3",
   "version": "3.7.5"
  }
 },
 "nbformat": 4,
 "nbformat_minor": 2
}
