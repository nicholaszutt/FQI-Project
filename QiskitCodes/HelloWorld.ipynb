{
 "cells": [
  {
   "cell_type": "code",
   "execution_count": 1,
   "metadata": {},
   "outputs": [],
   "source": [
    "#import all modules etc from qiskit\n",
    "from qiskit import *"
   ]
  },
  {
   "cell_type": "code",
   "execution_count": 2,
   "metadata": {},
   "outputs": [
    {
     "data": {
      "image/png": "[encoded data removed]",
      "text/plain": [
       "<Figure size 397.32x204.68 with 1 Axes>"
      ]
     },
     "execution_count": 2,
     "metadata": {},
     "output_type": "execute_result"
    }
   ],
   "source": [
    "#creating the circuit which we will use to create a Bell State\n",
    "c = QuantumCircuit(2,2)\n",
    "c.h(0)\n",
    "c.cx(0,1)\n",
    "c.measure([0,1],[0,1])\n",
    "c.draw(output='mpl')"
   ]
  },
  {
   "cell_type": "code",
   "execution_count": 3,
   "metadata": {},
   "outputs": [
    {
     "data": {
      "image/png": "[encoded data removed]",
      "text/plain": [
       "<Figure size 504x360 with 1 Axes>"
      ]
     },
     "execution_count": 3,
     "metadata": {},
     "output_type": "execute_result"
    }
   ],
   "source": [
    "#simulate on qiskit aer\n",
    "sim = Aer.get_backend('qasm_simulator')\n",
    "res = execute(c, backend = sim).result()\n",
    "counts = res.get_counts(c)\n",
    "\n",
    "#writing something to plot the simulation results on a histogram\n",
    "from qiskit.tools.visualization import plot_histogram\n",
    "plot_histogram(res.get_counts(c))"
   ]
  },
  {
   "cell_type": "code",
   "execution_count": null,
   "metadata": {},
   "outputs": [
    {
     "name": "stdout",
     "output_type": "stream",
     "text": [
      "Job Status: job is queued (6)       "
     ]
    }
   ],
   "source": [
    "#running on a real quantum device\n",
    "IBMQ.load_account()\n",
    "provider = IBMQ.get_provider('ibm-q')\n",
    "qcomp = provider.get_backend('ibmq_london')\n",
    "job = execute(c, backend=qcomp)\n",
    "from qiskit.tools.monitor import job_monitor\n",
    "job_monitor(job)"
   ]
  },
  {
   "cell_type": "code",
   "execution_count": null,
   "metadata": {},
   "outputs": [],
   "source": [
    "#plotting the results of the real computation\n",
    "qres = job.result()\n",
    "plot_histogram(qres.get_counts(c))"
   ]
  },
  {
   "cell_type": "code",
   "execution_count": null,
   "metadata": {},
   "outputs": [],
   "source": [
    "#plotting results of real quantum vs simulator\n",
    "plot_histogram([qres.get_counts(c), res.get_counts(c)], legend=['Device', 'Simulator'])"
   ]
  },
  {
   "cell_type": "code",
   "execution_count": null,
   "metadata": {},
   "outputs": [],
   "source": [
    "#noise mitigation\n",
    "from qiskit.ignis.mitigation.measurement import (complete_meas_cal, CompleteMeasFitter)\n",
    "\n",
    "cal_circuits, state_labels = complete_meas_cal(qr = c.qregs[0], circlabel = 'measerrormitcal')\n",
    "cal_job = execute(cal_circuits,\n",
    "                 backend = qcomp,\n",
    "                 shots = 1024,\n",
    "                 optimization_level = 0,\n",
    "                 )\n",
    "\n",
    "#this part runs the predefined calibration circuits for the circuit size and monitors the job\n",
    "job_monitor(cal_job)\n",
    "calres = cal_job.result()\n",
    "\n",
    "#we use the calibration result to filter out our noisy results\n",
    "meas_fitter = CompleteMeasFitter(calres, state_labels)\n",
    "\n",
    "#filtering out noise from the quantum result\n",
    "meas_fitter.plot_calibration()\n",
    "meas_filter = meas_fitter.filter\n",
    "mitres = meas_filter.apply(qres)"
   ]
  },
  {
   "cell_type": "code",
   "execution_count": null,
   "metadata": {},
   "outputs": [],
   "source": [
    "#plotting the noisy vs mitigated results\n",
    "qcounts = qres.get_counts(c)\n",
    "mitcounts = mitres.get_counts(c)\n",
    "plot_histogram([counts, qcounts, mitcounts], legend = ['sim', 'noisy results', 'mitigated results'])"
   ]
  },
  {
   "cell_type": "code",
   "execution_count": null,
   "metadata": {},
   "outputs": [],
   "source": []
  }
 ],
 "metadata": {
  "kernelspec": {
   "display_name": "Python 3",
   "language": "python",
   "name": "python3"
  },
  "language_info": {
   "codemirror_mode": {
    "name": "ipython",
    "version": 3
   },
   "file_extension": ".py",
   "mimetype": "text/x-python",
   "name": "python",
   "nbconvert_exporter": "python",
   "pygments_lexer": "ipython3",
   "version": "3.7.3"
  }
 },
 "nbformat": 4,
 "nbformat_minor": 2
}
